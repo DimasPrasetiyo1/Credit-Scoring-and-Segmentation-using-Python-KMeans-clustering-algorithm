{
 "cells": [
  {
   "cell_type": "code",
   "execution_count": 56,
   "metadata": {},
   "outputs": [],
   "source": [
    "import pandas as pd\n",
    "import numpy as np\n",
    "import matplotlib.pyplot as plt\n",
    "import seaborn as sns\n",
    "import plotly.express as px\n",
    "import plotly.graph_objects as go\n",
    "import plotly.io as pio\n",
    "%matplotlib inline"
   ]
  },
  {
   "cell_type": "code",
   "execution_count": 57,
   "metadata": {},
   "outputs": [],
   "source": [
    "df = pd.read_csv(\"credit_scoring.csv\")"
   ]
  },
  {
   "cell_type": "code",
   "execution_count": 58,
   "metadata": {},
   "outputs": [
    {
     "data": {
      "text/html": [
       "<div>\n",
       "<style scoped>\n",
       "    .dataframe tbody tr th:only-of-type {\n",
       "        vertical-align: middle;\n",
       "    }\n",
       "\n",
       "    .dataframe tbody tr th {\n",
       "        vertical-align: top;\n",
       "    }\n",
       "\n",
       "    .dataframe thead th {\n",
       "        text-align: right;\n",
       "    }\n",
       "</style>\n",
       "<table border=\"1\" class=\"dataframe\">\n",
       "  <thead>\n",
       "    <tr style=\"text-align: right;\">\n",
       "      <th></th>\n",
       "      <th>Age</th>\n",
       "      <th>Gender</th>\n",
       "      <th>Marital Status</th>\n",
       "      <th>Education Level</th>\n",
       "      <th>Employment Status</th>\n",
       "      <th>Credit Utilization Ratio</th>\n",
       "      <th>Payment History</th>\n",
       "      <th>Number of Credit Accounts</th>\n",
       "      <th>Loan Amount</th>\n",
       "      <th>Interest Rate</th>\n",
       "      <th>Loan Term</th>\n",
       "      <th>Type of Loan</th>\n",
       "    </tr>\n",
       "  </thead>\n",
       "  <tbody>\n",
       "    <tr>\n",
       "      <th>0</th>\n",
       "      <td>60</td>\n",
       "      <td>Male</td>\n",
       "      <td>Married</td>\n",
       "      <td>Master</td>\n",
       "      <td>Employed</td>\n",
       "      <td>0.22</td>\n",
       "      <td>2685.0</td>\n",
       "      <td>2</td>\n",
       "      <td>4675000</td>\n",
       "      <td>2.65</td>\n",
       "      <td>48</td>\n",
       "      <td>Personal Loan</td>\n",
       "    </tr>\n",
       "    <tr>\n",
       "      <th>1</th>\n",
       "      <td>25</td>\n",
       "      <td>Male</td>\n",
       "      <td>Married</td>\n",
       "      <td>High School</td>\n",
       "      <td>Unemployed</td>\n",
       "      <td>0.20</td>\n",
       "      <td>2371.0</td>\n",
       "      <td>9</td>\n",
       "      <td>3619000</td>\n",
       "      <td>5.19</td>\n",
       "      <td>60</td>\n",
       "      <td>Auto Loan</td>\n",
       "    </tr>\n",
       "    <tr>\n",
       "      <th>2</th>\n",
       "      <td>30</td>\n",
       "      <td>Female</td>\n",
       "      <td>Single</td>\n",
       "      <td>Master</td>\n",
       "      <td>Employed</td>\n",
       "      <td>0.22</td>\n",
       "      <td>2771.0</td>\n",
       "      <td>6</td>\n",
       "      <td>957000</td>\n",
       "      <td>2.76</td>\n",
       "      <td>12</td>\n",
       "      <td>Auto Loan</td>\n",
       "    </tr>\n",
       "    <tr>\n",
       "      <th>3</th>\n",
       "      <td>58</td>\n",
       "      <td>Female</td>\n",
       "      <td>Married</td>\n",
       "      <td>PhD</td>\n",
       "      <td>Unemployed</td>\n",
       "      <td>0.12</td>\n",
       "      <td>1371.0</td>\n",
       "      <td>2</td>\n",
       "      <td>4731000</td>\n",
       "      <td>6.57</td>\n",
       "      <td>60</td>\n",
       "      <td>Auto Loan</td>\n",
       "    </tr>\n",
       "    <tr>\n",
       "      <th>4</th>\n",
       "      <td>32</td>\n",
       "      <td>Male</td>\n",
       "      <td>Married</td>\n",
       "      <td>Bachelor</td>\n",
       "      <td>Self-Employed</td>\n",
       "      <td>0.99</td>\n",
       "      <td>828.0</td>\n",
       "      <td>2</td>\n",
       "      <td>3289000</td>\n",
       "      <td>6.28</td>\n",
       "      <td>36</td>\n",
       "      <td>Personal Loan</td>\n",
       "    </tr>\n",
       "    <tr>\n",
       "      <th>...</th>\n",
       "      <td>...</td>\n",
       "      <td>...</td>\n",
       "      <td>...</td>\n",
       "      <td>...</td>\n",
       "      <td>...</td>\n",
       "      <td>...</td>\n",
       "      <td>...</td>\n",
       "      <td>...</td>\n",
       "      <td>...</td>\n",
       "      <td>...</td>\n",
       "      <td>...</td>\n",
       "      <td>...</td>\n",
       "    </tr>\n",
       "    <tr>\n",
       "      <th>995</th>\n",
       "      <td>59</td>\n",
       "      <td>Male</td>\n",
       "      <td>Divorced</td>\n",
       "      <td>High School</td>\n",
       "      <td>Employed</td>\n",
       "      <td>0.74</td>\n",
       "      <td>1285.0</td>\n",
       "      <td>8</td>\n",
       "      <td>3530000</td>\n",
       "      <td>12.99</td>\n",
       "      <td>48</td>\n",
       "      <td>Auto Loan</td>\n",
       "    </tr>\n",
       "    <tr>\n",
       "      <th>996</th>\n",
       "      <td>64</td>\n",
       "      <td>Male</td>\n",
       "      <td>Divorced</td>\n",
       "      <td>Bachelor</td>\n",
       "      <td>Unemployed</td>\n",
       "      <td>0.77</td>\n",
       "      <td>1857.0</td>\n",
       "      <td>2</td>\n",
       "      <td>1377000</td>\n",
       "      <td>18.02</td>\n",
       "      <td>60</td>\n",
       "      <td>Home Loan</td>\n",
       "    </tr>\n",
       "    <tr>\n",
       "      <th>997</th>\n",
       "      <td>63</td>\n",
       "      <td>Female</td>\n",
       "      <td>Single</td>\n",
       "      <td>Master</td>\n",
       "      <td>Self-Employed</td>\n",
       "      <td>0.18</td>\n",
       "      <td>2628.0</td>\n",
       "      <td>10</td>\n",
       "      <td>2443000</td>\n",
       "      <td>18.95</td>\n",
       "      <td>12</td>\n",
       "      <td>Personal Loan</td>\n",
       "    </tr>\n",
       "    <tr>\n",
       "      <th>998</th>\n",
       "      <td>51</td>\n",
       "      <td>Female</td>\n",
       "      <td>Married</td>\n",
       "      <td>PhD</td>\n",
       "      <td>Self-Employed</td>\n",
       "      <td>0.32</td>\n",
       "      <td>1142.0</td>\n",
       "      <td>3</td>\n",
       "      <td>1301000</td>\n",
       "      <td>1.80</td>\n",
       "      <td>24</td>\n",
       "      <td>Auto Loan</td>\n",
       "    </tr>\n",
       "    <tr>\n",
       "      <th>999</th>\n",
       "      <td>37</td>\n",
       "      <td>Female</td>\n",
       "      <td>Married</td>\n",
       "      <td>Master</td>\n",
       "      <td>Self-Employed</td>\n",
       "      <td>0.17</td>\n",
       "      <td>1028.0</td>\n",
       "      <td>5</td>\n",
       "      <td>4182000</td>\n",
       "      <td>9.34</td>\n",
       "      <td>24</td>\n",
       "      <td>Auto Loan</td>\n",
       "    </tr>\n",
       "  </tbody>\n",
       "</table>\n",
       "<p>1000 rows × 12 columns</p>\n",
       "</div>"
      ],
      "text/plain": [
       "     Age  Gender Marital Status Education Level Employment Status  \\\n",
       "0     60    Male        Married          Master          Employed   \n",
       "1     25    Male        Married     High School        Unemployed   \n",
       "2     30  Female         Single          Master          Employed   \n",
       "3     58  Female        Married             PhD        Unemployed   \n",
       "4     32    Male        Married        Bachelor     Self-Employed   \n",
       "..   ...     ...            ...             ...               ...   \n",
       "995   59    Male       Divorced     High School          Employed   \n",
       "996   64    Male       Divorced        Bachelor        Unemployed   \n",
       "997   63  Female         Single          Master     Self-Employed   \n",
       "998   51  Female        Married             PhD     Self-Employed   \n",
       "999   37  Female        Married          Master     Self-Employed   \n",
       "\n",
       "     Credit Utilization Ratio  Payment History  Number of Credit Accounts  \\\n",
       "0                        0.22           2685.0                          2   \n",
       "1                        0.20           2371.0                          9   \n",
       "2                        0.22           2771.0                          6   \n",
       "3                        0.12           1371.0                          2   \n",
       "4                        0.99            828.0                          2   \n",
       "..                        ...              ...                        ...   \n",
       "995                      0.74           1285.0                          8   \n",
       "996                      0.77           1857.0                          2   \n",
       "997                      0.18           2628.0                         10   \n",
       "998                      0.32           1142.0                          3   \n",
       "999                      0.17           1028.0                          5   \n",
       "\n",
       "     Loan Amount  Interest Rate  Loan Term   Type of Loan  \n",
       "0        4675000           2.65         48  Personal Loan  \n",
       "1        3619000           5.19         60      Auto Loan  \n",
       "2         957000           2.76         12      Auto Loan  \n",
       "3        4731000           6.57         60      Auto Loan  \n",
       "4        3289000           6.28         36  Personal Loan  \n",
       "..           ...            ...        ...            ...  \n",
       "995      3530000          12.99         48      Auto Loan  \n",
       "996      1377000          18.02         60      Home Loan  \n",
       "997      2443000          18.95         12  Personal Loan  \n",
       "998      1301000           1.80         24      Auto Loan  \n",
       "999      4182000           9.34         24      Auto Loan  \n",
       "\n",
       "[1000 rows x 12 columns]"
      ]
     },
     "execution_count": 58,
     "metadata": {},
     "output_type": "execute_result"
    }
   ],
   "source": [
    "df"
   ]
  },
  {
   "cell_type": "code",
   "execution_count": 59,
   "metadata": {},
   "outputs": [
    {
     "data": {
      "text/plain": [
       "Age                          0\n",
       "Gender                       0\n",
       "Marital Status               0\n",
       "Education Level              0\n",
       "Employment Status            0\n",
       "Credit Utilization Ratio     0\n",
       "Payment History              0\n",
       "Number of Credit Accounts    0\n",
       "Loan Amount                  0\n",
       "Interest Rate                0\n",
       "Loan Term                    0\n",
       "Type of Loan                 0\n",
       "dtype: int64"
      ]
     },
     "execution_count": 59,
     "metadata": {},
     "output_type": "execute_result"
    }
   ],
   "source": [
    "df.isnull().sum()"
   ]
  },
  {
   "cell_type": "code",
   "execution_count": 60,
   "metadata": {},
   "outputs": [
    {
     "data": {
      "text/plain": [
       "0"
      ]
     },
     "execution_count": 60,
     "metadata": {},
     "output_type": "execute_result"
    }
   ],
   "source": [
    "df.duplicated().sum()"
   ]
  },
  {
   "cell_type": "code",
   "execution_count": 61,
   "metadata": {},
   "outputs": [
    {
     "name": "stdout",
     "output_type": "stream",
     "text": [
      "<class 'pandas.core.frame.DataFrame'>\n",
      "RangeIndex: 1000 entries, 0 to 999\n",
      "Data columns (total 12 columns):\n",
      " #   Column                     Non-Null Count  Dtype  \n",
      "---  ------                     --------------  -----  \n",
      " 0   Age                        1000 non-null   int64  \n",
      " 1   Gender                     1000 non-null   object \n",
      " 2   Marital Status             1000 non-null   object \n",
      " 3   Education Level            1000 non-null   object \n",
      " 4   Employment Status          1000 non-null   object \n",
      " 5   Credit Utilization Ratio   1000 non-null   float64\n",
      " 6   Payment History            1000 non-null   float64\n",
      " 7   Number of Credit Accounts  1000 non-null   int64  \n",
      " 8   Loan Amount                1000 non-null   int64  \n",
      " 9   Interest Rate              1000 non-null   float64\n",
      " 10  Loan Term                  1000 non-null   int64  \n",
      " 11  Type of Loan               1000 non-null   object \n",
      "dtypes: float64(3), int64(4), object(5)\n",
      "memory usage: 93.9+ KB\n"
     ]
    }
   ],
   "source": [
    "df.info()"
   ]
  },
  {
   "cell_type": "code",
   "execution_count": 62,
   "metadata": {},
   "outputs": [
    {
     "data": {
      "text/html": [
       "<div>\n",
       "<style scoped>\n",
       "    .dataframe tbody tr th:only-of-type {\n",
       "        vertical-align: middle;\n",
       "    }\n",
       "\n",
       "    .dataframe tbody tr th {\n",
       "        vertical-align: top;\n",
       "    }\n",
       "\n",
       "    .dataframe thead th {\n",
       "        text-align: right;\n",
       "    }\n",
       "</style>\n",
       "<table border=\"1\" class=\"dataframe\">\n",
       "  <thead>\n",
       "    <tr style=\"text-align: right;\">\n",
       "      <th></th>\n",
       "      <th>Age</th>\n",
       "      <th>Credit Utilization Ratio</th>\n",
       "      <th>Payment History</th>\n",
       "      <th>Number of Credit Accounts</th>\n",
       "      <th>Loan Amount</th>\n",
       "      <th>Interest Rate</th>\n",
       "      <th>Loan Term</th>\n",
       "    </tr>\n",
       "  </thead>\n",
       "  <tbody>\n",
       "    <tr>\n",
       "      <th>count</th>\n",
       "      <td>1000.000000</td>\n",
       "      <td>1000.000000</td>\n",
       "      <td>1000.000000</td>\n",
       "      <td>1000.000000</td>\n",
       "      <td>1.000000e+03</td>\n",
       "      <td>1000.000000</td>\n",
       "      <td>1000.000000</td>\n",
       "    </tr>\n",
       "    <tr>\n",
       "      <th>mean</th>\n",
       "      <td>42.702000</td>\n",
       "      <td>0.509950</td>\n",
       "      <td>1452.814000</td>\n",
       "      <td>5.580000</td>\n",
       "      <td>2.471401e+06</td>\n",
       "      <td>10.686600</td>\n",
       "      <td>37.128000</td>\n",
       "    </tr>\n",
       "    <tr>\n",
       "      <th>std</th>\n",
       "      <td>13.266771</td>\n",
       "      <td>0.291057</td>\n",
       "      <td>827.934146</td>\n",
       "      <td>2.933634</td>\n",
       "      <td>1.387047e+06</td>\n",
       "      <td>5.479058</td>\n",
       "      <td>17.436274</td>\n",
       "    </tr>\n",
       "    <tr>\n",
       "      <th>min</th>\n",
       "      <td>20.000000</td>\n",
       "      <td>0.000000</td>\n",
       "      <td>0.000000</td>\n",
       "      <td>1.000000</td>\n",
       "      <td>1.080000e+05</td>\n",
       "      <td>1.010000</td>\n",
       "      <td>12.000000</td>\n",
       "    </tr>\n",
       "    <tr>\n",
       "      <th>25%</th>\n",
       "      <td>31.000000</td>\n",
       "      <td>0.250000</td>\n",
       "      <td>763.750000</td>\n",
       "      <td>3.000000</td>\n",
       "      <td>1.298000e+06</td>\n",
       "      <td>6.022500</td>\n",
       "      <td>24.000000</td>\n",
       "    </tr>\n",
       "    <tr>\n",
       "      <th>50%</th>\n",
       "      <td>42.000000</td>\n",
       "      <td>0.530000</td>\n",
       "      <td>1428.000000</td>\n",
       "      <td>6.000000</td>\n",
       "      <td>2.437500e+06</td>\n",
       "      <td>10.705000</td>\n",
       "      <td>36.000000</td>\n",
       "    </tr>\n",
       "    <tr>\n",
       "      <th>75%</th>\n",
       "      <td>54.000000</td>\n",
       "      <td>0.750000</td>\n",
       "      <td>2142.000000</td>\n",
       "      <td>8.000000</td>\n",
       "      <td>3.653250e+06</td>\n",
       "      <td>15.440000</td>\n",
       "      <td>48.000000</td>\n",
       "    </tr>\n",
       "    <tr>\n",
       "      <th>max</th>\n",
       "      <td>65.000000</td>\n",
       "      <td>1.000000</td>\n",
       "      <td>2857.000000</td>\n",
       "      <td>10.000000</td>\n",
       "      <td>4.996000e+06</td>\n",
       "      <td>19.990000</td>\n",
       "      <td>60.000000</td>\n",
       "    </tr>\n",
       "  </tbody>\n",
       "</table>\n",
       "</div>"
      ],
      "text/plain": [
       "               Age  Credit Utilization Ratio  Payment History  \\\n",
       "count  1000.000000               1000.000000      1000.000000   \n",
       "mean     42.702000                  0.509950      1452.814000   \n",
       "std      13.266771                  0.291057       827.934146   \n",
       "min      20.000000                  0.000000         0.000000   \n",
       "25%      31.000000                  0.250000       763.750000   \n",
       "50%      42.000000                  0.530000      1428.000000   \n",
       "75%      54.000000                  0.750000      2142.000000   \n",
       "max      65.000000                  1.000000      2857.000000   \n",
       "\n",
       "       Number of Credit Accounts   Loan Amount  Interest Rate    Loan Term  \n",
       "count                1000.000000  1.000000e+03    1000.000000  1000.000000  \n",
       "mean                    5.580000  2.471401e+06      10.686600    37.128000  \n",
       "std                     2.933634  1.387047e+06       5.479058    17.436274  \n",
       "min                     1.000000  1.080000e+05       1.010000    12.000000  \n",
       "25%                     3.000000  1.298000e+06       6.022500    24.000000  \n",
       "50%                     6.000000  2.437500e+06      10.705000    36.000000  \n",
       "75%                     8.000000  3.653250e+06      15.440000    48.000000  \n",
       "max                    10.000000  4.996000e+06      19.990000    60.000000  "
      ]
     },
     "execution_count": 62,
     "metadata": {},
     "output_type": "execute_result"
    }
   ],
   "source": [
    "df.describe()"
   ]
  },
  {
   "cell_type": "code",
   "execution_count": 63,
   "metadata": {},
   "outputs": [
    {
     "data": {
      "application/vnd.plotly.v1+json": {
       "config": {
        "plotlyServerURL": "https://plot.ly"
       },
       "data": [
        {
         "alignmentgroup": "True",
         "hovertemplate": "Credit Utilization Ratio=%{y}<extra></extra>",
         "legendgroup": "",
         "marker": {
          "color": "#636efa"
         },
         "name": "",
         "notched": false,
         "offsetgroup": "",
         "orientation": "v",
         "showlegend": false,
         "type": "box",
         "x0": " ",
         "xaxis": "x",
         "y": [
          0.22,
          0.2,
          0.22,
          0.12,
          0.99,
          0.94,
          0.32,
          0.66,
          0.4,
          0.06,
          0.29,
          0.51,
          0.93,
          0.66,
          1,
          0.55,
          0.67,
          0.1,
          0.34,
          0.44,
          0.21,
          0.19,
          0.92,
          0.12,
          0.72,
          0.54,
          0.98,
          0.74,
          0.91,
          0.71,
          0.31,
          0.88,
          0.87,
          0.33,
          0.58,
          0.04,
          0.95,
          0.4,
          0.29,
          0.08,
          0.24,
          0.15,
          0.46,
          0.74,
          0.71,
          0.21,
          0.38,
          0.44,
          0.59,
          0.45,
          0.22,
          0.11,
          0.58,
          0.6,
          0.11,
          0.59,
          0.85,
          0.95,
          0.29,
          0.7,
          0.48,
          0.71,
          0.28,
          0.58,
          0.6,
          0.96,
          0.45,
          0.79,
          0.17,
          0.5,
          0.96,
          0.18,
          0.33,
          0.12,
          0.36,
          0.03,
          0.46,
          0.46,
          0.27,
          0.33,
          0.32,
          0.53,
          0.08,
          0.75,
          0.43,
          0.91,
          0.44,
          0.11,
          0.75,
          0.65,
          0.79,
          0.14,
          0.75,
          0.22,
          0.23,
          0.62,
          0.4,
          0.99,
          0,
          0.59,
          0.59,
          1,
          0.62,
          0.65,
          0.43,
          0.74,
          0.94,
          0.85,
          0.18,
          0.63,
          0.6,
          0.61,
          0.67,
          0.33,
          0.04,
          0.02,
          0.08,
          0.35,
          0.95,
          0.44,
          0.04,
          0.91,
          0.65,
          0.41,
          0.85,
          0.56,
          0.36,
          0.51,
          0.77,
          0.97,
          0.82,
          0.27,
          0.37,
          0.29,
          0.78,
          0.54,
          0.66,
          0.64,
          0.04,
          0.78,
          0.04,
          0.74,
          0.43,
          0.69,
          0.51,
          0.37,
          0.37,
          0.77,
          0.17,
          0.85,
          0.57,
          0.82,
          0.43,
          0.25,
          0.66,
          0.21,
          0.45,
          0.99,
          0.45,
          0.76,
          0.22,
          0.43,
          0.39,
          0.79,
          0.71,
          0.74,
          0.33,
          0.48,
          0.31,
          0.33,
          0.48,
          0.56,
          0.96,
          0.11,
          0.72,
          0.32,
          1,
          0.99,
          0.73,
          0.52,
          0.45,
          0.67,
          0.61,
          0.68,
          0.54,
          0.45,
          0.75,
          0.18,
          0.86,
          0.72,
          0.81,
          0.74,
          0.6,
          0.56,
          0.42,
          0.91,
          0.85,
          0.72,
          1,
          0.26,
          0.86,
          0.23,
          0.79,
          0.41,
          0.49,
          0.11,
          0.96,
          0.38,
          0.92,
          0.96,
          0.76,
          0.77,
          0.19,
          0.71,
          0.13,
          0.6,
          0.38,
          0.78,
          0.01,
          0.95,
          0.38,
          0.46,
          0.25,
          0.7,
          0.98,
          0.37,
          0.14,
          0.07,
          0.56,
          0.59,
          0.46,
          0.35,
          0.31,
          0.64,
          0.95,
          0.71,
          0.78,
          0.44,
          0.87,
          0.81,
          0.99,
          0.15,
          0.63,
          0.09,
          0.34,
          0.12,
          0.65,
          0.66,
          0.34,
          0.14,
          0.21,
          0.96,
          0.88,
          0.24,
          0.55,
          0.29,
          0.08,
          0.95,
          0.01,
          0.78,
          0.46,
          0.74,
          0.32,
          0.98,
          0.29,
          0.02,
          0.49,
          0.1,
          0.93,
          0.45,
          0.81,
          0.05,
          0.8,
          0.59,
          0.17,
          0.28,
          0.14,
          0.91,
          0.53,
          0.58,
          0.7,
          0.06,
          0.06,
          0.3,
          0.31,
          0.22,
          0.67,
          0,
          0.65,
          0.17,
          0.94,
          0.28,
          0.29,
          0.31,
          0.37,
          0.67,
          0.3,
          0.95,
          0.26,
          0.41,
          0.26,
          0.4,
          0.86,
          0.91,
          0.78,
          0.2,
          0.96,
          0.05,
          0.91,
          0.46,
          0.65,
          0.71,
          0.03,
          0.53,
          0.74,
          0.79,
          0.12,
          0.32,
          0.76,
          0.38,
          0.73,
          0.95,
          0.23,
          0.88,
          0.44,
          0.1,
          0.5,
          0.5,
          0.08,
          0.85,
          0.96,
          0.85,
          0.61,
          0.26,
          0.66,
          0.85,
          0.64,
          0.75,
          0.67,
          0.45,
          0.14,
          0.34,
          0.74,
          0.6,
          0.8,
          0.71,
          0.56,
          0.05,
          0.75,
          0.66,
          0.91,
          0.96,
          0.33,
          0.78,
          0.35,
          0.24,
          0.91,
          0.17,
          0.21,
          0.05,
          0.32,
          0.93,
          0.22,
          0.04,
          0.18,
          0.1,
          0.07,
          0.96,
          0.68,
          0.86,
          0.21,
          0.73,
          0.68,
          0.04,
          0.47,
          0.54,
          0.82,
          0.64,
          0.11,
          0.59,
          0.97,
          0.6,
          0.13,
          0.6,
          0.42,
          0.48,
          0.52,
          0.85,
          0.55,
          0.78,
          0.01,
          0.04,
          0.85,
          0.04,
          0.02,
          0.93,
          0.96,
          0.86,
          0.54,
          0.31,
          0.21,
          0.96,
          0.13,
          0.52,
          0.55,
          0.75,
          0.56,
          0.52,
          0.22,
          0.12,
          0.45,
          0.08,
          0.75,
          0.17,
          0.26,
          0.04,
          0.6,
          0.37,
          0.92,
          0.41,
          0.76,
          0.11,
          0.02,
          0.22,
          0.78,
          0.74,
          0.16,
          0.22,
          0.58,
          0.06,
          0.69,
          0.57,
          0.3,
          0.24,
          0.41,
          0.19,
          0.61,
          0.79,
          0.39,
          0.58,
          1,
          0.24,
          0.6,
          0.04,
          0.92,
          0.73,
          0.78,
          0.05,
          0.13,
          0.13,
          0.78,
          0.66,
          0.69,
          0.45,
          0.73,
          0.62,
          0.39,
          0.93,
          0.35,
          0.95,
          0.15,
          0.71,
          0.32,
          0.13,
          0.08,
          0.47,
          0.93,
          0.31,
          0.54,
          0.17,
          0.78,
          0.09,
          0.55,
          0.73,
          0.86,
          0.6,
          0.15,
          0.66,
          0.32,
          0.53,
          0.61,
          0.81,
          1,
          0.3,
          0.83,
          0.78,
          0.07,
          0.71,
          0.11,
          0.73,
          0.39,
          0.52,
          0.53,
          0.32,
          0.47,
          0.33,
          0.68,
          0.92,
          0.77,
          0.59,
          0.57,
          0.56,
          0.66,
          0.62,
          0.58,
          0.86,
          0.55,
          0.01,
          0.89,
          0.19,
          0.98,
          0.89,
          0.54,
          0.17,
          0.05,
          0.28,
          0.78,
          0.24,
          0.4,
          0.38,
          0.8,
          0.69,
          0.45,
          0.96,
          0.66,
          0.33,
          0.14,
          0.57,
          0.15,
          0.38,
          0.53,
          0.7,
          1,
          0.06,
          0.04,
          0.05,
          0.8,
          0.06,
          0.1,
          0.65,
          0.61,
          0.24,
          0.11,
          0.33,
          0.9,
          0.1,
          0.22,
          0.13,
          0.6,
          0.28,
          0.98,
          0.08,
          0.3,
          0.46,
          0.08,
          0.37,
          0.94,
          0.35,
          0.95,
          0.7,
          0.44,
          0.65,
          0.23,
          0.97,
          0.21,
          0.92,
          0.9,
          0.55,
          0.53,
          0.49,
          0.01,
          0.81,
          0.93,
          0.19,
          0.15,
          0.49,
          0.51,
          0.27,
          0.6,
          0.01,
          0.8,
          0.92,
          0.74,
          0.42,
          0.12,
          0.67,
          0.57,
          0.92,
          0.21,
          0.29,
          0.55,
          0.11,
          0.36,
          0.94,
          0.5,
          0.68,
          0.5,
          0.46,
          0.39,
          0.06,
          0.84,
          0.06,
          0.02,
          0.02,
          0.81,
          0.27,
          0.07,
          0.41,
          0.66,
          0.46,
          0.65,
          0.56,
          0.85,
          0.66,
          0.6,
          0.18,
          0.55,
          0.97,
          0.12,
          0.92,
          0.82,
          0.64,
          0.52,
          0.2,
          0.97,
          0.95,
          0.95,
          0.18,
          0.01,
          0.06,
          0.62,
          0.88,
          0.87,
          0.74,
          0.47,
          0.85,
          1,
          0.68,
          0.63,
          0.86,
          0.24,
          0.3,
          0.27,
          0.34,
          0.08,
          0.08,
          0.08,
          0.3,
          0.11,
          0.97,
          0.14,
          0.84,
          0.74,
          0.33,
          0.49,
          0.89,
          0.19,
          0.71,
          0.17,
          0.36,
          0.56,
          0.8,
          0.91,
          0.85,
          0.72,
          0.95,
          0.98,
          0.4,
          0.64,
          0.73,
          0.16,
          0.26,
          0.81,
          0.74,
          0.06,
          0.42,
          0.21,
          0.29,
          0.42,
          0.48,
          0.67,
          0.89,
          0.56,
          0.66,
          0.59,
          0.98,
          0.61,
          0.38,
          0.32,
          0.76,
          0.99,
          0.97,
          0.16,
          0.5,
          0.96,
          0.56,
          0.97,
          0.74,
          0.04,
          0.74,
          0.73,
          0.67,
          0.76,
          0.08,
          0.63,
          0.24,
          0.12,
          0.1,
          0.38,
          0.6,
          0.62,
          0.58,
          0.24,
          0.69,
          0.45,
          0.77,
          0.29,
          0.17,
          0.94,
          0.14,
          0.29,
          0.79,
          0.37,
          0.45,
          0.75,
          0.43,
          0.9,
          0.55,
          0.77,
          0.72,
          0.43,
          0.81,
          0.79,
          0.53,
          0.83,
          0.06,
          0.74,
          0.2,
          0.88,
          0.61,
          0.57,
          0.73,
          0.45,
          0.4,
          0.08,
          0.53,
          0.71,
          0.05,
          0.99,
          0.32,
          0.17,
          0.07,
          0.32,
          0.51,
          0.43,
          0.04,
          0.81,
          0.7,
          0.05,
          0.16,
          0.86,
          0.76,
          0.45,
          0.86,
          0.99,
          0.35,
          0.63,
          0.12,
          0.3,
          0.21,
          0.42,
          0.57,
          0.17,
          0.76,
          0.6,
          0.82,
          0.84,
          0.41,
          0.74,
          0.14,
          0.48,
          0.77,
          0.93,
          0.12,
          0.58,
          0.66,
          0.46,
          0.83,
          0.86,
          0.76,
          0.75,
          0.22,
          0.1,
          0.03,
          0.63,
          0.69,
          0.91,
          0.97,
          0.16,
          0.3,
          0.1,
          0.13,
          0.68,
          0.66,
          0.27,
          0.27,
          0.53,
          0.81,
          0.13,
          0.44,
          0.41,
          0.93,
          0.19,
          0.67,
          0.17,
          0.74,
          0.62,
          0.49,
          0.47,
          0.14,
          0.74,
          0.75,
          0.5,
          0.49,
          0.82,
          0.4,
          0.63,
          0.36,
          0.29,
          0.01,
          0.58,
          0.07,
          0.55,
          0.52,
          0.81,
          0.18,
          0.71,
          0.87,
          0.88,
          0.97,
          0.63,
          0.73,
          0.49,
          0.43,
          0.11,
          0.74,
          0.06,
          0,
          0.88,
          0.36,
          0.82,
          0.15,
          0.77,
          0.42,
          0.09,
          0.36,
          0.96,
          0.84,
          0.74,
          0.06,
          0.5,
          0.62,
          0.64,
          0.78,
          0.2,
          0.09,
          0.7,
          0.59,
          0.16,
          0.89,
          0.77,
          0.36,
          0.97,
          0.84,
          0.79,
          0.87,
          0.77,
          0.04,
          0.98,
          0.27,
          0.34,
          0.91,
          0.15,
          0.45,
          0.35,
          1,
          0.37,
          0.62,
          0.44,
          0.95,
          0.84,
          0.17,
          0.94,
          0.12,
          0.63,
          0.63,
          0.66,
          0.26,
          0.49,
          0.9,
          0.19,
          0.22,
          0.51,
          0.49,
          0.9,
          0.03,
          0.12,
          0.21,
          0.81,
          0.6,
          0.84,
          0.72,
          0.98,
          0.86,
          0.88,
          0.58,
          0.48,
          0.56,
          0.49,
          0.22,
          0.69,
          0.03,
          0.5,
          0.29,
          0.22,
          0.39,
          0.19,
          0.9,
          0.35,
          0.53,
          0.36,
          0.98,
          0.09,
          0.39,
          0.97,
          0.56,
          0.49,
          0.71,
          0.64,
          0.14,
          0.18,
          0.47,
          0.62,
          0.08,
          0.58,
          0.63,
          0.1,
          0.98,
          0.14,
          0.49,
          0.12,
          0.01,
          0.66,
          0.96,
          0.96,
          0.93,
          0.25,
          0.13,
          0.16,
          0.55,
          0.62,
          0.12,
          0.07,
          0.47,
          0.91,
          0.74,
          0.35,
          0.48,
          0.19,
          0.08,
          0.4,
          0.3,
          0.71,
          0.82,
          0.38,
          0.21,
          0.81,
          0.93,
          0.91,
          0.27,
          0.44,
          0.44,
          0.11,
          0.02,
          0.2,
          0.98,
          0.91,
          0.03,
          0.8,
          0.8,
          0.56,
          0.67,
          0.49,
          0.1,
          0.4,
          0.74,
          0.77,
          0.18,
          0.32,
          0.17
         ],
         "y0": " ",
         "yaxis": "y"
        }
       ],
       "layout": {
        "boxmode": "group",
        "legend": {
         "tracegroupgap": 0
        },
        "template": {
         "data": {
          "bar": [
           {
            "error_x": {
             "color": "#2a3f5f"
            },
            "error_y": {
             "color": "#2a3f5f"
            },
            "marker": {
             "line": {
              "color": "#E5ECF6",
              "width": 0.5
             },
             "pattern": {
              "fillmode": "overlay",
              "size": 10,
              "solidity": 0.2
             }
            },
            "type": "bar"
           }
          ],
          "barpolar": [
           {
            "marker": {
             "line": {
              "color": "#E5ECF6",
              "width": 0.5
             },
             "pattern": {
              "fillmode": "overlay",
              "size": 10,
              "solidity": 0.2
             }
            },
            "type": "barpolar"
           }
          ],
          "carpet": [
           {
            "aaxis": {
             "endlinecolor": "#2a3f5f",
             "gridcolor": "white",
             "linecolor": "white",
             "minorgridcolor": "white",
             "startlinecolor": "#2a3f5f"
            },
            "baxis": {
             "endlinecolor": "#2a3f5f",
             "gridcolor": "white",
             "linecolor": "white",
             "minorgridcolor": "white",
             "startlinecolor": "#2a3f5f"
            },
            "type": "carpet"
           }
          ],
          "choropleth": [
           {
            "colorbar": {
             "outlinewidth": 0,
             "ticks": ""
            },
            "type": "choropleth"
           }
          ],
          "contour": [
           {
            "colorbar": {
             "outlinewidth": 0,
             "ticks": ""
            },
            "colorscale": [
             [
              0,
              "#0d0887"
             ],
             [
              0.1111111111111111,
              "#46039f"
             ],
             [
              0.2222222222222222,
              "#7201a8"
             ],
             [
              0.3333333333333333,
              "#9c179e"
             ],
             [
              0.4444444444444444,
              "#bd3786"
             ],
             [
              0.5555555555555556,
              "#d8576b"
             ],
             [
              0.6666666666666666,
              "#ed7953"
             ],
             [
              0.7777777777777778,
              "#fb9f3a"
             ],
             [
              0.8888888888888888,
              "#fdca26"
             ],
             [
              1,
              "#f0f921"
             ]
            ],
            "type": "contour"
           }
          ],
          "contourcarpet": [
           {
            "colorbar": {
             "outlinewidth": 0,
             "ticks": ""
            },
            "type": "contourcarpet"
           }
          ],
          "heatmap": [
           {
            "colorbar": {
             "outlinewidth": 0,
             "ticks": ""
            },
            "colorscale": [
             [
              0,
              "#0d0887"
             ],
             [
              0.1111111111111111,
              "#46039f"
             ],
             [
              0.2222222222222222,
              "#7201a8"
             ],
             [
              0.3333333333333333,
              "#9c179e"
             ],
             [
              0.4444444444444444,
              "#bd3786"
             ],
             [
              0.5555555555555556,
              "#d8576b"
             ],
             [
              0.6666666666666666,
              "#ed7953"
             ],
             [
              0.7777777777777778,
              "#fb9f3a"
             ],
             [
              0.8888888888888888,
              "#fdca26"
             ],
             [
              1,
              "#f0f921"
             ]
            ],
            "type": "heatmap"
           }
          ],
          "heatmapgl": [
           {
            "colorbar": {
             "outlinewidth": 0,
             "ticks": ""
            },
            "colorscale": [
             [
              0,
              "#0d0887"
             ],
             [
              0.1111111111111111,
              "#46039f"
             ],
             [
              0.2222222222222222,
              "#7201a8"
             ],
             [
              0.3333333333333333,
              "#9c179e"
             ],
             [
              0.4444444444444444,
              "#bd3786"
             ],
             [
              0.5555555555555556,
              "#d8576b"
             ],
             [
              0.6666666666666666,
              "#ed7953"
             ],
             [
              0.7777777777777778,
              "#fb9f3a"
             ],
             [
              0.8888888888888888,
              "#fdca26"
             ],
             [
              1,
              "#f0f921"
             ]
            ],
            "type": "heatmapgl"
           }
          ],
          "histogram": [
           {
            "marker": {
             "pattern": {
              "fillmode": "overlay",
              "size": 10,
              "solidity": 0.2
             }
            },
            "type": "histogram"
           }
          ],
          "histogram2d": [
           {
            "colorbar": {
             "outlinewidth": 0,
             "ticks": ""
            },
            "colorscale": [
             [
              0,
              "#0d0887"
             ],
             [
              0.1111111111111111,
              "#46039f"
             ],
             [
              0.2222222222222222,
              "#7201a8"
             ],
             [
              0.3333333333333333,
              "#9c179e"
             ],
             [
              0.4444444444444444,
              "#bd3786"
             ],
             [
              0.5555555555555556,
              "#d8576b"
             ],
             [
              0.6666666666666666,
              "#ed7953"
             ],
             [
              0.7777777777777778,
              "#fb9f3a"
             ],
             [
              0.8888888888888888,
              "#fdca26"
             ],
             [
              1,
              "#f0f921"
             ]
            ],
            "type": "histogram2d"
           }
          ],
          "histogram2dcontour": [
           {
            "colorbar": {
             "outlinewidth": 0,
             "ticks": ""
            },
            "colorscale": [
             [
              0,
              "#0d0887"
             ],
             [
              0.1111111111111111,
              "#46039f"
             ],
             [
              0.2222222222222222,
              "#7201a8"
             ],
             [
              0.3333333333333333,
              "#9c179e"
             ],
             [
              0.4444444444444444,
              "#bd3786"
             ],
             [
              0.5555555555555556,
              "#d8576b"
             ],
             [
              0.6666666666666666,
              "#ed7953"
             ],
             [
              0.7777777777777778,
              "#fb9f3a"
             ],
             [
              0.8888888888888888,
              "#fdca26"
             ],
             [
              1,
              "#f0f921"
             ]
            ],
            "type": "histogram2dcontour"
           }
          ],
          "mesh3d": [
           {
            "colorbar": {
             "outlinewidth": 0,
             "ticks": ""
            },
            "type": "mesh3d"
           }
          ],
          "parcoords": [
           {
            "line": {
             "colorbar": {
              "outlinewidth": 0,
              "ticks": ""
             }
            },
            "type": "parcoords"
           }
          ],
          "pie": [
           {
            "automargin": true,
            "type": "pie"
           }
          ],
          "scatter": [
           {
            "fillpattern": {
             "fillmode": "overlay",
             "size": 10,
             "solidity": 0.2
            },
            "type": "scatter"
           }
          ],
          "scatter3d": [
           {
            "line": {
             "colorbar": {
              "outlinewidth": 0,
              "ticks": ""
             }
            },
            "marker": {
             "colorbar": {
              "outlinewidth": 0,
              "ticks": ""
             }
            },
            "type": "scatter3d"
           }
          ],
          "scattercarpet": [
           {
            "marker": {
             "colorbar": {
              "outlinewidth": 0,
              "ticks": ""
             }
            },
            "type": "scattercarpet"
           }
          ],
          "scattergeo": [
           {
            "marker": {
             "colorbar": {
              "outlinewidth": 0,
              "ticks": ""
             }
            },
            "type": "scattergeo"
           }
          ],
          "scattergl": [
           {
            "marker": {
             "colorbar": {
              "outlinewidth": 0,
              "ticks": ""
             }
            },
            "type": "scattergl"
           }
          ],
          "scattermapbox": [
           {
            "marker": {
             "colorbar": {
              "outlinewidth": 0,
              "ticks": ""
             }
            },
            "type": "scattermapbox"
           }
          ],
          "scatterpolar": [
           {
            "marker": {
             "colorbar": {
              "outlinewidth": 0,
              "ticks": ""
             }
            },
            "type": "scatterpolar"
           }
          ],
          "scatterpolargl": [
           {
            "marker": {
             "colorbar": {
              "outlinewidth": 0,
              "ticks": ""
             }
            },
            "type": "scatterpolargl"
           }
          ],
          "scatterternary": [
           {
            "marker": {
             "colorbar": {
              "outlinewidth": 0,
              "ticks": ""
             }
            },
            "type": "scatterternary"
           }
          ],
          "surface": [
           {
            "colorbar": {
             "outlinewidth": 0,
             "ticks": ""
            },
            "colorscale": [
             [
              0,
              "#0d0887"
             ],
             [
              0.1111111111111111,
              "#46039f"
             ],
             [
              0.2222222222222222,
              "#7201a8"
             ],
             [
              0.3333333333333333,
              "#9c179e"
             ],
             [
              0.4444444444444444,
              "#bd3786"
             ],
             [
              0.5555555555555556,
              "#d8576b"
             ],
             [
              0.6666666666666666,
              "#ed7953"
             ],
             [
              0.7777777777777778,
              "#fb9f3a"
             ],
             [
              0.8888888888888888,
              "#fdca26"
             ],
             [
              1,
              "#f0f921"
             ]
            ],
            "type": "surface"
           }
          ],
          "table": [
           {
            "cells": {
             "fill": {
              "color": "#EBF0F8"
             },
             "line": {
              "color": "white"
             }
            },
            "header": {
             "fill": {
              "color": "#C8D4E3"
             },
             "line": {
              "color": "white"
             }
            },
            "type": "table"
           }
          ]
         },
         "layout": {
          "annotationdefaults": {
           "arrowcolor": "#2a3f5f",
           "arrowhead": 0,
           "arrowwidth": 1
          },
          "autotypenumbers": "strict",
          "coloraxis": {
           "colorbar": {
            "outlinewidth": 0,
            "ticks": ""
           }
          },
          "colorscale": {
           "diverging": [
            [
             0,
             "#8e0152"
            ],
            [
             0.1,
             "#c51b7d"
            ],
            [
             0.2,
             "#de77ae"
            ],
            [
             0.3,
             "#f1b6da"
            ],
            [
             0.4,
             "#fde0ef"
            ],
            [
             0.5,
             "#f7f7f7"
            ],
            [
             0.6,
             "#e6f5d0"
            ],
            [
             0.7,
             "#b8e186"
            ],
            [
             0.8,
             "#7fbc41"
            ],
            [
             0.9,
             "#4d9221"
            ],
            [
             1,
             "#276419"
            ]
           ],
           "sequential": [
            [
             0,
             "#0d0887"
            ],
            [
             0.1111111111111111,
             "#46039f"
            ],
            [
             0.2222222222222222,
             "#7201a8"
            ],
            [
             0.3333333333333333,
             "#9c179e"
            ],
            [
             0.4444444444444444,
             "#bd3786"
            ],
            [
             0.5555555555555556,
             "#d8576b"
            ],
            [
             0.6666666666666666,
             "#ed7953"
            ],
            [
             0.7777777777777778,
             "#fb9f3a"
            ],
            [
             0.8888888888888888,
             "#fdca26"
            ],
            [
             1,
             "#f0f921"
            ]
           ],
           "sequentialminus": [
            [
             0,
             "#0d0887"
            ],
            [
             0.1111111111111111,
             "#46039f"
            ],
            [
             0.2222222222222222,
             "#7201a8"
            ],
            [
             0.3333333333333333,
             "#9c179e"
            ],
            [
             0.4444444444444444,
             "#bd3786"
            ],
            [
             0.5555555555555556,
             "#d8576b"
            ],
            [
             0.6666666666666666,
             "#ed7953"
            ],
            [
             0.7777777777777778,
             "#fb9f3a"
            ],
            [
             0.8888888888888888,
             "#fdca26"
            ],
            [
             1,
             "#f0f921"
            ]
           ]
          },
          "colorway": [
           "#636efa",
           "#EF553B",
           "#00cc96",
           "#ab63fa",
           "#FFA15A",
           "#19d3f3",
           "#FF6692",
           "#B6E880",
           "#FF97FF",
           "#FECB52"
          ],
          "font": {
           "color": "#2a3f5f"
          },
          "geo": {
           "bgcolor": "white",
           "lakecolor": "white",
           "landcolor": "#E5ECF6",
           "showlakes": true,
           "showland": true,
           "subunitcolor": "white"
          },
          "hoverlabel": {
           "align": "left"
          },
          "hovermode": "closest",
          "mapbox": {
           "style": "light"
          },
          "paper_bgcolor": "white",
          "plot_bgcolor": "#E5ECF6",
          "polar": {
           "angularaxis": {
            "gridcolor": "white",
            "linecolor": "white",
            "ticks": ""
           },
           "bgcolor": "#E5ECF6",
           "radialaxis": {
            "gridcolor": "white",
            "linecolor": "white",
            "ticks": ""
           }
          },
          "scene": {
           "xaxis": {
            "backgroundcolor": "#E5ECF6",
            "gridcolor": "white",
            "gridwidth": 2,
            "linecolor": "white",
            "showbackground": true,
            "ticks": "",
            "zerolinecolor": "white"
           },
           "yaxis": {
            "backgroundcolor": "#E5ECF6",
            "gridcolor": "white",
            "gridwidth": 2,
            "linecolor": "white",
            "showbackground": true,
            "ticks": "",
            "zerolinecolor": "white"
           },
           "zaxis": {
            "backgroundcolor": "#E5ECF6",
            "gridcolor": "white",
            "gridwidth": 2,
            "linecolor": "white",
            "showbackground": true,
            "ticks": "",
            "zerolinecolor": "white"
           }
          },
          "shapedefaults": {
           "line": {
            "color": "#2a3f5f"
           }
          },
          "ternary": {
           "aaxis": {
            "gridcolor": "white",
            "linecolor": "white",
            "ticks": ""
           },
           "baxis": {
            "gridcolor": "white",
            "linecolor": "white",
            "ticks": ""
           },
           "bgcolor": "#E5ECF6",
           "caxis": {
            "gridcolor": "white",
            "linecolor": "white",
            "ticks": ""
           }
          },
          "title": {
           "x": 0.05
          },
          "xaxis": {
           "automargin": true,
           "gridcolor": "white",
           "linecolor": "white",
           "ticks": "",
           "title": {
            "standoff": 15
           },
           "zerolinecolor": "white",
           "zerolinewidth": 2
          },
          "yaxis": {
           "automargin": true,
           "gridcolor": "white",
           "linecolor": "white",
           "ticks": "",
           "title": {
            "standoff": 15
           },
           "zerolinecolor": "white",
           "zerolinewidth": 2
          }
         }
        },
        "title": {
         "text": "Credit Utilization Ratio"
        },
        "xaxis": {
         "anchor": "y",
         "domain": [
          0,
          1
         ]
        },
        "yaxis": {
         "anchor": "x",
         "domain": [
          0,
          1
         ],
         "title": {
          "text": "Credit Utilization Ratio"
         }
        }
       }
      }
     },
     "metadata": {},
     "output_type": "display_data"
    }
   ],
   "source": [
    "credit_utilization_ratio = px.box(df, y=\"Credit Utilization Ratio\", title=\"Credit Utilization Ratio\")\n",
    "credit_utilization_ratio.show()"
   ]
  },
  {
   "cell_type": "code",
   "execution_count": 64,
   "metadata": {},
   "outputs": [
    {
     "data": {
      "application/vnd.plotly.v1+json": {
       "config": {
        "plotlyServerURL": "https://plot.ly"
       },
       "data": [
        {
         "alignmentgroup": "True",
         "bingroup": "x",
         "hovertemplate": "Loan Amount=%{x}<br>count=%{y}<extra></extra>",
         "legendgroup": "",
         "marker": {
          "color": "#636efa",
          "pattern": {
           "shape": ""
          }
         },
         "name": "",
         "nbinsx": 20,
         "offsetgroup": "",
         "orientation": "v",
         "showlegend": false,
         "type": "histogram",
         "x": [
          4675000,
          3619000,
          957000,
          4731000,
          3289000,
          1536000,
          2021000,
          1298000,
          4374000,
          4026000,
          127000,
          3237000,
          586000,
          2323000,
          3775000,
          160000,
          1210000,
          3653000,
          1707000,
          524000,
          1481000,
          4959000,
          577000,
          4956000,
          3420000,
          1211000,
          166000,
          2464000,
          3653000,
          1038000,
          1862000,
          2887000,
          1774000,
          3046000,
          1009000,
          4461000,
          2733000,
          1168000,
          2803000,
          2912000,
          711000,
          994000,
          4789000,
          2274000,
          2917000,
          2876000,
          2605000,
          2920000,
          804000,
          2434000,
          360000,
          2250000,
          3248000,
          445000,
          1383000,
          827000,
          1879000,
          3509000,
          2669000,
          2209000,
          4501000,
          482000,
          2958000,
          1373000,
          4484000,
          1870000,
          2543000,
          1759000,
          4875000,
          775000,
          274000,
          4225000,
          2518000,
          4417000,
          3808000,
          2107000,
          4281000,
          1699000,
          2604000,
          3264000,
          3339000,
          1309000,
          3288000,
          943000,
          3557000,
          3968000,
          2609000,
          3111000,
          3055000,
          380000,
          4309000,
          4775000,
          3296000,
          2635000,
          3360000,
          3208000,
          3914000,
          1821000,
          4632000,
          2326000,
          1958000,
          1006000,
          2828000,
          1904000,
          3240000,
          603000,
          2513000,
          3183000,
          2951000,
          4550000,
          1420000,
          1908000,
          3416000,
          3713000,
          753000,
          3960000,
          1959000,
          2082000,
          3992000,
          2640000,
          744000,
          2797000,
          3772000,
          539000,
          2896000,
          1172000,
          2967000,
          417000,
          467000,
          1728000,
          2197000,
          3770000,
          3245000,
          4035000,
          1122000,
          4924000,
          3125000,
          236000,
          1569000,
          2562000,
          2500000,
          1667000,
          2564000,
          455000,
          361000,
          372000,
          2194000,
          1900000,
          836000,
          3132000,
          1189000,
          2759000,
          4446000,
          2402000,
          2932000,
          354000,
          1426000,
          1197000,
          525000,
          4016000,
          524000,
          3483000,
          2446000,
          3167000,
          3933000,
          2922000,
          4996000,
          3289000,
          1810000,
          4508000,
          4782000,
          2514000,
          3811000,
          2107000,
          143000,
          850000,
          1663000,
          4243000,
          1662000,
          900000,
          2633000,
          1440000,
          4111000,
          4508000,
          4465000,
          3932000,
          480000,
          3241000,
          4607000,
          3282000,
          231000,
          2066000,
          2087000,
          3684000,
          3258000,
          3594000,
          1698000,
          4121000,
          1816000,
          4009000,
          236000,
          4288000,
          4685000,
          670000,
          4728000,
          1349000,
          2140000,
          179000,
          4855000,
          3441000,
          4301000,
          2838000,
          819000,
          3368000,
          3865000,
          204000,
          2626000,
          2169000,
          3287000,
          2736000,
          3162000,
          3778000,
          3262000,
          813000,
          2882000,
          4298000,
          3920000,
          289000,
          3498000,
          1902000,
          4527000,
          1547000,
          1286000,
          4755000,
          1737000,
          1503000,
          4711000,
          959000,
          1861000,
          3043000,
          1237000,
          3394000,
          3479000,
          631000,
          4849000,
          3930000,
          3219000,
          109000,
          1209000,
          1298000,
          3554000,
          2179000,
          4374000,
          696000,
          712000,
          3585000,
          4600000,
          2151000,
          1474000,
          346000,
          4291000,
          203000,
          2375000,
          4001000,
          2135000,
          180000,
          2447000,
          728000,
          2768000,
          1113000,
          438000,
          1559000,
          200000,
          641000,
          3413000,
          2162000,
          2190000,
          3358000,
          2053000,
          1557000,
          1292000,
          267000,
          1288000,
          3765000,
          1168000,
          4262000,
          3847000,
          3620000,
          1464000,
          729000,
          3742000,
          516000,
          4129000,
          4203000,
          2309000,
          2009000,
          4312000,
          1717000,
          830000,
          4988000,
          4898000,
          513000,
          2012000,
          4433000,
          343000,
          4337000,
          4725000,
          1957000,
          171000,
          2635000,
          2604000,
          1680000,
          2276000,
          3107000,
          1636000,
          2286000,
          4545000,
          778000,
          1429000,
          1773000,
          2718000,
          4497000,
          1872000,
          508000,
          2220000,
          1251000,
          2306000,
          2873000,
          2247000,
          3674000,
          3226000,
          1048000,
          342000,
          4502000,
          3000000,
          728000,
          761000,
          3484000,
          555000,
          118000,
          997000,
          490000,
          4151000,
          3327000,
          4397000,
          1213000,
          3602000,
          2340000,
          3897000,
          3594000,
          4685000,
          1101000,
          435000,
          1945000,
          2877000,
          2145000,
          4414000,
          4573000,
          705000,
          691000,
          4587000,
          2628000,
          4678000,
          3406000,
          1730000,
          4187000,
          4176000,
          2727000,
          3983000,
          1748000,
          2286000,
          3998000,
          1278000,
          2044000,
          435000,
          3275000,
          4144000,
          1668000,
          4118000,
          429000,
          2478000,
          4385000,
          4485000,
          4322000,
          3698000,
          2476000,
          3246000,
          3167000,
          4946000,
          1899000,
          4057000,
          4471000,
          1734000,
          1421000,
          856000,
          2290000,
          2198000,
          2263000,
          2183000,
          2357000,
          3087000,
          2746000,
          4112000,
          199000,
          4054000,
          2446000,
          1323000,
          4182000,
          908000,
          1769000,
          2504000,
          2730000,
          3573000,
          635000,
          3370000,
          4094000,
          3749000,
          2647000,
          2613000,
          3411000,
          2488000,
          3898000,
          2358000,
          4281000,
          4044000,
          3966000,
          4710000,
          3742000,
          1400000,
          4599000,
          2203000,
          2815000,
          3180000,
          4621000,
          907000,
          3360000,
          1851000,
          2330000,
          2187000,
          3683000,
          2744000,
          3246000,
          2632000,
          1261000,
          2824000,
          758000,
          2657000,
          3838000,
          4894000,
          4792000,
          852000,
          1520000,
          1043000,
          1853000,
          3259000,
          170000,
          936000,
          2175000,
          2081000,
          2967000,
          2862000,
          3708000,
          2773000,
          2339000,
          1225000,
          1998000,
          4210000,
          4598000,
          4778000,
          558000,
          1235000,
          1136000,
          2912000,
          1616000,
          4239000,
          2433000,
          2604000,
          4901000,
          3685000,
          1854000,
          4507000,
          2537000,
          2900000,
          151000,
          4080000,
          4471000,
          361000,
          2377000,
          1795000,
          2846000,
          134000,
          289000,
          1087000,
          4916000,
          989000,
          759000,
          4047000,
          3902000,
          1169000,
          2144000,
          2081000,
          2684000,
          1265000,
          1825000,
          3491000,
          3721000,
          4084000,
          1308000,
          3671000,
          4948000,
          3192000,
          4063000,
          3909000,
          2651000,
          329000,
          1036000,
          1617000,
          1869000,
          4567000,
          444000,
          3381000,
          4694000,
          2213000,
          1190000,
          2418000,
          2320000,
          1932000,
          257000,
          4920000,
          1117000,
          3956000,
          4181000,
          3361000,
          3502000,
          260000,
          3927000,
          3472000,
          3583000,
          3255000,
          4093000,
          1610000,
          903000,
          4273000,
          463000,
          4963000,
          1777000,
          1594000,
          600000,
          1526000,
          2169000,
          4330000,
          3511000,
          4885000,
          693000,
          4418000,
          662000,
          1991000,
          4518000,
          3941000,
          1813000,
          2545000,
          4547000,
          497000,
          1453000,
          2759000,
          1320000,
          1334000,
          3469000,
          1742000,
          4391000,
          2684000,
          1271000,
          842000,
          4746000,
          1142000,
          3135000,
          2277000,
          509000,
          2806000,
          3229000,
          4509000,
          2714000,
          1180000,
          752000,
          656000,
          1321000,
          217000,
          3174000,
          1047000,
          790000,
          1684000,
          813000,
          1780000,
          3493000,
          349000,
          908000,
          4634000,
          4770000,
          4872000,
          3269000,
          326000,
          2068000,
          3966000,
          4884000,
          1498000,
          3472000,
          3683000,
          4423000,
          2348000,
          2619000,
          2081000,
          410000,
          267000,
          1279000,
          2862000,
          3526000,
          2430000,
          559000,
          3359000,
          3508000,
          4347000,
          1242000,
          3542000,
          1626000,
          1516000,
          4511000,
          2516000,
          2534000,
          3435000,
          4050000,
          3211000,
          2762000,
          3708000,
          4761000,
          3761000,
          3033000,
          4888000,
          3407000,
          149000,
          2811000,
          848000,
          1201000,
          857000,
          1401000,
          1347000,
          1003000,
          1056000,
          3874000,
          149000,
          2640000,
          233000,
          822000,
          4055000,
          3587000,
          4193000,
          1081000,
          2047000,
          4062000,
          4229000,
          1430000,
          2955000,
          988000,
          3804000,
          155000,
          2159000,
          350000,
          616000,
          2653000,
          3809000,
          4466000,
          2270000,
          1139000,
          4574000,
          4432000,
          1902000,
          3597000,
          1416000,
          1088000,
          1908000,
          3895000,
          849000,
          843000,
          4645000,
          259000,
          2952000,
          2494000,
          328000,
          1799000,
          649000,
          2655000,
          4609000,
          4145000,
          687000,
          2292000,
          1222000,
          3395000,
          3103000,
          3102000,
          1854000,
          4841000,
          294000,
          2810000,
          494000,
          1993000,
          4126000,
          2898000,
          3266000,
          538000,
          950000,
          1724000,
          1255000,
          1337000,
          3641000,
          2878000,
          1941000,
          1822000,
          3119000,
          1598000,
          2115000,
          1708000,
          2173000,
          1505000,
          4251000,
          1934000,
          4452000,
          2759000,
          4402000,
          2862000,
          3487000,
          2061000,
          1858000,
          1992000,
          2870000,
          1011000,
          325000,
          1541000,
          1190000,
          2411000,
          4933000,
          2190000,
          2111000,
          3550000,
          4345000,
          417000,
          3772000,
          751000,
          1913000,
          3266000,
          630000,
          1837000,
          201000,
          2629000,
          1215000,
          4323000,
          766000,
          3822000,
          2021000,
          3300000,
          1153000,
          3657000,
          3116000,
          2619000,
          4134000,
          4223000,
          426000,
          3189000,
          1341000,
          3436000,
          2684000,
          2685000,
          1531000,
          1786000,
          3269000,
          2332000,
          4176000,
          3275000,
          1131000,
          2803000,
          3690000,
          4333000,
          2141000,
          4096000,
          642000,
          848000,
          619000,
          994000,
          1324000,
          3260000,
          2609000,
          4528000,
          2651000,
          177000,
          540000,
          4199000,
          197000,
          1619000,
          3500000,
          1609000,
          394000,
          4580000,
          408000,
          724000,
          4595000,
          1476000,
          4700000,
          1964000,
          2466000,
          4728000,
          2343000,
          4313000,
          767000,
          4367000,
          3665000,
          1988000,
          2195000,
          1924000,
          3069000,
          4414000,
          3158000,
          149000,
          1769000,
          4310000,
          537000,
          2178000,
          965000,
          1326000,
          2920000,
          2172000,
          945000,
          2878000,
          1195000,
          2976000,
          3014000,
          1500000,
          4407000,
          1927000,
          1535000,
          1861000,
          3525000,
          231000,
          3809000,
          1344000,
          2466000,
          941000,
          1209000,
          1797000,
          4660000,
          2001000,
          1522000,
          1368000,
          2374000,
          665000,
          4246000,
          4578000,
          1805000,
          2572000,
          3266000,
          1332000,
          2612000,
          1556000,
          3654000,
          1641000,
          559000,
          2109000,
          2358000,
          3092000,
          3517000,
          1452000,
          4490000,
          2106000,
          831000,
          1603000,
          3149000,
          800000,
          167000,
          3027000,
          2858000,
          1321000,
          1874000,
          3887000,
          1480000,
          183000,
          4290000,
          406000,
          221000,
          3051000,
          1464000,
          971000,
          2532000,
          3564000,
          135000,
          2129000,
          3482000,
          2283000,
          333000,
          1665000,
          1306000,
          749000,
          1864000,
          364000,
          293000,
          2345000,
          2198000,
          2379000,
          1503000,
          3702000,
          2859000,
          4806000,
          517000,
          2083000,
          4575000,
          3001000,
          3237000,
          1999000,
          503000,
          2779000,
          2800000,
          754000,
          4526000,
          3895000,
          1336000,
          3897000,
          546000,
          2415000,
          4925000,
          4254000,
          4099000,
          4081000,
          108000,
          888000,
          2626000,
          3096000,
          2398000,
          2695000,
          1024000,
          4184000,
          3055000,
          3724000,
          923000,
          2197000,
          906000,
          332000,
          549000,
          2897000,
          1820000,
          4168000,
          4074000,
          2283000,
          1533000,
          3382000,
          4970000,
          4300000,
          2946000,
          4932000,
          3487000,
          2042000,
          3804000,
          4768000,
          822000,
          1654000,
          663000,
          4634000,
          4443000,
          371000,
          4240000,
          4116000,
          2011000,
          1151000,
          2098000,
          1615000,
          744000,
          2555000,
          2447000,
          2072000,
          2441000,
          4567000,
          329000,
          3988000,
          818000,
          204000,
          3109000,
          2277000,
          4351000,
          475000,
          3589000,
          4048000,
          1874000,
          3297000,
          4499000,
          3924000,
          4161000,
          2283000,
          1609000,
          301000,
          2561000,
          3530000,
          1377000,
          2443000,
          1301000,
          4182000
         ],
         "xaxis": "x",
         "yaxis": "y"
        }
       ],
       "layout": {
        "barmode": "relative",
        "legend": {
         "tracegroupgap": 0
        },
        "template": {
         "data": {
          "bar": [
           {
            "error_x": {
             "color": "#2a3f5f"
            },
            "error_y": {
             "color": "#2a3f5f"
            },
            "marker": {
             "line": {
              "color": "#E5ECF6",
              "width": 0.5
             },
             "pattern": {
              "fillmode": "overlay",
              "size": 10,
              "solidity": 0.2
             }
            },
            "type": "bar"
           }
          ],
          "barpolar": [
           {
            "marker": {
             "line": {
              "color": "#E5ECF6",
              "width": 0.5
             },
             "pattern": {
              "fillmode": "overlay",
              "size": 10,
              "solidity": 0.2
             }
            },
            "type": "barpolar"
           }
          ],
          "carpet": [
           {
            "aaxis": {
             "endlinecolor": "#2a3f5f",
             "gridcolor": "white",
             "linecolor": "white",
             "minorgridcolor": "white",
             "startlinecolor": "#2a3f5f"
            },
            "baxis": {
             "endlinecolor": "#2a3f5f",
             "gridcolor": "white",
             "linecolor": "white",
             "minorgridcolor": "white",
             "startlinecolor": "#2a3f5f"
            },
            "type": "carpet"
           }
          ],
          "choropleth": [
           {
            "colorbar": {
             "outlinewidth": 0,
             "ticks": ""
            },
            "type": "choropleth"
           }
          ],
          "contour": [
           {
            "colorbar": {
             "outlinewidth": 0,
             "ticks": ""
            },
            "colorscale": [
             [
              0,
              "#0d0887"
             ],
             [
              0.1111111111111111,
              "#46039f"
             ],
             [
              0.2222222222222222,
              "#7201a8"
             ],
             [
              0.3333333333333333,
              "#9c179e"
             ],
             [
              0.4444444444444444,
              "#bd3786"
             ],
             [
              0.5555555555555556,
              "#d8576b"
             ],
             [
              0.6666666666666666,
              "#ed7953"
             ],
             [
              0.7777777777777778,
              "#fb9f3a"
             ],
             [
              0.8888888888888888,
              "#fdca26"
             ],
             [
              1,
              "#f0f921"
             ]
            ],
            "type": "contour"
           }
          ],
          "contourcarpet": [
           {
            "colorbar": {
             "outlinewidth": 0,
             "ticks": ""
            },
            "type": "contourcarpet"
           }
          ],
          "heatmap": [
           {
            "colorbar": {
             "outlinewidth": 0,
             "ticks": ""
            },
            "colorscale": [
             [
              0,
              "#0d0887"
             ],
             [
              0.1111111111111111,
              "#46039f"
             ],
             [
              0.2222222222222222,
              "#7201a8"
             ],
             [
              0.3333333333333333,
              "#9c179e"
             ],
             [
              0.4444444444444444,
              "#bd3786"
             ],
             [
              0.5555555555555556,
              "#d8576b"
             ],
             [
              0.6666666666666666,
              "#ed7953"
             ],
             [
              0.7777777777777778,
              "#fb9f3a"
             ],
             [
              0.8888888888888888,
              "#fdca26"
             ],
             [
              1,
              "#f0f921"
             ]
            ],
            "type": "heatmap"
           }
          ],
          "heatmapgl": [
           {
            "colorbar": {
             "outlinewidth": 0,
             "ticks": ""
            },
            "colorscale": [
             [
              0,
              "#0d0887"
             ],
             [
              0.1111111111111111,
              "#46039f"
             ],
             [
              0.2222222222222222,
              "#7201a8"
             ],
             [
              0.3333333333333333,
              "#9c179e"
             ],
             [
              0.4444444444444444,
              "#bd3786"
             ],
             [
              0.5555555555555556,
              "#d8576b"
             ],
             [
              0.6666666666666666,
              "#ed7953"
             ],
             [
              0.7777777777777778,
              "#fb9f3a"
             ],
             [
              0.8888888888888888,
              "#fdca26"
             ],
             [
              1,
              "#f0f921"
             ]
            ],
            "type": "heatmapgl"
           }
          ],
          "histogram": [
           {
            "marker": {
             "pattern": {
              "fillmode": "overlay",
              "size": 10,
              "solidity": 0.2
             }
            },
            "type": "histogram"
           }
          ],
          "histogram2d": [
           {
            "colorbar": {
             "outlinewidth": 0,
             "ticks": ""
            },
            "colorscale": [
             [
              0,
              "#0d0887"
             ],
             [
              0.1111111111111111,
              "#46039f"
             ],
             [
              0.2222222222222222,
              "#7201a8"
             ],
             [
              0.3333333333333333,
              "#9c179e"
             ],
             [
              0.4444444444444444,
              "#bd3786"
             ],
             [
              0.5555555555555556,
              "#d8576b"
             ],
             [
              0.6666666666666666,
              "#ed7953"
             ],
             [
              0.7777777777777778,
              "#fb9f3a"
             ],
             [
              0.8888888888888888,
              "#fdca26"
             ],
             [
              1,
              "#f0f921"
             ]
            ],
            "type": "histogram2d"
           }
          ],
          "histogram2dcontour": [
           {
            "colorbar": {
             "outlinewidth": 0,
             "ticks": ""
            },
            "colorscale": [
             [
              0,
              "#0d0887"
             ],
             [
              0.1111111111111111,
              "#46039f"
             ],
             [
              0.2222222222222222,
              "#7201a8"
             ],
             [
              0.3333333333333333,
              "#9c179e"
             ],
             [
              0.4444444444444444,
              "#bd3786"
             ],
             [
              0.5555555555555556,
              "#d8576b"
             ],
             [
              0.6666666666666666,
              "#ed7953"
             ],
             [
              0.7777777777777778,
              "#fb9f3a"
             ],
             [
              0.8888888888888888,
              "#fdca26"
             ],
             [
              1,
              "#f0f921"
             ]
            ],
            "type": "histogram2dcontour"
           }
          ],
          "mesh3d": [
           {
            "colorbar": {
             "outlinewidth": 0,
             "ticks": ""
            },
            "type": "mesh3d"
           }
          ],
          "parcoords": [
           {
            "line": {
             "colorbar": {
              "outlinewidth": 0,
              "ticks": ""
             }
            },
            "type": "parcoords"
           }
          ],
          "pie": [
           {
            "automargin": true,
            "type": "pie"
           }
          ],
          "scatter": [
           {
            "fillpattern": {
             "fillmode": "overlay",
             "size": 10,
             "solidity": 0.2
            },
            "type": "scatter"
           }
          ],
          "scatter3d": [
           {
            "line": {
             "colorbar": {
              "outlinewidth": 0,
              "ticks": ""
             }
            },
            "marker": {
             "colorbar": {
              "outlinewidth": 0,
              "ticks": ""
             }
            },
            "type": "scatter3d"
           }
          ],
          "scattercarpet": [
           {
            "marker": {
             "colorbar": {
              "outlinewidth": 0,
              "ticks": ""
             }
            },
            "type": "scattercarpet"
           }
          ],
          "scattergeo": [
           {
            "marker": {
             "colorbar": {
              "outlinewidth": 0,
              "ticks": ""
             }
            },
            "type": "scattergeo"
           }
          ],
          "scattergl": [
           {
            "marker": {
             "colorbar": {
              "outlinewidth": 0,
              "ticks": ""
             }
            },
            "type": "scattergl"
           }
          ],
          "scattermapbox": [
           {
            "marker": {
             "colorbar": {
              "outlinewidth": 0,
              "ticks": ""
             }
            },
            "type": "scattermapbox"
           }
          ],
          "scatterpolar": [
           {
            "marker": {
             "colorbar": {
              "outlinewidth": 0,
              "ticks": ""
             }
            },
            "type": "scatterpolar"
           }
          ],
          "scatterpolargl": [
           {
            "marker": {
             "colorbar": {
              "outlinewidth": 0,
              "ticks": ""
             }
            },
            "type": "scatterpolargl"
           }
          ],
          "scatterternary": [
           {
            "marker": {
             "colorbar": {
              "outlinewidth": 0,
              "ticks": ""
             }
            },
            "type": "scatterternary"
           }
          ],
          "surface": [
           {
            "colorbar": {
             "outlinewidth": 0,
             "ticks": ""
            },
            "colorscale": [
             [
              0,
              "#0d0887"
             ],
             [
              0.1111111111111111,
              "#46039f"
             ],
             [
              0.2222222222222222,
              "#7201a8"
             ],
             [
              0.3333333333333333,
              "#9c179e"
             ],
             [
              0.4444444444444444,
              "#bd3786"
             ],
             [
              0.5555555555555556,
              "#d8576b"
             ],
             [
              0.6666666666666666,
              "#ed7953"
             ],
             [
              0.7777777777777778,
              "#fb9f3a"
             ],
             [
              0.8888888888888888,
              "#fdca26"
             ],
             [
              1,
              "#f0f921"
             ]
            ],
            "type": "surface"
           }
          ],
          "table": [
           {
            "cells": {
             "fill": {
              "color": "#EBF0F8"
             },
             "line": {
              "color": "white"
             }
            },
            "header": {
             "fill": {
              "color": "#C8D4E3"
             },
             "line": {
              "color": "white"
             }
            },
            "type": "table"
           }
          ]
         },
         "layout": {
          "annotationdefaults": {
           "arrowcolor": "#2a3f5f",
           "arrowhead": 0,
           "arrowwidth": 1
          },
          "autotypenumbers": "strict",
          "coloraxis": {
           "colorbar": {
            "outlinewidth": 0,
            "ticks": ""
           }
          },
          "colorscale": {
           "diverging": [
            [
             0,
             "#8e0152"
            ],
            [
             0.1,
             "#c51b7d"
            ],
            [
             0.2,
             "#de77ae"
            ],
            [
             0.3,
             "#f1b6da"
            ],
            [
             0.4,
             "#fde0ef"
            ],
            [
             0.5,
             "#f7f7f7"
            ],
            [
             0.6,
             "#e6f5d0"
            ],
            [
             0.7,
             "#b8e186"
            ],
            [
             0.8,
             "#7fbc41"
            ],
            [
             0.9,
             "#4d9221"
            ],
            [
             1,
             "#276419"
            ]
           ],
           "sequential": [
            [
             0,
             "#0d0887"
            ],
            [
             0.1111111111111111,
             "#46039f"
            ],
            [
             0.2222222222222222,
             "#7201a8"
            ],
            [
             0.3333333333333333,
             "#9c179e"
            ],
            [
             0.4444444444444444,
             "#bd3786"
            ],
            [
             0.5555555555555556,
             "#d8576b"
            ],
            [
             0.6666666666666666,
             "#ed7953"
            ],
            [
             0.7777777777777778,
             "#fb9f3a"
            ],
            [
             0.8888888888888888,
             "#fdca26"
            ],
            [
             1,
             "#f0f921"
            ]
           ],
           "sequentialminus": [
            [
             0,
             "#0d0887"
            ],
            [
             0.1111111111111111,
             "#46039f"
            ],
            [
             0.2222222222222222,
             "#7201a8"
            ],
            [
             0.3333333333333333,
             "#9c179e"
            ],
            [
             0.4444444444444444,
             "#bd3786"
            ],
            [
             0.5555555555555556,
             "#d8576b"
            ],
            [
             0.6666666666666666,
             "#ed7953"
            ],
            [
             0.7777777777777778,
             "#fb9f3a"
            ],
            [
             0.8888888888888888,
             "#fdca26"
            ],
            [
             1,
             "#f0f921"
            ]
           ]
          },
          "colorway": [
           "#636efa",
           "#EF553B",
           "#00cc96",
           "#ab63fa",
           "#FFA15A",
           "#19d3f3",
           "#FF6692",
           "#B6E880",
           "#FF97FF",
           "#FECB52"
          ],
          "font": {
           "color": "#2a3f5f"
          },
          "geo": {
           "bgcolor": "white",
           "lakecolor": "white",
           "landcolor": "#E5ECF6",
           "showlakes": true,
           "showland": true,
           "subunitcolor": "white"
          },
          "hoverlabel": {
           "align": "left"
          },
          "hovermode": "closest",
          "mapbox": {
           "style": "light"
          },
          "paper_bgcolor": "white",
          "plot_bgcolor": "#E5ECF6",
          "polar": {
           "angularaxis": {
            "gridcolor": "white",
            "linecolor": "white",
            "ticks": ""
           },
           "bgcolor": "#E5ECF6",
           "radialaxis": {
            "gridcolor": "white",
            "linecolor": "white",
            "ticks": ""
           }
          },
          "scene": {
           "xaxis": {
            "backgroundcolor": "#E5ECF6",
            "gridcolor": "white",
            "gridwidth": 2,
            "linecolor": "white",
            "showbackground": true,
            "ticks": "",
            "zerolinecolor": "white"
           },
           "yaxis": {
            "backgroundcolor": "#E5ECF6",
            "gridcolor": "white",
            "gridwidth": 2,
            "linecolor": "white",
            "showbackground": true,
            "ticks": "",
            "zerolinecolor": "white"
           },
           "zaxis": {
            "backgroundcolor": "#E5ECF6",
            "gridcolor": "white",
            "gridwidth": 2,
            "linecolor": "white",
            "showbackground": true,
            "ticks": "",
            "zerolinecolor": "white"
           }
          },
          "shapedefaults": {
           "line": {
            "color": "#2a3f5f"
           }
          },
          "ternary": {
           "aaxis": {
            "gridcolor": "white",
            "linecolor": "white",
            "ticks": ""
           },
           "baxis": {
            "gridcolor": "white",
            "linecolor": "white",
            "ticks": ""
           },
           "bgcolor": "#E5ECF6",
           "caxis": {
            "gridcolor": "white",
            "linecolor": "white",
            "ticks": ""
           }
          },
          "title": {
           "x": 0.05
          },
          "xaxis": {
           "automargin": true,
           "gridcolor": "white",
           "linecolor": "white",
           "ticks": "",
           "title": {
            "standoff": 15
           },
           "zerolinecolor": "white",
           "zerolinewidth": 2
          },
          "yaxis": {
           "automargin": true,
           "gridcolor": "white",
           "linecolor": "white",
           "ticks": "",
           "title": {
            "standoff": 15
           },
           "zerolinecolor": "white",
           "zerolinewidth": 2
          }
         }
        },
        "title": {
         "text": "Loan Amount"
        },
        "xaxis": {
         "anchor": "y",
         "domain": [
          0,
          1
         ],
         "title": {
          "text": "Loan Amount"
         }
        },
        "yaxis": {
         "anchor": "x",
         "domain": [
          0,
          1
         ],
         "title": {
          "text": "count"
         }
        }
       }
      }
     },
     "metadata": {},
     "output_type": "display_data"
    }
   ],
   "source": [
    "loan_amount = px.histogram(df, x=\"Loan Amount\", nbins=20, title=\"Loan Amount\")\n",
    "loan_amount.show()"
   ]
  },
  {
   "cell_type": "code",
   "execution_count": 65,
   "metadata": {},
   "outputs": [
    {
     "data": {
      "application/vnd.plotly.v1+json": {
       "config": {
        "plotlyServerURL": "https://plot.ly"
       },
       "data": [
        {
         "coloraxis": "coloraxis",
         "hovertemplate": "x: %{x}<br>y: %{y}<br>color: %{z}<extra></extra>",
         "name": "0",
         "texttemplate": "%{z}",
         "type": "heatmap",
         "x": [
          "Age",
          "Credit Utilization Ratio",
          "Payment History",
          "Number of Credit Accounts",
          "Loan Amount",
          "Interest Rate"
         ],
         "xaxis": "x",
         "y": [
          "Age",
          "Credit Utilization Ratio",
          "Payment History",
          "Number of Credit Accounts",
          "Loan Amount",
          "Interest Rate"
         ],
         "yaxis": "y",
         "z": [
          [
           1,
           0.001307860567683492,
           -0.0031135823881984913,
           -0.050671634608587694,
           0.03411362142348516,
           0.03286718309119563
          ],
          [
           0.001307860567683492,
           1,
           0.0021141964664825558,
           -0.0018417352448918448,
           -0.014918441087073266,
           0.04823694488220739
          ],
          [
           -0.0031135823881984913,
           0.0021141964664825558,
           1,
           0.025022343665911207,
           -0.01908376738110175,
           -0.017618250959028903
          ],
          [
           -0.050671634608587694,
           -0.0018417352448918448,
           0.025022343665911207,
           1,
           0.03223218947381575,
           -0.0010828602014753936
          ],
          [
           0.03411362142348516,
           -0.014918441087073266,
           -0.01908376738110175,
           0.03223218947381575,
           1,
           0.04528807708804023
          ],
          [
           0.03286718309119563,
           0.04823694488220739,
           -0.017618250959028903,
           -0.0010828602014753936,
           0.04528807708804023,
           1
          ]
         ]
        }
       ],
       "layout": {
        "coloraxis": {
         "colorscale": [
          [
           0,
           "#0d0887"
          ],
          [
           0.1111111111111111,
           "#46039f"
          ],
          [
           0.2222222222222222,
           "#7201a8"
          ],
          [
           0.3333333333333333,
           "#9c179e"
          ],
          [
           0.4444444444444444,
           "#bd3786"
          ],
          [
           0.5555555555555556,
           "#d8576b"
          ],
          [
           0.6666666666666666,
           "#ed7953"
          ],
          [
           0.7777777777777778,
           "#fb9f3a"
          ],
          [
           0.8888888888888888,
           "#fdca26"
          ],
          [
           1,
           "#f0f921"
          ]
         ]
        },
        "template": {
         "data": {
          "bar": [
           {
            "error_x": {
             "color": "#2a3f5f"
            },
            "error_y": {
             "color": "#2a3f5f"
            },
            "marker": {
             "line": {
              "color": "#E5ECF6",
              "width": 0.5
             },
             "pattern": {
              "fillmode": "overlay",
              "size": 10,
              "solidity": 0.2
             }
            },
            "type": "bar"
           }
          ],
          "barpolar": [
           {
            "marker": {
             "line": {
              "color": "#E5ECF6",
              "width": 0.5
             },
             "pattern": {
              "fillmode": "overlay",
              "size": 10,
              "solidity": 0.2
             }
            },
            "type": "barpolar"
           }
          ],
          "carpet": [
           {
            "aaxis": {
             "endlinecolor": "#2a3f5f",
             "gridcolor": "white",
             "linecolor": "white",
             "minorgridcolor": "white",
             "startlinecolor": "#2a3f5f"
            },
            "baxis": {
             "endlinecolor": "#2a3f5f",
             "gridcolor": "white",
             "linecolor": "white",
             "minorgridcolor": "white",
             "startlinecolor": "#2a3f5f"
            },
            "type": "carpet"
           }
          ],
          "choropleth": [
           {
            "colorbar": {
             "outlinewidth": 0,
             "ticks": ""
            },
            "type": "choropleth"
           }
          ],
          "contour": [
           {
            "colorbar": {
             "outlinewidth": 0,
             "ticks": ""
            },
            "colorscale": [
             [
              0,
              "#0d0887"
             ],
             [
              0.1111111111111111,
              "#46039f"
             ],
             [
              0.2222222222222222,
              "#7201a8"
             ],
             [
              0.3333333333333333,
              "#9c179e"
             ],
             [
              0.4444444444444444,
              "#bd3786"
             ],
             [
              0.5555555555555556,
              "#d8576b"
             ],
             [
              0.6666666666666666,
              "#ed7953"
             ],
             [
              0.7777777777777778,
              "#fb9f3a"
             ],
             [
              0.8888888888888888,
              "#fdca26"
             ],
             [
              1,
              "#f0f921"
             ]
            ],
            "type": "contour"
           }
          ],
          "contourcarpet": [
           {
            "colorbar": {
             "outlinewidth": 0,
             "ticks": ""
            },
            "type": "contourcarpet"
           }
          ],
          "heatmap": [
           {
            "colorbar": {
             "outlinewidth": 0,
             "ticks": ""
            },
            "colorscale": [
             [
              0,
              "#0d0887"
             ],
             [
              0.1111111111111111,
              "#46039f"
             ],
             [
              0.2222222222222222,
              "#7201a8"
             ],
             [
              0.3333333333333333,
              "#9c179e"
             ],
             [
              0.4444444444444444,
              "#bd3786"
             ],
             [
              0.5555555555555556,
              "#d8576b"
             ],
             [
              0.6666666666666666,
              "#ed7953"
             ],
             [
              0.7777777777777778,
              "#fb9f3a"
             ],
             [
              0.8888888888888888,
              "#fdca26"
             ],
             [
              1,
              "#f0f921"
             ]
            ],
            "type": "heatmap"
           }
          ],
          "heatmapgl": [
           {
            "colorbar": {
             "outlinewidth": 0,
             "ticks": ""
            },
            "colorscale": [
             [
              0,
              "#0d0887"
             ],
             [
              0.1111111111111111,
              "#46039f"
             ],
             [
              0.2222222222222222,
              "#7201a8"
             ],
             [
              0.3333333333333333,
              "#9c179e"
             ],
             [
              0.4444444444444444,
              "#bd3786"
             ],
             [
              0.5555555555555556,
              "#d8576b"
             ],
             [
              0.6666666666666666,
              "#ed7953"
             ],
             [
              0.7777777777777778,
              "#fb9f3a"
             ],
             [
              0.8888888888888888,
              "#fdca26"
             ],
             [
              1,
              "#f0f921"
             ]
            ],
            "type": "heatmapgl"
           }
          ],
          "histogram": [
           {
            "marker": {
             "pattern": {
              "fillmode": "overlay",
              "size": 10,
              "solidity": 0.2
             }
            },
            "type": "histogram"
           }
          ],
          "histogram2d": [
           {
            "colorbar": {
             "outlinewidth": 0,
             "ticks": ""
            },
            "colorscale": [
             [
              0,
              "#0d0887"
             ],
             [
              0.1111111111111111,
              "#46039f"
             ],
             [
              0.2222222222222222,
              "#7201a8"
             ],
             [
              0.3333333333333333,
              "#9c179e"
             ],
             [
              0.4444444444444444,
              "#bd3786"
             ],
             [
              0.5555555555555556,
              "#d8576b"
             ],
             [
              0.6666666666666666,
              "#ed7953"
             ],
             [
              0.7777777777777778,
              "#fb9f3a"
             ],
             [
              0.8888888888888888,
              "#fdca26"
             ],
             [
              1,
              "#f0f921"
             ]
            ],
            "type": "histogram2d"
           }
          ],
          "histogram2dcontour": [
           {
            "colorbar": {
             "outlinewidth": 0,
             "ticks": ""
            },
            "colorscale": [
             [
              0,
              "#0d0887"
             ],
             [
              0.1111111111111111,
              "#46039f"
             ],
             [
              0.2222222222222222,
              "#7201a8"
             ],
             [
              0.3333333333333333,
              "#9c179e"
             ],
             [
              0.4444444444444444,
              "#bd3786"
             ],
             [
              0.5555555555555556,
              "#d8576b"
             ],
             [
              0.6666666666666666,
              "#ed7953"
             ],
             [
              0.7777777777777778,
              "#fb9f3a"
             ],
             [
              0.8888888888888888,
              "#fdca26"
             ],
             [
              1,
              "#f0f921"
             ]
            ],
            "type": "histogram2dcontour"
           }
          ],
          "mesh3d": [
           {
            "colorbar": {
             "outlinewidth": 0,
             "ticks": ""
            },
            "type": "mesh3d"
           }
          ],
          "parcoords": [
           {
            "line": {
             "colorbar": {
              "outlinewidth": 0,
              "ticks": ""
             }
            },
            "type": "parcoords"
           }
          ],
          "pie": [
           {
            "automargin": true,
            "type": "pie"
           }
          ],
          "scatter": [
           {
            "fillpattern": {
             "fillmode": "overlay",
             "size": 10,
             "solidity": 0.2
            },
            "type": "scatter"
           }
          ],
          "scatter3d": [
           {
            "line": {
             "colorbar": {
              "outlinewidth": 0,
              "ticks": ""
             }
            },
            "marker": {
             "colorbar": {
              "outlinewidth": 0,
              "ticks": ""
             }
            },
            "type": "scatter3d"
           }
          ],
          "scattercarpet": [
           {
            "marker": {
             "colorbar": {
              "outlinewidth": 0,
              "ticks": ""
             }
            },
            "type": "scattercarpet"
           }
          ],
          "scattergeo": [
           {
            "marker": {
             "colorbar": {
              "outlinewidth": 0,
              "ticks": ""
             }
            },
            "type": "scattergeo"
           }
          ],
          "scattergl": [
           {
            "marker": {
             "colorbar": {
              "outlinewidth": 0,
              "ticks": ""
             }
            },
            "type": "scattergl"
           }
          ],
          "scattermapbox": [
           {
            "marker": {
             "colorbar": {
              "outlinewidth": 0,
              "ticks": ""
             }
            },
            "type": "scattermapbox"
           }
          ],
          "scatterpolar": [
           {
            "marker": {
             "colorbar": {
              "outlinewidth": 0,
              "ticks": ""
             }
            },
            "type": "scatterpolar"
           }
          ],
          "scatterpolargl": [
           {
            "marker": {
             "colorbar": {
              "outlinewidth": 0,
              "ticks": ""
             }
            },
            "type": "scatterpolargl"
           }
          ],
          "scatterternary": [
           {
            "marker": {
             "colorbar": {
              "outlinewidth": 0,
              "ticks": ""
             }
            },
            "type": "scatterternary"
           }
          ],
          "surface": [
           {
            "colorbar": {
             "outlinewidth": 0,
             "ticks": ""
            },
            "colorscale": [
             [
              0,
              "#0d0887"
             ],
             [
              0.1111111111111111,
              "#46039f"
             ],
             [
              0.2222222222222222,
              "#7201a8"
             ],
             [
              0.3333333333333333,
              "#9c179e"
             ],
             [
              0.4444444444444444,
              "#bd3786"
             ],
             [
              0.5555555555555556,
              "#d8576b"
             ],
             [
              0.6666666666666666,
              "#ed7953"
             ],
             [
              0.7777777777777778,
              "#fb9f3a"
             ],
             [
              0.8888888888888888,
              "#fdca26"
             ],
             [
              1,
              "#f0f921"
             ]
            ],
            "type": "surface"
           }
          ],
          "table": [
           {
            "cells": {
             "fill": {
              "color": "#EBF0F8"
             },
             "line": {
              "color": "white"
             }
            },
            "header": {
             "fill": {
              "color": "#C8D4E3"
             },
             "line": {
              "color": "white"
             }
            },
            "type": "table"
           }
          ]
         },
         "layout": {
          "annotationdefaults": {
           "arrowcolor": "#2a3f5f",
           "arrowhead": 0,
           "arrowwidth": 1
          },
          "autotypenumbers": "strict",
          "coloraxis": {
           "colorbar": {
            "outlinewidth": 0,
            "ticks": ""
           }
          },
          "colorscale": {
           "diverging": [
            [
             0,
             "#8e0152"
            ],
            [
             0.1,
             "#c51b7d"
            ],
            [
             0.2,
             "#de77ae"
            ],
            [
             0.3,
             "#f1b6da"
            ],
            [
             0.4,
             "#fde0ef"
            ],
            [
             0.5,
             "#f7f7f7"
            ],
            [
             0.6,
             "#e6f5d0"
            ],
            [
             0.7,
             "#b8e186"
            ],
            [
             0.8,
             "#7fbc41"
            ],
            [
             0.9,
             "#4d9221"
            ],
            [
             1,
             "#276419"
            ]
           ],
           "sequential": [
            [
             0,
             "#0d0887"
            ],
            [
             0.1111111111111111,
             "#46039f"
            ],
            [
             0.2222222222222222,
             "#7201a8"
            ],
            [
             0.3333333333333333,
             "#9c179e"
            ],
            [
             0.4444444444444444,
             "#bd3786"
            ],
            [
             0.5555555555555556,
             "#d8576b"
            ],
            [
             0.6666666666666666,
             "#ed7953"
            ],
            [
             0.7777777777777778,
             "#fb9f3a"
            ],
            [
             0.8888888888888888,
             "#fdca26"
            ],
            [
             1,
             "#f0f921"
            ]
           ],
           "sequentialminus": [
            [
             0,
             "#0d0887"
            ],
            [
             0.1111111111111111,
             "#46039f"
            ],
            [
             0.2222222222222222,
             "#7201a8"
            ],
            [
             0.3333333333333333,
             "#9c179e"
            ],
            [
             0.4444444444444444,
             "#bd3786"
            ],
            [
             0.5555555555555556,
             "#d8576b"
            ],
            [
             0.6666666666666666,
             "#ed7953"
            ],
            [
             0.7777777777777778,
             "#fb9f3a"
            ],
            [
             0.8888888888888888,
             "#fdca26"
            ],
            [
             1,
             "#f0f921"
            ]
           ]
          },
          "colorway": [
           "#636efa",
           "#EF553B",
           "#00cc96",
           "#ab63fa",
           "#FFA15A",
           "#19d3f3",
           "#FF6692",
           "#B6E880",
           "#FF97FF",
           "#FECB52"
          ],
          "font": {
           "color": "#2a3f5f"
          },
          "geo": {
           "bgcolor": "white",
           "lakecolor": "white",
           "landcolor": "#E5ECF6",
           "showlakes": true,
           "showland": true,
           "subunitcolor": "white"
          },
          "hoverlabel": {
           "align": "left"
          },
          "hovermode": "closest",
          "mapbox": {
           "style": "light"
          },
          "paper_bgcolor": "white",
          "plot_bgcolor": "#E5ECF6",
          "polar": {
           "angularaxis": {
            "gridcolor": "white",
            "linecolor": "white",
            "ticks": ""
           },
           "bgcolor": "#E5ECF6",
           "radialaxis": {
            "gridcolor": "white",
            "linecolor": "white",
            "ticks": ""
           }
          },
          "scene": {
           "xaxis": {
            "backgroundcolor": "#E5ECF6",
            "gridcolor": "white",
            "gridwidth": 2,
            "linecolor": "white",
            "showbackground": true,
            "ticks": "",
            "zerolinecolor": "white"
           },
           "yaxis": {
            "backgroundcolor": "#E5ECF6",
            "gridcolor": "white",
            "gridwidth": 2,
            "linecolor": "white",
            "showbackground": true,
            "ticks": "",
            "zerolinecolor": "white"
           },
           "zaxis": {
            "backgroundcolor": "#E5ECF6",
            "gridcolor": "white",
            "gridwidth": 2,
            "linecolor": "white",
            "showbackground": true,
            "ticks": "",
            "zerolinecolor": "white"
           }
          },
          "shapedefaults": {
           "line": {
            "color": "#2a3f5f"
           }
          },
          "ternary": {
           "aaxis": {
            "gridcolor": "white",
            "linecolor": "white",
            "ticks": ""
           },
           "baxis": {
            "gridcolor": "white",
            "linecolor": "white",
            "ticks": ""
           },
           "bgcolor": "#E5ECF6",
           "caxis": {
            "gridcolor": "white",
            "linecolor": "white",
            "ticks": ""
           }
          },
          "title": {
           "x": 0.05
          },
          "xaxis": {
           "automargin": true,
           "gridcolor": "white",
           "linecolor": "white",
           "ticks": "",
           "title": {
            "standoff": 15
           },
           "zerolinecolor": "white",
           "zerolinewidth": 2
          },
          "yaxis": {
           "automargin": true,
           "gridcolor": "white",
           "linecolor": "white",
           "ticks": "",
           "title": {
            "standoff": 15
           },
           "zerolinecolor": "white",
           "zerolinewidth": 2
          }
         }
        },
        "title": {
         "text": "Correlation heatmap"
        },
        "xaxis": {
         "anchor": "y",
         "constrain": "domain",
         "domain": [
          0,
          1
         ],
         "scaleanchor": "y"
        },
        "yaxis": {
         "anchor": "x",
         "autorange": "reversed",
         "constrain": "domain",
         "domain": [
          0,
          1
         ]
        }
       }
      }
     },
     "metadata": {},
     "output_type": "display_data"
    }
   ],
   "source": [
    "numeric_features = ['Age', 'Credit Utilization Ratio', 'Payment History', 'Number of Credit Accounts', 'Loan Amount', 'Interest Rate']\n",
    "correlation_matrix = px.imshow(df[numeric_features].corr(), text_auto=True, title=\"Correlation heatmap\" )\n",
    "correlation_matrix.show()"
   ]
  },
  {
   "cell_type": "code",
   "execution_count": 66,
   "metadata": {},
   "outputs": [],
   "source": [
    "# FICO Score Method\n",
    "# Define the mapping for categorical features\n",
    "education_level_mapping = {\n",
    "    'High School': 1,\n",
    "    'Bachelor': 2,\n",
    "    'Master': 3,\n",
    "    'PhD': 4\n",
    "}\n",
    "\n",
    "marital_status_mapping = {\n",
    "    'Married': 1,\n",
    "    'Single': 0,\n",
    "    'Divorced': 2\n",
    "}\n",
    "\n",
    "employment_status_mapping = {\n",
    "    'Employed': 1,\n",
    "    'Unemployed': 0,\n",
    "    'Self-Employed': 2\n",
    "}\n",
    "# Apply mapping to categorical features\n",
    "df['Education Level'] = df['Education Level'].map(education_level_mapping)\n",
    "df['Employment Status'] = df['Employment Status'].map(employment_status_mapping)\n",
    "df['Marital Status'] = df['Marital Status'].map(marital_status_mapping)"
   ]
  },
  {
   "cell_type": "code",
   "execution_count": 67,
   "metadata": {},
   "outputs": [
    {
     "data": {
      "text/html": [
       "<div>\n",
       "<style scoped>\n",
       "    .dataframe tbody tr th:only-of-type {\n",
       "        vertical-align: middle;\n",
       "    }\n",
       "\n",
       "    .dataframe tbody tr th {\n",
       "        vertical-align: top;\n",
       "    }\n",
       "\n",
       "    .dataframe thead th {\n",
       "        text-align: right;\n",
       "    }\n",
       "</style>\n",
       "<table border=\"1\" class=\"dataframe\">\n",
       "  <thead>\n",
       "    <tr style=\"text-align: right;\">\n",
       "      <th></th>\n",
       "      <th>Age</th>\n",
       "      <th>Gender</th>\n",
       "      <th>Marital Status</th>\n",
       "      <th>Education Level</th>\n",
       "      <th>Employment Status</th>\n",
       "      <th>Credit Utilization Ratio</th>\n",
       "      <th>Payment History</th>\n",
       "      <th>Number of Credit Accounts</th>\n",
       "      <th>Loan Amount</th>\n",
       "      <th>Interest Rate</th>\n",
       "      <th>Loan Term</th>\n",
       "      <th>Type of Loan</th>\n",
       "    </tr>\n",
       "  </thead>\n",
       "  <tbody>\n",
       "    <tr>\n",
       "      <th>0</th>\n",
       "      <td>60</td>\n",
       "      <td>Male</td>\n",
       "      <td>1</td>\n",
       "      <td>3</td>\n",
       "      <td>1</td>\n",
       "      <td>0.22</td>\n",
       "      <td>2685.0</td>\n",
       "      <td>2</td>\n",
       "      <td>4675000</td>\n",
       "      <td>2.65</td>\n",
       "      <td>48</td>\n",
       "      <td>Personal Loan</td>\n",
       "    </tr>\n",
       "    <tr>\n",
       "      <th>1</th>\n",
       "      <td>25</td>\n",
       "      <td>Male</td>\n",
       "      <td>1</td>\n",
       "      <td>1</td>\n",
       "      <td>0</td>\n",
       "      <td>0.20</td>\n",
       "      <td>2371.0</td>\n",
       "      <td>9</td>\n",
       "      <td>3619000</td>\n",
       "      <td>5.19</td>\n",
       "      <td>60</td>\n",
       "      <td>Auto Loan</td>\n",
       "    </tr>\n",
       "    <tr>\n",
       "      <th>2</th>\n",
       "      <td>30</td>\n",
       "      <td>Female</td>\n",
       "      <td>0</td>\n",
       "      <td>3</td>\n",
       "      <td>1</td>\n",
       "      <td>0.22</td>\n",
       "      <td>2771.0</td>\n",
       "      <td>6</td>\n",
       "      <td>957000</td>\n",
       "      <td>2.76</td>\n",
       "      <td>12</td>\n",
       "      <td>Auto Loan</td>\n",
       "    </tr>\n",
       "    <tr>\n",
       "      <th>3</th>\n",
       "      <td>58</td>\n",
       "      <td>Female</td>\n",
       "      <td>1</td>\n",
       "      <td>4</td>\n",
       "      <td>0</td>\n",
       "      <td>0.12</td>\n",
       "      <td>1371.0</td>\n",
       "      <td>2</td>\n",
       "      <td>4731000</td>\n",
       "      <td>6.57</td>\n",
       "      <td>60</td>\n",
       "      <td>Auto Loan</td>\n",
       "    </tr>\n",
       "    <tr>\n",
       "      <th>4</th>\n",
       "      <td>32</td>\n",
       "      <td>Male</td>\n",
       "      <td>1</td>\n",
       "      <td>2</td>\n",
       "      <td>2</td>\n",
       "      <td>0.99</td>\n",
       "      <td>828.0</td>\n",
       "      <td>2</td>\n",
       "      <td>3289000</td>\n",
       "      <td>6.28</td>\n",
       "      <td>36</td>\n",
       "      <td>Personal Loan</td>\n",
       "    </tr>\n",
       "    <tr>\n",
       "      <th>...</th>\n",
       "      <td>...</td>\n",
       "      <td>...</td>\n",
       "      <td>...</td>\n",
       "      <td>...</td>\n",
       "      <td>...</td>\n",
       "      <td>...</td>\n",
       "      <td>...</td>\n",
       "      <td>...</td>\n",
       "      <td>...</td>\n",
       "      <td>...</td>\n",
       "      <td>...</td>\n",
       "      <td>...</td>\n",
       "    </tr>\n",
       "    <tr>\n",
       "      <th>995</th>\n",
       "      <td>59</td>\n",
       "      <td>Male</td>\n",
       "      <td>2</td>\n",
       "      <td>1</td>\n",
       "      <td>1</td>\n",
       "      <td>0.74</td>\n",
       "      <td>1285.0</td>\n",
       "      <td>8</td>\n",
       "      <td>3530000</td>\n",
       "      <td>12.99</td>\n",
       "      <td>48</td>\n",
       "      <td>Auto Loan</td>\n",
       "    </tr>\n",
       "    <tr>\n",
       "      <th>996</th>\n",
       "      <td>64</td>\n",
       "      <td>Male</td>\n",
       "      <td>2</td>\n",
       "      <td>2</td>\n",
       "      <td>0</td>\n",
       "      <td>0.77</td>\n",
       "      <td>1857.0</td>\n",
       "      <td>2</td>\n",
       "      <td>1377000</td>\n",
       "      <td>18.02</td>\n",
       "      <td>60</td>\n",
       "      <td>Home Loan</td>\n",
       "    </tr>\n",
       "    <tr>\n",
       "      <th>997</th>\n",
       "      <td>63</td>\n",
       "      <td>Female</td>\n",
       "      <td>0</td>\n",
       "      <td>3</td>\n",
       "      <td>2</td>\n",
       "      <td>0.18</td>\n",
       "      <td>2628.0</td>\n",
       "      <td>10</td>\n",
       "      <td>2443000</td>\n",
       "      <td>18.95</td>\n",
       "      <td>12</td>\n",
       "      <td>Personal Loan</td>\n",
       "    </tr>\n",
       "    <tr>\n",
       "      <th>998</th>\n",
       "      <td>51</td>\n",
       "      <td>Female</td>\n",
       "      <td>1</td>\n",
       "      <td>4</td>\n",
       "      <td>2</td>\n",
       "      <td>0.32</td>\n",
       "      <td>1142.0</td>\n",
       "      <td>3</td>\n",
       "      <td>1301000</td>\n",
       "      <td>1.80</td>\n",
       "      <td>24</td>\n",
       "      <td>Auto Loan</td>\n",
       "    </tr>\n",
       "    <tr>\n",
       "      <th>999</th>\n",
       "      <td>37</td>\n",
       "      <td>Female</td>\n",
       "      <td>1</td>\n",
       "      <td>3</td>\n",
       "      <td>2</td>\n",
       "      <td>0.17</td>\n",
       "      <td>1028.0</td>\n",
       "      <td>5</td>\n",
       "      <td>4182000</td>\n",
       "      <td>9.34</td>\n",
       "      <td>24</td>\n",
       "      <td>Auto Loan</td>\n",
       "    </tr>\n",
       "  </tbody>\n",
       "</table>\n",
       "<p>1000 rows × 12 columns</p>\n",
       "</div>"
      ],
      "text/plain": [
       "     Age  Gender  Marital Status  Education Level  Employment Status  \\\n",
       "0     60    Male               1                3                  1   \n",
       "1     25    Male               1                1                  0   \n",
       "2     30  Female               0                3                  1   \n",
       "3     58  Female               1                4                  0   \n",
       "4     32    Male               1                2                  2   \n",
       "..   ...     ...             ...              ...                ...   \n",
       "995   59    Male               2                1                  1   \n",
       "996   64    Male               2                2                  0   \n",
       "997   63  Female               0                3                  2   \n",
       "998   51  Female               1                4                  2   \n",
       "999   37  Female               1                3                  2   \n",
       "\n",
       "     Credit Utilization Ratio  Payment History  Number of Credit Accounts  \\\n",
       "0                        0.22           2685.0                          2   \n",
       "1                        0.20           2371.0                          9   \n",
       "2                        0.22           2771.0                          6   \n",
       "3                        0.12           1371.0                          2   \n",
       "4                        0.99            828.0                          2   \n",
       "..                        ...              ...                        ...   \n",
       "995                      0.74           1285.0                          8   \n",
       "996                      0.77           1857.0                          2   \n",
       "997                      0.18           2628.0                         10   \n",
       "998                      0.32           1142.0                          3   \n",
       "999                      0.17           1028.0                          5   \n",
       "\n",
       "     Loan Amount  Interest Rate  Loan Term   Type of Loan  \n",
       "0        4675000           2.65         48  Personal Loan  \n",
       "1        3619000           5.19         60      Auto Loan  \n",
       "2         957000           2.76         12      Auto Loan  \n",
       "3        4731000           6.57         60      Auto Loan  \n",
       "4        3289000           6.28         36  Personal Loan  \n",
       "..           ...            ...        ...            ...  \n",
       "995      3530000          12.99         48      Auto Loan  \n",
       "996      1377000          18.02         60      Home Loan  \n",
       "997      2443000          18.95         12  Personal Loan  \n",
       "998      1301000           1.80         24      Auto Loan  \n",
       "999      4182000           9.34         24      Auto Loan  \n",
       "\n",
       "[1000 rows x 12 columns]"
      ]
     },
     "execution_count": 67,
     "metadata": {},
     "output_type": "execute_result"
    }
   ],
   "source": [
    "df"
   ]
  },
  {
   "cell_type": "code",
   "execution_count": 69,
   "metadata": {},
   "outputs": [
    {
     "data": {
      "text/html": [
       "<div>\n",
       "<style scoped>\n",
       "    .dataframe tbody tr th:only-of-type {\n",
       "        vertical-align: middle;\n",
       "    }\n",
       "\n",
       "    .dataframe tbody tr th {\n",
       "        vertical-align: top;\n",
       "    }\n",
       "\n",
       "    .dataframe thead th {\n",
       "        text-align: right;\n",
       "    }\n",
       "</style>\n",
       "<table border=\"1\" class=\"dataframe\">\n",
       "  <thead>\n",
       "    <tr style=\"text-align: right;\">\n",
       "      <th></th>\n",
       "      <th>Age</th>\n",
       "      <th>Gender</th>\n",
       "      <th>Marital Status</th>\n",
       "      <th>Education Level</th>\n",
       "      <th>Employment Status</th>\n",
       "      <th>Credit Utilization Ratio</th>\n",
       "      <th>Payment History</th>\n",
       "      <th>Number of Credit Accounts</th>\n",
       "      <th>Loan Amount</th>\n",
       "      <th>Interest Rate</th>\n",
       "      <th>Loan Term</th>\n",
       "      <th>Type of Loan</th>\n",
       "      <th>Credit Score</th>\n",
       "    </tr>\n",
       "  </thead>\n",
       "  <tbody>\n",
       "    <tr>\n",
       "      <th>0</th>\n",
       "      <td>60</td>\n",
       "      <td>Male</td>\n",
       "      <td>1</td>\n",
       "      <td>3</td>\n",
       "      <td>1</td>\n",
       "      <td>0.22</td>\n",
       "      <td>2685.0</td>\n",
       "      <td>2</td>\n",
       "      <td>4675000</td>\n",
       "      <td>2.65</td>\n",
       "      <td>48</td>\n",
       "      <td>Personal Loan</td>\n",
       "      <td>1054.45</td>\n",
       "    </tr>\n",
       "    <tr>\n",
       "      <th>1</th>\n",
       "      <td>25</td>\n",
       "      <td>Male</td>\n",
       "      <td>1</td>\n",
       "      <td>1</td>\n",
       "      <td>0</td>\n",
       "      <td>0.20</td>\n",
       "      <td>2371.0</td>\n",
       "      <td>9</td>\n",
       "      <td>3619000</td>\n",
       "      <td>5.19</td>\n",
       "      <td>60</td>\n",
       "      <td>Auto Loan</td>\n",
       "      <td>923.35</td>\n",
       "    </tr>\n",
       "    <tr>\n",
       "      <th>2</th>\n",
       "      <td>30</td>\n",
       "      <td>Female</td>\n",
       "      <td>0</td>\n",
       "      <td>3</td>\n",
       "      <td>1</td>\n",
       "      <td>0.22</td>\n",
       "      <td>2771.0</td>\n",
       "      <td>6</td>\n",
       "      <td>957000</td>\n",
       "      <td>2.76</td>\n",
       "      <td>12</td>\n",
       "      <td>Auto Loan</td>\n",
       "      <td>1086.05</td>\n",
       "    </tr>\n",
       "    <tr>\n",
       "      <th>3</th>\n",
       "      <td>58</td>\n",
       "      <td>Female</td>\n",
       "      <td>1</td>\n",
       "      <td>4</td>\n",
       "      <td>0</td>\n",
       "      <td>0.12</td>\n",
       "      <td>1371.0</td>\n",
       "      <td>2</td>\n",
       "      <td>4731000</td>\n",
       "      <td>6.57</td>\n",
       "      <td>60</td>\n",
       "      <td>Auto Loan</td>\n",
       "      <td>603.55</td>\n",
       "    </tr>\n",
       "    <tr>\n",
       "      <th>4</th>\n",
       "      <td>32</td>\n",
       "      <td>Male</td>\n",
       "      <td>1</td>\n",
       "      <td>2</td>\n",
       "      <td>2</td>\n",
       "      <td>0.99</td>\n",
       "      <td>828.0</td>\n",
       "      <td>2</td>\n",
       "      <td>3289000</td>\n",
       "      <td>6.28</td>\n",
       "      <td>36</td>\n",
       "      <td>Personal Loan</td>\n",
       "      <td>335.20</td>\n",
       "    </tr>\n",
       "    <tr>\n",
       "      <th>...</th>\n",
       "      <td>...</td>\n",
       "      <td>...</td>\n",
       "      <td>...</td>\n",
       "      <td>...</td>\n",
       "      <td>...</td>\n",
       "      <td>...</td>\n",
       "      <td>...</td>\n",
       "      <td>...</td>\n",
       "      <td>...</td>\n",
       "      <td>...</td>\n",
       "      <td>...</td>\n",
       "      <td>...</td>\n",
       "      <td>...</td>\n",
       "    </tr>\n",
       "    <tr>\n",
       "      <th>995</th>\n",
       "      <td>59</td>\n",
       "      <td>Male</td>\n",
       "      <td>2</td>\n",
       "      <td>1</td>\n",
       "      <td>1</td>\n",
       "      <td>0.74</td>\n",
       "      <td>1285.0</td>\n",
       "      <td>8</td>\n",
       "      <td>3530000</td>\n",
       "      <td>12.99</td>\n",
       "      <td>48</td>\n",
       "      <td>Auto Loan</td>\n",
       "      <td>506.15</td>\n",
       "    </tr>\n",
       "    <tr>\n",
       "      <th>996</th>\n",
       "      <td>64</td>\n",
       "      <td>Male</td>\n",
       "      <td>2</td>\n",
       "      <td>2</td>\n",
       "      <td>0</td>\n",
       "      <td>0.77</td>\n",
       "      <td>1857.0</td>\n",
       "      <td>2</td>\n",
       "      <td>1377000</td>\n",
       "      <td>18.02</td>\n",
       "      <td>60</td>\n",
       "      <td>Home Loan</td>\n",
       "      <td>697.65</td>\n",
       "    </tr>\n",
       "    <tr>\n",
       "      <th>997</th>\n",
       "      <td>63</td>\n",
       "      <td>Female</td>\n",
       "      <td>0</td>\n",
       "      <td>3</td>\n",
       "      <td>2</td>\n",
       "      <td>0.18</td>\n",
       "      <td>2628.0</td>\n",
       "      <td>10</td>\n",
       "      <td>2443000</td>\n",
       "      <td>18.95</td>\n",
       "      <td>12</td>\n",
       "      <td>Personal Loan</td>\n",
       "      <td>1053.60</td>\n",
       "    </tr>\n",
       "    <tr>\n",
       "      <th>998</th>\n",
       "      <td>51</td>\n",
       "      <td>Female</td>\n",
       "      <td>1</td>\n",
       "      <td>4</td>\n",
       "      <td>2</td>\n",
       "      <td>0.32</td>\n",
       "      <td>1142.0</td>\n",
       "      <td>3</td>\n",
       "      <td>1301000</td>\n",
       "      <td>1.80</td>\n",
       "      <td>24</td>\n",
       "      <td>Auto Loan</td>\n",
       "      <td>526.40</td>\n",
       "    </tr>\n",
       "    <tr>\n",
       "      <th>999</th>\n",
       "      <td>37</td>\n",
       "      <td>Female</td>\n",
       "      <td>1</td>\n",
       "      <td>3</td>\n",
       "      <td>2</td>\n",
       "      <td>0.17</td>\n",
       "      <td>1028.0</td>\n",
       "      <td>5</td>\n",
       "      <td>4182000</td>\n",
       "      <td>9.34</td>\n",
       "      <td>24</td>\n",
       "      <td>Auto Loan</td>\n",
       "      <td>492.00</td>\n",
       "    </tr>\n",
       "  </tbody>\n",
       "</table>\n",
       "<p>1000 rows × 13 columns</p>\n",
       "</div>"
      ],
      "text/plain": [
       "     Age  Gender  Marital Status  Education Level  Employment Status  \\\n",
       "0     60    Male               1                3                  1   \n",
       "1     25    Male               1                1                  0   \n",
       "2     30  Female               0                3                  1   \n",
       "3     58  Female               1                4                  0   \n",
       "4     32    Male               1                2                  2   \n",
       "..   ...     ...             ...              ...                ...   \n",
       "995   59    Male               2                1                  1   \n",
       "996   64    Male               2                2                  0   \n",
       "997   63  Female               0                3                  2   \n",
       "998   51  Female               1                4                  2   \n",
       "999   37  Female               1                3                  2   \n",
       "\n",
       "     Credit Utilization Ratio  Payment History  Number of Credit Accounts  \\\n",
       "0                        0.22           2685.0                          2   \n",
       "1                        0.20           2371.0                          9   \n",
       "2                        0.22           2771.0                          6   \n",
       "3                        0.12           1371.0                          2   \n",
       "4                        0.99            828.0                          2   \n",
       "..                        ...              ...                        ...   \n",
       "995                      0.74           1285.0                          8   \n",
       "996                      0.77           1857.0                          2   \n",
       "997                      0.18           2628.0                         10   \n",
       "998                      0.32           1142.0                          3   \n",
       "999                      0.17           1028.0                          5   \n",
       "\n",
       "     Loan Amount  Interest Rate  Loan Term   Type of Loan  Credit Score  \n",
       "0        4675000           2.65         48  Personal Loan       1054.45  \n",
       "1        3619000           5.19         60      Auto Loan        923.35  \n",
       "2         957000           2.76         12      Auto Loan       1086.05  \n",
       "3        4731000           6.57         60      Auto Loan        603.55  \n",
       "4        3289000           6.28         36  Personal Loan        335.20  \n",
       "..           ...            ...        ...            ...           ...  \n",
       "995      3530000          12.99         48      Auto Loan        506.15  \n",
       "996      1377000          18.02         60      Home Loan        697.65  \n",
       "997      2443000          18.95         12  Personal Loan       1053.60  \n",
       "998      1301000           1.80         24      Auto Loan        526.40  \n",
       "999      4182000           9.34         24      Auto Loan        492.00  \n",
       "\n",
       "[1000 rows x 13 columns]"
      ]
     },
     "execution_count": 69,
     "metadata": {},
     "output_type": "execute_result"
    }
   ],
   "source": [
    "# FICO Score Method\n",
    "# calculate credit score\n",
    "credit_scores =[]\n",
    "\n",
    "for index, row in df.iterrows():\n",
    "    payment_history = row['Payment History']\n",
    "    credit_utilization_ratio = row['Credit Utilization Ratio']\n",
    "    number_of_credit_account = row['Number of Credit Accounts']\n",
    "    marital_status = row['Marital Status']\n",
    "    education_level = row['Education Level']\n",
    "    employment_status = row['Employment Status']\n",
    "\n",
    "    # FICO Score Calculation (Weighted Formula)\n",
    "    credit_score = credit_score = ((payment_history * 0.35) +  # Payment History\n",
    "        ((1 - credit_utilization_ratio) * 300 * 0.30) +  # Lower utilization is better\n",
    "        (number_of_credit_account * 10 * 0.10) +  # More accounts can be better, up to a limit\n",
    "        (marital_status * 50 * 0.05) +  # Being married adds slight stability\n",
    "        (education_level * 100 * 0.10) +  # Higher education boosts score\n",
    "        (employment_status * 100 * 0.10)  # Being employed helps\n",
    "    )\n",
    "    credit_scores.append(credit_score)\n",
    "\n",
    "df['Credit Score'] = credit_scores\n",
    "df\n"
   ]
  },
  {
   "cell_type": "code",
   "execution_count": 72,
   "metadata": {},
   "outputs": [],
   "source": [
    "# Segmentation Based on Credit Score\n",
    "from sklearn.cluster import KMeans\n",
    "\n",
    "X = df[['Credit Score']]\n",
    "kmeans = KMeans(n_clusters = 4, n_init=10, random_state=42)\n",
    "kmeans.fit(X)\n",
    "df['Segment'] = kmeans.labels_"
   ]
  },
  {
   "cell_type": "code",
   "execution_count": 73,
   "metadata": {},
   "outputs": [
    {
     "data": {
      "application/vnd.plotly.v1+json": {
       "config": {
        "plotlyServerURL": "https://plot.ly"
       },
       "data": [
        {
         "hovertemplate": "Segment=1<br>index=%{x}<br>Credit Score=%{y}<extra></extra>",
         "legendgroup": "1",
         "marker": {
          "color": "green",
          "symbol": "circle"
         },
         "mode": "markers",
         "name": "1",
         "orientation": "v",
         "showlegend": true,
         "type": "scatter",
         "x": [
          0,
          1,
          2,
          5,
          6,
          14,
          26,
          41,
          48,
          60,
          63,
          64,
          67,
          71,
          72,
          73,
          74,
          75,
          79,
          97,
          103,
          104,
          108,
          117,
          125,
          129,
          135,
          140,
          144,
          147,
          148,
          149,
          153,
          154,
          156,
          169,
          171,
          173,
          175,
          178,
          192,
          200,
          203,
          212,
          213,
          220,
          221,
          224,
          233,
          240,
          242,
          247,
          249,
          250,
          253,
          255,
          264,
          274,
          278,
          281,
          284,
          286,
          288,
          292,
          298,
          300,
          302,
          308,
          311,
          313,
          314,
          316,
          317,
          322,
          328,
          332,
          340,
          341,
          345,
          350,
          351,
          352,
          355,
          356,
          357,
          358,
          362,
          364,
          365,
          372,
          373,
          378,
          383,
          394,
          398,
          407,
          409,
          416,
          418,
          426,
          428,
          433,
          439,
          444,
          447,
          451,
          458,
          464,
          467,
          468,
          470,
          477,
          481,
          484,
          488,
          491,
          492,
          494,
          496,
          504,
          506,
          507,
          508,
          509,
          513,
          526,
          529,
          533,
          538,
          543,
          544,
          545,
          546,
          547,
          548,
          549,
          551,
          552,
          553,
          555,
          560,
          563,
          564,
          566,
          568,
          569,
          583,
          587,
          589,
          594,
          598,
          604,
          608,
          612,
          614,
          620,
          622,
          626,
          637,
          639,
          640,
          642,
          647,
          654,
          661,
          667,
          669,
          681,
          689,
          690,
          695,
          697,
          699,
          701,
          702,
          722,
          730,
          737,
          744,
          746,
          749,
          752,
          753,
          755,
          756,
          763,
          765,
          766,
          769,
          774,
          782,
          788,
          791,
          801,
          802,
          806,
          807,
          812,
          813,
          819,
          821,
          822,
          823,
          842,
          846,
          855,
          856,
          858,
          859,
          860,
          869,
          874,
          875,
          880,
          891,
          895,
          898,
          899,
          901,
          913,
          921,
          926,
          939,
          940,
          945,
          948,
          949,
          957,
          970,
          972,
          985,
          987,
          991,
          992,
          997
         ],
         "xaxis": "x",
         "y": [
          1054.4499999999998,
          923.3499999999999,
          1086.05,
          862.0999999999999,
          1067.1999999999998,
          890.8499999999999,
          870.6499999999999,
          1007.4,
          912.9,
          999.0999999999999,
          958.55,
          874.9499999999999,
          871.15,
          885.7,
          973.1999999999999,
          1116.1999999999998,
          1047.8,
          947.05,
          1104.1499999999999,
          1053.35,
          1033,
          936.0999999999999,
          1013.5,
          926.1999999999999,
          897.8,
          1053.15,
          892.65,
          975.0999999999999,
          1059.5,
          963.55,
          1025.1999999999998,
          981.4999999999999,
          926.4,
          995.4,
          992.9,
          933.3,
          1024.4,
          1074.85,
          926.8999999999999,
          891.4999999999999,
          936.9499999999999,
          965.3499999999999,
          879.35,
          884.8,
          879,
          1107.75,
          967.4499999999999,
          883.7499999999999,
          955.3,
          892.8499999999999,
          1065.2999999999997,
          977.4499999999999,
          1120.2,
          1054,
          938.3,
          1025.3999999999999,
          1111.35,
          863.95,
          1062.2999999999997,
          878.6,
          989.5,
          980.65,
          947.75,
          966.4,
          1023.55,
          959.4499999999999,
          934.35,
          865.8,
          890.9499999999999,
          1070.25,
          1004.6999999999999,
          975.95,
          1024.1999999999998,
          1054.75,
          1017.0999999999999,
          1085.8999999999999,
          1036.8999999999999,
          1046.1,
          924.35,
          966.4499999999999,
          974.8499999999999,
          1005.6499999999999,
          950.5999999999999,
          1039.1,
          1083.6999999999998,
          1022.8,
          1047.1,
          888.5999999999999,
          1040.8,
          1022.4999999999999,
          1129.25,
          978.05,
          1087.4499999999998,
          1010.05,
          966.0999999999999,
          989,
          979.15,
          870.75,
          989.9,
          1056.55,
          948.1999999999999,
          1025.1999999999998,
          920.7499999999999,
          981.65,
          1057.4499999999998,
          1045.6,
          895.75,
          1115.6,
          896.9,
          1004.6499999999999,
          943.4999999999999,
          962.8,
          865.9,
          925.7499999999999,
          1123.55,
          908.2,
          1082.7999999999997,
          941.15,
          999.1499999999999,
          866.5999999999999,
          943.5,
          939.8,
          972.0999999999999,
          883.9,
          1014.6,
          1116.8999999999999,
          978.6999999999999,
          1118.05,
          915.75,
          1100.6499999999999,
          956.8,
          1070.25,
          910.5,
          1008.1999999999999,
          895.9,
          1064.25,
          1093.5,
          1013.3499999999999,
          892,
          915.4,
          921.0999999999999,
          950.55,
          1011.9499999999999,
          1033.6999999999998,
          1069.75,
          880.9,
          1056.55,
          940.05,
          1014.6999999999999,
          900.25,
          1059.25,
          912.9,
          1043.5,
          966.3,
          1042,
          960.9,
          1058.6999999999998,
          1044.4499999999998,
          930.55,
          872.3,
          1095.3999999999999,
          892.55,
          863.1999999999999,
          868.0999999999999,
          1014.6999999999999,
          987.75,
          1022.0499999999998,
          964.6499999999999,
          879.4499999999999,
          1037.35,
          982.3,
          1018.2499999999999,
          915.8499999999999,
          903.05,
          975.4,
          977.1,
          990.4999999999999,
          1022.4999999999999,
          976.8,
          925.05,
          894.95,
          877.95,
          1050.35,
          1036.1999999999998,
          1022.8,
          971.05,
          996.3499999999999,
          924.2499999999999,
          1060.5,
          1043.35,
          1038.7999999999997,
          974.55,
          1054.1,
          930.2499999999999,
          941.6999999999999,
          996.9999999999999,
          926.05,
          1033.8,
          1063.55,
          1089.3,
          1064.3,
          1071.5,
          1072.75,
          1001.3499999999999,
          999.5,
          1082.8999999999999,
          938.9499999999999,
          1024.8,
          925.3,
          983.8499999999999,
          1056.6999999999998,
          932.5999999999999,
          906,
          1056.6,
          861.45,
          1074.1,
          900.15,
          901.5,
          1045.65,
          971.9,
          976.3,
          997.5999999999999,
          1096.3999999999999,
          1120.75,
          999.0999999999999,
          1053.8,
          910.6999999999999,
          960.6999999999999,
          916,
          876.55,
          892.6499999999999,
          1052.6,
          927.5,
          1049.8999999999999,
          1053.6
         ],
         "yaxis": "y"
        },
        {
         "hovertemplate": "Segment=0<br>index=%{x}<br>Credit Score=%{y}<extra></extra>",
         "legendgroup": "0",
         "marker": {
          "color": "blue",
          "symbol": "circle"
         },
         "mode": "markers",
         "name": "0",
         "orientation": "v",
         "showlegend": true,
         "type": "scatter",
         "x": [
          3,
          7,
          8,
          12,
          21,
          34,
          36,
          37,
          44,
          49,
          51,
          52,
          55,
          58,
          59,
          68,
          82,
          84,
          86,
          88,
          89,
          90,
          91,
          92,
          95,
          101,
          106,
          107,
          115,
          116,
          123,
          132,
          134,
          137,
          141,
          143,
          145,
          146,
          157,
          160,
          161,
          163,
          165,
          170,
          176,
          180,
          182,
          190,
          191,
          214,
          215,
          217,
          226,
          229,
          230,
          241,
          246,
          251,
          256,
          259,
          260,
          263,
          268,
          269,
          270,
          271,
          276,
          279,
          287,
          289,
          291,
          296,
          301,
          303,
          305,
          309,
          315,
          323,
          329,
          330,
          331,
          333,
          334,
          336,
          338,
          343,
          349,
          353,
          354,
          359,
          366,
          368,
          371,
          376,
          385,
          388,
          391,
          393,
          399,
          400,
          403,
          404,
          405,
          406,
          408,
          411,
          415,
          417,
          429,
          430,
          432,
          434,
          440,
          443,
          446,
          450,
          456,
          460,
          466,
          469,
          471,
          475,
          478,
          480,
          482,
          485,
          487,
          495,
          497,
          499,
          500,
          514,
          515,
          516,
          518,
          519,
          520,
          527,
          528,
          530,
          535,
          536,
          537,
          539,
          554,
          561,
          562,
          565,
          567,
          570,
          571,
          573,
          574,
          584,
          588,
          590,
          593,
          599,
          600,
          601,
          602,
          603,
          605,
          607,
          609,
          610,
          615,
          618,
          629,
          630,
          632,
          638,
          655,
          656,
          657,
          659,
          678,
          679,
          686,
          693,
          694,
          696,
          700,
          705,
          715,
          718,
          723,
          724,
          725,
          726,
          727,
          728,
          731,
          736,
          740,
          742,
          745,
          748,
          751,
          754,
          759,
          762,
          770,
          772,
          775,
          781,
          789,
          793,
          808,
          809,
          810,
          816,
          818,
          825,
          826,
          827,
          828,
          832,
          838,
          845,
          847,
          850,
          852,
          854,
          861,
          862,
          863,
          865,
          870,
          873,
          884,
          885,
          889,
          890,
          892,
          896,
          905,
          906,
          907,
          910,
          911,
          917,
          918,
          919,
          925,
          932,
          934,
          938,
          943,
          946,
          947,
          951,
          952,
          954,
          961,
          963,
          967,
          971,
          977,
          978,
          979,
          981,
          983,
          989,
          995,
          998,
          999
         ],
         "xaxis": "x",
         "y": [
          603.55,
          583.4,
          382,
          420.2,
          398.75,
          411,
          484.5,
          497.95,
          381.05,
          526.3,
          400.44999999999993,
          480.2,
          490.75,
          597.85,
          421.84999999999997,
          497.09999999999997,
          556.8,
          420.05,
          530.35,
          398.79999999999995,
          444.4,
          520.3,
          416.9,
          392.2,
          420.2,
          536.95,
          576.0999999999999,
          514.95,
          531.05,
          518.7,
          542.9,
          591.1999999999999,
          377.25,
          557.0999999999999,
          579.4,
          525.8499999999999,
          579.1999999999999,
          486.4,
          477.84999999999997,
          575.9499999999999,
          412,
          520.1999999999999,
          455.65,
          396.55,
          537.8,
          445.34999999999997,
          373.1,
          579.5,
          566.35,
          355.25,
          462.84999999999997,
          534.7,
          485.79999999999995,
          570.4,
          426.3,
          525.3499999999999,
          395.9,
          468.8,
          375.5,
          381.65,
          544.5,
          536.25,
          562.0999999999999,
          478.7,
          429.35,
          510.25,
          388.79999999999995,
          558.8,
          598,
          590.05,
          401.75,
          608.8,
          533,
          588.35,
          582.2,
          386.45,
          497.4,
          374.7,
          511.9,
          395.45,
          586.4,
          487.29999999999995,
          383.35,
          571.35,
          490.49999999999994,
          497.34999999999997,
          549.9499999999999,
          468.5,
          389.34999999999997,
          436.9,
          361.95,
          496.8,
          417.25,
          529.15,
          378.59999999999997,
          397.9,
          593.4,
          412.34999999999997,
          386.94999999999993,
          370,
          453.9,
          390.45,
          531.9,
          565.9499999999999,
          433.09999999999997,
          571.5999999999999,
          574.65,
          451.9,
          572.3499999999999,
          510.6499999999999,
          446.7,
          519.95,
          591,
          574.15,
          513.15,
          472.15,
          576.25,
          496.4,
          598.8,
          504.65,
          539.75,
          364.75,
          575.55,
          489.8,
          545.75,
          595.55,
          459.3,
          374.2,
          453.2,
          406.85,
          542.5,
          490.45,
          405.7,
          367.75,
          484.25,
          517,
          397.9,
          389.09999999999997,
          568.5,
          506.59999999999997,
          499.9,
          598.6999999999999,
          480.1,
          410.79999999999995,
          523.8,
          479.34999999999997,
          584,
          570.15,
          453.9,
          595.05,
          603.8,
          592.75,
          486.75,
          432.59999999999997,
          427.9,
          472.45,
          493.1499999999999,
          442.29999999999995,
          489.34999999999997,
          458.35,
          541.55,
          537.4,
          500.45,
          423,
          396.55,
          411.4,
          464.3,
          422.15,
          521.1,
          453.45,
          410.2,
          443.15,
          582.8,
          553.35,
          594.5,
          418.29999999999995,
          469.59999999999997,
          479.2,
          482.95,
          470.7,
          464.6,
          527.55,
          398.3,
          531.6999999999999,
          490.2,
          433.29999999999995,
          388.95,
          425.45,
          589,
          422.95,
          507,
          431.49999999999994,
          502.8499999999999,
          582.4,
          564.5,
          428.4,
          587.5999999999999,
          487.19999999999993,
          405.54999999999995,
          391.05,
          389.5,
          598.3499999999999,
          463.99999999999994,
          461.65,
          538.0999999999999,
          358.2,
          583.4,
          446.75,
          590.65,
          563.15,
          489.8,
          501.7,
          567.4,
          430.5,
          357.09999999999997,
          534.55,
          468.9,
          411.9,
          353.5,
          467.69999999999993,
          426,
          490.65,
          506.44999999999993,
          567.8,
          366.2,
          545.25,
          473.3,
          505.29999999999995,
          442.09999999999997,
          450.09999999999997,
          363.25,
          571.75,
          494.95,
          598.3,
          550.8999999999999,
          447.6,
          378.25,
          519.9,
          372.94999999999993,
          565.35,
          411.2,
          388.34999999999997,
          529.6999999999999,
          562.1,
          404.9,
          583.75,
          487.65,
          599.0999999999999,
          474.65,
          357.7,
          370.75,
          354.95,
          515.3499999999999,
          488.55,
          414.99999999999994,
          393.4,
          558.8,
          574.4,
          420.09999999999997,
          393.1,
          448.09999999999997,
          425.1,
          599.4499999999999,
          524.4,
          506.1499999999999,
          526.4,
          491.99999999999994
         ],
         "yaxis": "y"
        },
        {
         "hovertemplate": "Segment=2<br>index=%{x}<br>Credit Score=%{y}<extra></extra>",
         "legendgroup": "2",
         "marker": {
          "color": "yellow",
          "symbol": "circle"
         },
         "mode": "markers",
         "name": "2",
         "orientation": "v",
         "showlegend": true,
         "type": "scatter",
         "x": [
          4,
          10,
          11,
          16,
          18,
          24,
          27,
          28,
          30,
          31,
          33,
          46,
          47,
          50,
          53,
          56,
          57,
          61,
          65,
          76,
          77,
          78,
          85,
          93,
          96,
          98,
          99,
          105,
          109,
          110,
          112,
          113,
          114,
          122,
          126,
          128,
          136,
          142,
          151,
          152,
          158,
          166,
          168,
          172,
          174,
          179,
          184,
          187,
          188,
          194,
          196,
          202,
          204,
          205,
          208,
          210,
          216,
          219,
          222,
          227,
          232,
          237,
          238,
          239,
          245,
          248,
          252,
          254,
          257,
          258,
          261,
          266,
          267,
          272,
          273,
          275,
          282,
          283,
          290,
          297,
          299,
          318,
          319,
          320,
          324,
          327,
          337,
          339,
          344,
          347,
          348,
          361,
          367,
          369,
          370,
          375,
          377,
          379,
          382,
          384,
          389,
          390,
          410,
          413,
          414,
          422,
          424,
          425,
          427,
          435,
          436,
          437,
          438,
          448,
          449,
          452,
          453,
          454,
          455,
          457,
          459,
          462,
          463,
          465,
          472,
          476,
          486,
          493,
          502,
          505,
          511,
          512,
          521,
          522,
          523,
          524,
          525,
          531,
          532,
          534,
          540,
          541,
          542,
          550,
          558,
          575,
          578,
          582,
          585,
          586,
          592,
          595,
          597,
          613,
          621,
          624,
          625,
          627,
          628,
          631,
          634,
          635,
          636,
          645,
          650,
          653,
          658,
          662,
          666,
          670,
          673,
          674,
          680,
          682,
          687,
          691,
          704,
          706,
          707,
          709,
          710,
          714,
          716,
          719,
          720,
          729,
          732,
          733,
          739,
          741,
          743,
          747,
          757,
          758,
          764,
          767,
          771,
          773,
          776,
          777,
          778,
          783,
          784,
          795,
          797,
          800,
          805,
          811,
          814,
          817,
          820,
          824,
          830,
          835,
          837,
          839,
          844,
          848,
          849,
          857,
          864,
          866,
          867,
          871,
          876,
          877,
          878,
          879,
          887,
          897,
          900,
          904,
          908,
          914,
          915,
          924,
          927,
          929,
          930,
          931,
          935,
          936,
          937,
          956,
          959,
          964,
          965,
          969,
          973,
          974,
          975,
          982,
          986,
          990,
          993
         ],
         "xaxis": "x",
         "y": [
          335.19999999999993,
          316.75,
          332,
          351.04999999999995,
          235.75,
          350.15,
          238.1,
          134.95,
          147.79999999999998,
          76.05,
          187.6,
          76.8,
          127.15,
          186,
          228.29999999999998,
          281.45,
          123.25,
          233.54999999999998,
          142.3,
          233.89999999999998,
          285.5,
          100.7,
          236.99999999999997,
          190.5,
          340.75,
          292.9,
          102.35000000000001,
          202.35,
          87.55,
          128.85,
          128.39999999999998,
          120.79999999999998,
          156.85,
          95.19999999999999,
          336.54999999999995,
          261.2,
          191.85,
          345.25,
          174.14999999999998,
          155.8,
          261.4,
          237.29999999999998,
          291.29999999999995,
          139.35000000000002,
          210.39999999999998,
          222.6,
          282.4,
          303.05,
          190.39999999999998,
          281.9,
          162.39999999999998,
          251.9,
          97.4,
          261.29999999999995,
          315.99999999999994,
          248.35,
          255.55,
          292.4,
          309.2,
          195.4,
          318.04999999999995,
          342.25,
          195.49999999999997,
          129.6,
          342.05,
          228.7,
          294.5,
          333.29999999999995,
          345.45,
          289.85,
          49.4,
          161.4,
          267.75,
          242.25,
          142.85,
          298,
          314.5,
          270.75,
          260.4,
          271,
          295.5,
          281.6,
          164.7,
          325.3,
          241.7,
          325.2,
          74.45,
          208.2,
          244.75,
          212,
          110.9,
          176.14999999999998,
          269.6,
          226.35,
          165,
          303.2,
          317.74999999999994,
          238.15,
          164.75,
          155.9,
          266.65,
          244.5,
          201.25,
          231.55,
          283.29999999999995,
          235.55,
          151.25,
          117.3,
          224.2,
          155.3,
          168.54999999999998,
          163.89999999999998,
          326.15,
          236.05,
          301.05,
          252.1,
          105.45,
          250.2,
          122.04999999999998,
          69.75,
          297.5,
          264.59999999999997,
          150.55,
          314.04999999999995,
          138.2,
          168.9,
          333.4,
          278.59999999999997,
          184.5,
          88.85,
          133.79999999999998,
          94.19999999999999,
          298.84999999999997,
          349.5,
          138.5,
          178.54999999999998,
          197.79999999999998,
          202.85,
          320.45,
          309.29999999999995,
          115,
          237.2,
          297.79999999999995,
          94.5,
          118.3,
          168.2,
          290,
          219.7,
          96.44999999999999,
          193.4,
          348.5,
          266,
          151.5,
          177.5,
          290.34999999999997,
          292.59999999999997,
          197.79999999999998,
          294.7,
          319.85,
          235.25,
          288.04999999999995,
          245.39999999999998,
          34,
          156.5,
          339.15,
          252.14999999999998,
          339.55,
          235.45,
          268.8,
          149.35,
          204.25,
          272.54999999999995,
          287.9,
          304.34999999999997,
          256.59999999999997,
          38.7,
          194,
          192.7,
          210,
          148.3,
          308.15,
          137.2,
          336.15,
          266.34999999999997,
          282.1,
          322.9,
          206.65,
          342.54999999999995,
          316.9,
          317.15,
          330.75,
          136.5,
          342,
          289.4,
          127.85,
          231.1,
          344.04999999999995,
          72.4,
          230.15,
          338.84999999999997,
          191.65,
          233.6,
          95.30000000000001,
          220.1,
          177.99999999999997,
          159.7,
          222.39999999999998,
          55.599999999999994,
          280.7,
          187.15,
          128.8,
          294.09999999999997,
          192.2,
          323.65,
          115.55,
          247.49999999999997,
          140.89999999999998,
          203.8,
          203.35,
          250.25,
          135.9,
          197.7,
          146.8,
          202,
          312.59999999999997,
          336.59999999999997,
          325.15,
          202.95,
          190.89999999999998,
          341.04999999999995,
          154.15,
          149.3,
          336,
          97.5,
          220.6,
          166.05,
          232.39999999999998,
          300.3,
          138.39999999999998,
          304.8,
          279.45,
          72.9,
          239.99999999999997,
          121.9,
          176.45,
          114.6,
          174.65,
          283.25,
          229.59999999999997,
          186.55,
          328.04999999999995,
          148,
          82.35,
          165.54999999999998,
          172.9
         ],
         "yaxis": "y"
        },
        {
         "hovertemplate": "Segment=3<br>index=%{x}<br>Credit Score=%{y}<extra></extra>",
         "legendgroup": "3",
         "marker": {
          "color": "red",
          "symbol": "circle"
         },
         "mode": "markers",
         "name": "3",
         "orientation": "v",
         "showlegend": true,
         "type": "scatter",
         "x": [
          9,
          13,
          15,
          17,
          19,
          20,
          22,
          23,
          25,
          29,
          32,
          35,
          38,
          39,
          40,
          42,
          43,
          45,
          54,
          62,
          66,
          69,
          70,
          80,
          81,
          83,
          87,
          94,
          100,
          102,
          111,
          118,
          119,
          120,
          121,
          124,
          127,
          130,
          131,
          133,
          138,
          139,
          150,
          155,
          159,
          162,
          164,
          167,
          177,
          181,
          183,
          185,
          186,
          189,
          193,
          195,
          197,
          198,
          199,
          201,
          206,
          207,
          209,
          211,
          218,
          223,
          225,
          228,
          231,
          234,
          235,
          236,
          243,
          244,
          262,
          265,
          277,
          280,
          285,
          293,
          294,
          295,
          304,
          306,
          307,
          310,
          312,
          321,
          325,
          326,
          335,
          342,
          346,
          360,
          363,
          374,
          380,
          381,
          386,
          387,
          392,
          395,
          396,
          397,
          401,
          402,
          412,
          419,
          420,
          421,
          423,
          431,
          441,
          442,
          445,
          461,
          473,
          474,
          479,
          483,
          489,
          490,
          498,
          501,
          503,
          510,
          517,
          556,
          557,
          559,
          572,
          576,
          577,
          579,
          580,
          581,
          591,
          596,
          606,
          611,
          616,
          617,
          619,
          623,
          633,
          641,
          643,
          644,
          646,
          648,
          649,
          651,
          652,
          660,
          663,
          664,
          665,
          668,
          671,
          672,
          675,
          676,
          677,
          683,
          684,
          685,
          688,
          692,
          698,
          703,
          708,
          711,
          712,
          713,
          717,
          721,
          734,
          735,
          738,
          750,
          760,
          761,
          768,
          779,
          780,
          785,
          786,
          787,
          790,
          792,
          794,
          796,
          798,
          799,
          803,
          804,
          815,
          829,
          831,
          833,
          834,
          836,
          840,
          841,
          843,
          851,
          853,
          868,
          872,
          881,
          882,
          883,
          886,
          888,
          893,
          894,
          902,
          903,
          909,
          912,
          916,
          920,
          922,
          923,
          928,
          933,
          941,
          942,
          944,
          950,
          953,
          955,
          958,
          960,
          962,
          966,
          968,
          976,
          980,
          984,
          988,
          994,
          996
         ],
         "xaxis": "x",
         "y": [
          619.4499999999999,
          768.6,
          804.1999999999999,
          666.8499999999999,
          782.4,
          642.05,
          725.1,
          848.15,
          706.1999999999999,
          779.4,
          648.1,
          677.2499999999999,
          653.7499999999999,
          767.7499999999999,
          700.8,
          679.85,
          686.3,
          628,
          610.5,
          694.9999999999999,
          849.8499999999999,
          748,
          765.85,
          720.5999999999999,
          675.7499999999999,
          616.8499999999999,
          632.4499999999999,
          771.9999999999999,
          645.6999999999999,
          825.6,
          635,
          837.25,
          703.3,
          621.1,
          771.85,
          816.5,
          785.4499999999999,
          844.2,
          738.65,
          699.3,
          827.2499999999999,
          613.2499999999999,
          669.95,
          842.85,
          700.6,
          673.6999999999999,
          657.5,
          741.6999999999999,
          749.7499999999999,
          659.45,
          825.6499999999999,
          761.4499999999999,
          804.4,
          613.9,
          832.3,
          769.9,
          761.5,
          628.6999999999999,
          774.55,
          835.7499999999999,
          623.55,
          719.1999999999999,
          798.8,
          820.05,
          637.4,
          751.6999999999999,
          698.95,
          678.35,
          683.4499999999999,
          662.3499999999999,
          659.1,
          790.2499999999999,
          677.8499999999999,
          842.15,
          649.5999999999999,
          816.55,
          713.9,
          771.9499999999999,
          824.65,
          622.4,
          680,
          749.05,
          754.6999999999999,
          663.5,
          849.25,
          841.5,
          747.3,
          625.9499999999999,
          785.75,
          839,
          669,
          740.4,
          824.5,
          618.1999999999999,
          858.65,
          683.65,
          858.6,
          821.4,
          718.95,
          613.1999999999999,
          698.25,
          779.55,
          703.3,
          664.3,
          634.3,
          775.1999999999999,
          750.25,
          814.9,
          826.4,
          712.55,
          637.6,
          789.55,
          797.2499999999999,
          731.25,
          806.05,
          731.5,
          649.0999999999999,
          765.9499999999999,
          771.1999999999999,
          799,
          751.6999999999999,
          751.65,
          840.7,
          665.1,
          663,
          774.7499999999999,
          691.4,
          794.3,
          719.8499999999999,
          702.5,
          802.9999999999999,
          809.85,
          631.6,
          796.35,
          770.3,
          645.4,
          694.1,
          805.8499999999999,
          816.6,
          656.4499999999999,
          679.4,
          783.7,
          842.95,
          660.4,
          686.2499999999999,
          652.8499999999999,
          665.65,
          757.4999999999999,
          753.5999999999999,
          793.3,
          825.7,
          743.0999999999999,
          623.9,
          696.9499999999999,
          610.5,
          613.6,
          730.25,
          797.2499999999999,
          747.4,
          807,
          660.2,
          684.5,
          759.15,
          738.3,
          710.2499999999999,
          714.6499999999999,
          810.7,
          810.3,
          788.9,
          853.55,
          637.9999999999999,
          785.6499999999999,
          814.1999999999999,
          670.15,
          811.2,
          833.1999999999999,
          825.8,
          775.35,
          633.7499999999999,
          643.15,
          669.3,
          615.8,
          779.6999999999999,
          767.15,
          793.1499999999999,
          809.3,
          855.9499999999999,
          690.3,
          805.9,
          713.9,
          659.3,
          700.8,
          815.4,
          747.75,
          725.55,
          782.4,
          780.3499999999999,
          804.6,
          836.05,
          746.5,
          681.1,
          768.1,
          772.3,
          632.6499999999999,
          670.7499999999999,
          696.8,
          736.2,
          746.9,
          658.55,
          809.85,
          699.4499999999999,
          811.4,
          829.2,
          806.3,
          840.95,
          838.4999999999999,
          618.05,
          645.1999999999999,
          845.1999999999999,
          663.8,
          696.6499999999999,
          809.65,
          743.4499999999999,
          631.85,
          683.4,
          644.8,
          625.45,
          801.65,
          701.2499999999999,
          622.6999999999999,
          839.1,
          647.1999999999999,
          772,
          802,
          859.95,
          693.1999999999999,
          676.2499999999999,
          825.8,
          691.15,
          830.25,
          811,
          807.8,
          697.65
         ],
         "yaxis": "y"
        }
       ],
       "layout": {
        "legend": {
         "title": {
          "text": "Segment"
         },
         "tracegroupgap": 0
        },
        "margin": {
         "t": 60
        },
        "template": {
         "data": {
          "bar": [
           {
            "error_x": {
             "color": "#2a3f5f"
            },
            "error_y": {
             "color": "#2a3f5f"
            },
            "marker": {
             "line": {
              "color": "#E5ECF6",
              "width": 0.5
             },
             "pattern": {
              "fillmode": "overlay",
              "size": 10,
              "solidity": 0.2
             }
            },
            "type": "bar"
           }
          ],
          "barpolar": [
           {
            "marker": {
             "line": {
              "color": "#E5ECF6",
              "width": 0.5
             },
             "pattern": {
              "fillmode": "overlay",
              "size": 10,
              "solidity": 0.2
             }
            },
            "type": "barpolar"
           }
          ],
          "carpet": [
           {
            "aaxis": {
             "endlinecolor": "#2a3f5f",
             "gridcolor": "white",
             "linecolor": "white",
             "minorgridcolor": "white",
             "startlinecolor": "#2a3f5f"
            },
            "baxis": {
             "endlinecolor": "#2a3f5f",
             "gridcolor": "white",
             "linecolor": "white",
             "minorgridcolor": "white",
             "startlinecolor": "#2a3f5f"
            },
            "type": "carpet"
           }
          ],
          "choropleth": [
           {
            "colorbar": {
             "outlinewidth": 0,
             "ticks": ""
            },
            "type": "choropleth"
           }
          ],
          "contour": [
           {
            "colorbar": {
             "outlinewidth": 0,
             "ticks": ""
            },
            "colorscale": [
             [
              0,
              "#0d0887"
             ],
             [
              0.1111111111111111,
              "#46039f"
             ],
             [
              0.2222222222222222,
              "#7201a8"
             ],
             [
              0.3333333333333333,
              "#9c179e"
             ],
             [
              0.4444444444444444,
              "#bd3786"
             ],
             [
              0.5555555555555556,
              "#d8576b"
             ],
             [
              0.6666666666666666,
              "#ed7953"
             ],
             [
              0.7777777777777778,
              "#fb9f3a"
             ],
             [
              0.8888888888888888,
              "#fdca26"
             ],
             [
              1,
              "#f0f921"
             ]
            ],
            "type": "contour"
           }
          ],
          "contourcarpet": [
           {
            "colorbar": {
             "outlinewidth": 0,
             "ticks": ""
            },
            "type": "contourcarpet"
           }
          ],
          "heatmap": [
           {
            "colorbar": {
             "outlinewidth": 0,
             "ticks": ""
            },
            "colorscale": [
             [
              0,
              "#0d0887"
             ],
             [
              0.1111111111111111,
              "#46039f"
             ],
             [
              0.2222222222222222,
              "#7201a8"
             ],
             [
              0.3333333333333333,
              "#9c179e"
             ],
             [
              0.4444444444444444,
              "#bd3786"
             ],
             [
              0.5555555555555556,
              "#d8576b"
             ],
             [
              0.6666666666666666,
              "#ed7953"
             ],
             [
              0.7777777777777778,
              "#fb9f3a"
             ],
             [
              0.8888888888888888,
              "#fdca26"
             ],
             [
              1,
              "#f0f921"
             ]
            ],
            "type": "heatmap"
           }
          ],
          "heatmapgl": [
           {
            "colorbar": {
             "outlinewidth": 0,
             "ticks": ""
            },
            "colorscale": [
             [
              0,
              "#0d0887"
             ],
             [
              0.1111111111111111,
              "#46039f"
             ],
             [
              0.2222222222222222,
              "#7201a8"
             ],
             [
              0.3333333333333333,
              "#9c179e"
             ],
             [
              0.4444444444444444,
              "#bd3786"
             ],
             [
              0.5555555555555556,
              "#d8576b"
             ],
             [
              0.6666666666666666,
              "#ed7953"
             ],
             [
              0.7777777777777778,
              "#fb9f3a"
             ],
             [
              0.8888888888888888,
              "#fdca26"
             ],
             [
              1,
              "#f0f921"
             ]
            ],
            "type": "heatmapgl"
           }
          ],
          "histogram": [
           {
            "marker": {
             "pattern": {
              "fillmode": "overlay",
              "size": 10,
              "solidity": 0.2
             }
            },
            "type": "histogram"
           }
          ],
          "histogram2d": [
           {
            "colorbar": {
             "outlinewidth": 0,
             "ticks": ""
            },
            "colorscale": [
             [
              0,
              "#0d0887"
             ],
             [
              0.1111111111111111,
              "#46039f"
             ],
             [
              0.2222222222222222,
              "#7201a8"
             ],
             [
              0.3333333333333333,
              "#9c179e"
             ],
             [
              0.4444444444444444,
              "#bd3786"
             ],
             [
              0.5555555555555556,
              "#d8576b"
             ],
             [
              0.6666666666666666,
              "#ed7953"
             ],
             [
              0.7777777777777778,
              "#fb9f3a"
             ],
             [
              0.8888888888888888,
              "#fdca26"
             ],
             [
              1,
              "#f0f921"
             ]
            ],
            "type": "histogram2d"
           }
          ],
          "histogram2dcontour": [
           {
            "colorbar": {
             "outlinewidth": 0,
             "ticks": ""
            },
            "colorscale": [
             [
              0,
              "#0d0887"
             ],
             [
              0.1111111111111111,
              "#46039f"
             ],
             [
              0.2222222222222222,
              "#7201a8"
             ],
             [
              0.3333333333333333,
              "#9c179e"
             ],
             [
              0.4444444444444444,
              "#bd3786"
             ],
             [
              0.5555555555555556,
              "#d8576b"
             ],
             [
              0.6666666666666666,
              "#ed7953"
             ],
             [
              0.7777777777777778,
              "#fb9f3a"
             ],
             [
              0.8888888888888888,
              "#fdca26"
             ],
             [
              1,
              "#f0f921"
             ]
            ],
            "type": "histogram2dcontour"
           }
          ],
          "mesh3d": [
           {
            "colorbar": {
             "outlinewidth": 0,
             "ticks": ""
            },
            "type": "mesh3d"
           }
          ],
          "parcoords": [
           {
            "line": {
             "colorbar": {
              "outlinewidth": 0,
              "ticks": ""
             }
            },
            "type": "parcoords"
           }
          ],
          "pie": [
           {
            "automargin": true,
            "type": "pie"
           }
          ],
          "scatter": [
           {
            "fillpattern": {
             "fillmode": "overlay",
             "size": 10,
             "solidity": 0.2
            },
            "type": "scatter"
           }
          ],
          "scatter3d": [
           {
            "line": {
             "colorbar": {
              "outlinewidth": 0,
              "ticks": ""
             }
            },
            "marker": {
             "colorbar": {
              "outlinewidth": 0,
              "ticks": ""
             }
            },
            "type": "scatter3d"
           }
          ],
          "scattercarpet": [
           {
            "marker": {
             "colorbar": {
              "outlinewidth": 0,
              "ticks": ""
             }
            },
            "type": "scattercarpet"
           }
          ],
          "scattergeo": [
           {
            "marker": {
             "colorbar": {
              "outlinewidth": 0,
              "ticks": ""
             }
            },
            "type": "scattergeo"
           }
          ],
          "scattergl": [
           {
            "marker": {
             "colorbar": {
              "outlinewidth": 0,
              "ticks": ""
             }
            },
            "type": "scattergl"
           }
          ],
          "scattermapbox": [
           {
            "marker": {
             "colorbar": {
              "outlinewidth": 0,
              "ticks": ""
             }
            },
            "type": "scattermapbox"
           }
          ],
          "scatterpolar": [
           {
            "marker": {
             "colorbar": {
              "outlinewidth": 0,
              "ticks": ""
             }
            },
            "type": "scatterpolar"
           }
          ],
          "scatterpolargl": [
           {
            "marker": {
             "colorbar": {
              "outlinewidth": 0,
              "ticks": ""
             }
            },
            "type": "scatterpolargl"
           }
          ],
          "scatterternary": [
           {
            "marker": {
             "colorbar": {
              "outlinewidth": 0,
              "ticks": ""
             }
            },
            "type": "scatterternary"
           }
          ],
          "surface": [
           {
            "colorbar": {
             "outlinewidth": 0,
             "ticks": ""
            },
            "colorscale": [
             [
              0,
              "#0d0887"
             ],
             [
              0.1111111111111111,
              "#46039f"
             ],
             [
              0.2222222222222222,
              "#7201a8"
             ],
             [
              0.3333333333333333,
              "#9c179e"
             ],
             [
              0.4444444444444444,
              "#bd3786"
             ],
             [
              0.5555555555555556,
              "#d8576b"
             ],
             [
              0.6666666666666666,
              "#ed7953"
             ],
             [
              0.7777777777777778,
              "#fb9f3a"
             ],
             [
              0.8888888888888888,
              "#fdca26"
             ],
             [
              1,
              "#f0f921"
             ]
            ],
            "type": "surface"
           }
          ],
          "table": [
           {
            "cells": {
             "fill": {
              "color": "#EBF0F8"
             },
             "line": {
              "color": "white"
             }
            },
            "header": {
             "fill": {
              "color": "#C8D4E3"
             },
             "line": {
              "color": "white"
             }
            },
            "type": "table"
           }
          ]
         },
         "layout": {
          "annotationdefaults": {
           "arrowcolor": "#2a3f5f",
           "arrowhead": 0,
           "arrowwidth": 1
          },
          "autotypenumbers": "strict",
          "coloraxis": {
           "colorbar": {
            "outlinewidth": 0,
            "ticks": ""
           }
          },
          "colorscale": {
           "diverging": [
            [
             0,
             "#8e0152"
            ],
            [
             0.1,
             "#c51b7d"
            ],
            [
             0.2,
             "#de77ae"
            ],
            [
             0.3,
             "#f1b6da"
            ],
            [
             0.4,
             "#fde0ef"
            ],
            [
             0.5,
             "#f7f7f7"
            ],
            [
             0.6,
             "#e6f5d0"
            ],
            [
             0.7,
             "#b8e186"
            ],
            [
             0.8,
             "#7fbc41"
            ],
            [
             0.9,
             "#4d9221"
            ],
            [
             1,
             "#276419"
            ]
           ],
           "sequential": [
            [
             0,
             "#0d0887"
            ],
            [
             0.1111111111111111,
             "#46039f"
            ],
            [
             0.2222222222222222,
             "#7201a8"
            ],
            [
             0.3333333333333333,
             "#9c179e"
            ],
            [
             0.4444444444444444,
             "#bd3786"
            ],
            [
             0.5555555555555556,
             "#d8576b"
            ],
            [
             0.6666666666666666,
             "#ed7953"
            ],
            [
             0.7777777777777778,
             "#fb9f3a"
            ],
            [
             0.8888888888888888,
             "#fdca26"
            ],
            [
             1,
             "#f0f921"
            ]
           ],
           "sequentialminus": [
            [
             0,
             "#0d0887"
            ],
            [
             0.1111111111111111,
             "#46039f"
            ],
            [
             0.2222222222222222,
             "#7201a8"
            ],
            [
             0.3333333333333333,
             "#9c179e"
            ],
            [
             0.4444444444444444,
             "#bd3786"
            ],
            [
             0.5555555555555556,
             "#d8576b"
            ],
            [
             0.6666666666666666,
             "#ed7953"
            ],
            [
             0.7777777777777778,
             "#fb9f3a"
            ],
            [
             0.8888888888888888,
             "#fdca26"
            ],
            [
             1,
             "#f0f921"
            ]
           ]
          },
          "colorway": [
           "#636efa",
           "#EF553B",
           "#00cc96",
           "#ab63fa",
           "#FFA15A",
           "#19d3f3",
           "#FF6692",
           "#B6E880",
           "#FF97FF",
           "#FECB52"
          ],
          "font": {
           "color": "#2a3f5f"
          },
          "geo": {
           "bgcolor": "white",
           "lakecolor": "white",
           "landcolor": "#E5ECF6",
           "showlakes": true,
           "showland": true,
           "subunitcolor": "white"
          },
          "hoverlabel": {
           "align": "left"
          },
          "hovermode": "closest",
          "mapbox": {
           "style": "light"
          },
          "paper_bgcolor": "white",
          "plot_bgcolor": "#E5ECF6",
          "polar": {
           "angularaxis": {
            "gridcolor": "white",
            "linecolor": "white",
            "ticks": ""
           },
           "bgcolor": "#E5ECF6",
           "radialaxis": {
            "gridcolor": "white",
            "linecolor": "white",
            "ticks": ""
           }
          },
          "scene": {
           "xaxis": {
            "backgroundcolor": "#E5ECF6",
            "gridcolor": "white",
            "gridwidth": 2,
            "linecolor": "white",
            "showbackground": true,
            "ticks": "",
            "zerolinecolor": "white"
           },
           "yaxis": {
            "backgroundcolor": "#E5ECF6",
            "gridcolor": "white",
            "gridwidth": 2,
            "linecolor": "white",
            "showbackground": true,
            "ticks": "",
            "zerolinecolor": "white"
           },
           "zaxis": {
            "backgroundcolor": "#E5ECF6",
            "gridcolor": "white",
            "gridwidth": 2,
            "linecolor": "white",
            "showbackground": true,
            "ticks": "",
            "zerolinecolor": "white"
           }
          },
          "shapedefaults": {
           "line": {
            "color": "#2a3f5f"
           }
          },
          "ternary": {
           "aaxis": {
            "gridcolor": "white",
            "linecolor": "white",
            "ticks": ""
           },
           "baxis": {
            "gridcolor": "white",
            "linecolor": "white",
            "ticks": ""
           },
           "bgcolor": "#E5ECF6",
           "caxis": {
            "gridcolor": "white",
            "linecolor": "white",
            "ticks": ""
           }
          },
          "title": {
           "x": 0.05
          },
          "xaxis": {
           "automargin": true,
           "gridcolor": "white",
           "linecolor": "white",
           "ticks": "",
           "title": {
            "standoff": 15
           },
           "zerolinecolor": "white",
           "zerolinewidth": 2
          },
          "yaxis": {
           "automargin": true,
           "gridcolor": "white",
           "linecolor": "white",
           "ticks": "",
           "title": {
            "standoff": 15
           },
           "zerolinecolor": "white",
           "zerolinewidth": 2
          }
         }
        },
        "title": {
         "text": "Customer Segmentation Based on Credit Score"
        },
        "xaxis": {
         "anchor": "y",
         "domain": [
          0,
          1
         ],
         "title": {
          "text": "Customer Index"
         }
        },
        "yaxis": {
         "anchor": "x",
         "domain": [
          0,
          1
         ],
         "title": {
          "text": "Credit Score"
         }
        }
       }
      }
     },
     "metadata": {},
     "output_type": "display_data"
    }
   ],
   "source": [
    "# Convert Segment Column to category data type\n",
    "df['Segment'] = df['Segment'].astype('category')\n",
    "\n",
    "# Visualize the segment using plotly\n",
    "fig = px.scatter(df, x=df.index, y='Credit Score', color='Segment', color_discrete_sequence=['green', 'blue', 'yellow', 'red'])\n",
    "\n",
    "fig.update_layout(\n",
    "    xaxis_title = 'Customer Index',\n",
    "    yaxis_title = 'Credit Score',\n",
    "    title = 'Customer Segmentation Based on Credit Score'\n",
    ")\n",
    "fig.show()"
   ]
  },
  {
   "cell_type": "code",
   "execution_count": 74,
   "metadata": {},
   "outputs": [
    {
     "data": {
      "application/vnd.plotly.v1+json": {
       "config": {
        "plotlyServerURL": "https://plot.ly"
       },
       "data": [
        {
         "hovertemplate": "Segment=Excellent<br>index=%{x}<br>Credit Score=%{y}<extra></extra>",
         "legendgroup": "Excellent",
         "marker": {
          "color": "green",
          "symbol": "circle"
         },
         "mode": "markers",
         "name": "Excellent",
         "orientation": "v",
         "showlegend": true,
         "type": "scatter",
         "x": [
          0,
          1,
          2,
          5,
          6,
          14,
          26,
          41,
          48,
          60,
          63,
          64,
          67,
          71,
          72,
          73,
          74,
          75,
          79,
          97,
          103,
          104,
          108,
          117,
          125,
          129,
          135,
          140,
          144,
          147,
          148,
          149,
          153,
          154,
          156,
          169,
          171,
          173,
          175,
          178,
          192,
          200,
          203,
          212,
          213,
          220,
          221,
          224,
          233,
          240,
          242,
          247,
          249,
          250,
          253,
          255,
          264,
          274,
          278,
          281,
          284,
          286,
          288,
          292,
          298,
          300,
          302,
          308,
          311,
          313,
          314,
          316,
          317,
          322,
          328,
          332,
          340,
          341,
          345,
          350,
          351,
          352,
          355,
          356,
          357,
          358,
          362,
          364,
          365,
          372,
          373,
          378,
          383,
          394,
          398,
          407,
          409,
          416,
          418,
          426,
          428,
          433,
          439,
          444,
          447,
          451,
          458,
          464,
          467,
          468,
          470,
          477,
          481,
          484,
          488,
          491,
          492,
          494,
          496,
          504,
          506,
          507,
          508,
          509,
          513,
          526,
          529,
          533,
          538,
          543,
          544,
          545,
          546,
          547,
          548,
          549,
          551,
          552,
          553,
          555,
          560,
          563,
          564,
          566,
          568,
          569,
          583,
          587,
          589,
          594,
          598,
          604,
          608,
          612,
          614,
          620,
          622,
          626,
          637,
          639,
          640,
          642,
          647,
          654,
          661,
          667,
          669,
          681,
          689,
          690,
          695,
          697,
          699,
          701,
          702,
          722,
          730,
          737,
          744,
          746,
          749,
          752,
          753,
          755,
          756,
          763,
          765,
          766,
          769,
          774,
          782,
          788,
          791,
          801,
          802,
          806,
          807,
          812,
          813,
          819,
          821,
          822,
          823,
          842,
          846,
          855,
          856,
          858,
          859,
          860,
          869,
          874,
          875,
          880,
          891,
          895,
          898,
          899,
          901,
          913,
          921,
          926,
          939,
          940,
          945,
          948,
          949,
          957,
          970,
          972,
          985,
          987,
          991,
          992,
          997
         ],
         "xaxis": "x",
         "y": [
          1054.4499999999998,
          923.3499999999999,
          1086.05,
          862.0999999999999,
          1067.1999999999998,
          890.8499999999999,
          870.6499999999999,
          1007.4,
          912.9,
          999.0999999999999,
          958.55,
          874.9499999999999,
          871.15,
          885.7,
          973.1999999999999,
          1116.1999999999998,
          1047.8,
          947.05,
          1104.1499999999999,
          1053.35,
          1033,
          936.0999999999999,
          1013.5,
          926.1999999999999,
          897.8,
          1053.15,
          892.65,
          975.0999999999999,
          1059.5,
          963.55,
          1025.1999999999998,
          981.4999999999999,
          926.4,
          995.4,
          992.9,
          933.3,
          1024.4,
          1074.85,
          926.8999999999999,
          891.4999999999999,
          936.9499999999999,
          965.3499999999999,
          879.35,
          884.8,
          879,
          1107.75,
          967.4499999999999,
          883.7499999999999,
          955.3,
          892.8499999999999,
          1065.2999999999997,
          977.4499999999999,
          1120.2,
          1054,
          938.3,
          1025.3999999999999,
          1111.35,
          863.95,
          1062.2999999999997,
          878.6,
          989.5,
          980.65,
          947.75,
          966.4,
          1023.55,
          959.4499999999999,
          934.35,
          865.8,
          890.9499999999999,
          1070.25,
          1004.6999999999999,
          975.95,
          1024.1999999999998,
          1054.75,
          1017.0999999999999,
          1085.8999999999999,
          1036.8999999999999,
          1046.1,
          924.35,
          966.4499999999999,
          974.8499999999999,
          1005.6499999999999,
          950.5999999999999,
          1039.1,
          1083.6999999999998,
          1022.8,
          1047.1,
          888.5999999999999,
          1040.8,
          1022.4999999999999,
          1129.25,
          978.05,
          1087.4499999999998,
          1010.05,
          966.0999999999999,
          989,
          979.15,
          870.75,
          989.9,
          1056.55,
          948.1999999999999,
          1025.1999999999998,
          920.7499999999999,
          981.65,
          1057.4499999999998,
          1045.6,
          895.75,
          1115.6,
          896.9,
          1004.6499999999999,
          943.4999999999999,
          962.8,
          865.9,
          925.7499999999999,
          1123.55,
          908.2,
          1082.7999999999997,
          941.15,
          999.1499999999999,
          866.5999999999999,
          943.5,
          939.8,
          972.0999999999999,
          883.9,
          1014.6,
          1116.8999999999999,
          978.6999999999999,
          1118.05,
          915.75,
          1100.6499999999999,
          956.8,
          1070.25,
          910.5,
          1008.1999999999999,
          895.9,
          1064.25,
          1093.5,
          1013.3499999999999,
          892,
          915.4,
          921.0999999999999,
          950.55,
          1011.9499999999999,
          1033.6999999999998,
          1069.75,
          880.9,
          1056.55,
          940.05,
          1014.6999999999999,
          900.25,
          1059.25,
          912.9,
          1043.5,
          966.3,
          1042,
          960.9,
          1058.6999999999998,
          1044.4499999999998,
          930.55,
          872.3,
          1095.3999999999999,
          892.55,
          863.1999999999999,
          868.0999999999999,
          1014.6999999999999,
          987.75,
          1022.0499999999998,
          964.6499999999999,
          879.4499999999999,
          1037.35,
          982.3,
          1018.2499999999999,
          915.8499999999999,
          903.05,
          975.4,
          977.1,
          990.4999999999999,
          1022.4999999999999,
          976.8,
          925.05,
          894.95,
          877.95,
          1050.35,
          1036.1999999999998,
          1022.8,
          971.05,
          996.3499999999999,
          924.2499999999999,
          1060.5,
          1043.35,
          1038.7999999999997,
          974.55,
          1054.1,
          930.2499999999999,
          941.6999999999999,
          996.9999999999999,
          926.05,
          1033.8,
          1063.55,
          1089.3,
          1064.3,
          1071.5,
          1072.75,
          1001.3499999999999,
          999.5,
          1082.8999999999999,
          938.9499999999999,
          1024.8,
          925.3,
          983.8499999999999,
          1056.6999999999998,
          932.5999999999999,
          906,
          1056.6,
          861.45,
          1074.1,
          900.15,
          901.5,
          1045.65,
          971.9,
          976.3,
          997.5999999999999,
          1096.3999999999999,
          1120.75,
          999.0999999999999,
          1053.8,
          910.6999999999999,
          960.6999999999999,
          916,
          876.55,
          892.6499999999999,
          1052.6,
          927.5,
          1049.8999999999999,
          1053.6
         ],
         "yaxis": "y"
        },
        {
         "hovertemplate": "Segment=Low<br>index=%{x}<br>Credit Score=%{y}<extra></extra>",
         "legendgroup": "Low",
         "marker": {
          "color": "blue",
          "symbol": "circle"
         },
         "mode": "markers",
         "name": "Low",
         "orientation": "v",
         "showlegend": true,
         "type": "scatter",
         "x": [
          3,
          7,
          8,
          12,
          21,
          34,
          36,
          37,
          44,
          49,
          51,
          52,
          55,
          58,
          59,
          68,
          82,
          84,
          86,
          88,
          89,
          90,
          91,
          92,
          95,
          101,
          106,
          107,
          115,
          116,
          123,
          132,
          134,
          137,
          141,
          143,
          145,
          146,
          157,
          160,
          161,
          163,
          165,
          170,
          176,
          180,
          182,
          190,
          191,
          214,
          215,
          217,
          226,
          229,
          230,
          241,
          246,
          251,
          256,
          259,
          260,
          263,
          268,
          269,
          270,
          271,
          276,
          279,
          287,
          289,
          291,
          296,
          301,
          303,
          305,
          309,
          315,
          323,
          329,
          330,
          331,
          333,
          334,
          336,
          338,
          343,
          349,
          353,
          354,
          359,
          366,
          368,
          371,
          376,
          385,
          388,
          391,
          393,
          399,
          400,
          403,
          404,
          405,
          406,
          408,
          411,
          415,
          417,
          429,
          430,
          432,
          434,
          440,
          443,
          446,
          450,
          456,
          460,
          466,
          469,
          471,
          475,
          478,
          480,
          482,
          485,
          487,
          495,
          497,
          499,
          500,
          514,
          515,
          516,
          518,
          519,
          520,
          527,
          528,
          530,
          535,
          536,
          537,
          539,
          554,
          561,
          562,
          565,
          567,
          570,
          571,
          573,
          574,
          584,
          588,
          590,
          593,
          599,
          600,
          601,
          602,
          603,
          605,
          607,
          609,
          610,
          615,
          618,
          629,
          630,
          632,
          638,
          655,
          656,
          657,
          659,
          678,
          679,
          686,
          693,
          694,
          696,
          700,
          705,
          715,
          718,
          723,
          724,
          725,
          726,
          727,
          728,
          731,
          736,
          740,
          742,
          745,
          748,
          751,
          754,
          759,
          762,
          770,
          772,
          775,
          781,
          789,
          793,
          808,
          809,
          810,
          816,
          818,
          825,
          826,
          827,
          828,
          832,
          838,
          845,
          847,
          850,
          852,
          854,
          861,
          862,
          863,
          865,
          870,
          873,
          884,
          885,
          889,
          890,
          892,
          896,
          905,
          906,
          907,
          910,
          911,
          917,
          918,
          919,
          925,
          932,
          934,
          938,
          943,
          946,
          947,
          951,
          952,
          954,
          961,
          963,
          967,
          971,
          977,
          978,
          979,
          981,
          983,
          989,
          995,
          998,
          999
         ],
         "xaxis": "x",
         "y": [
          603.55,
          583.4,
          382,
          420.2,
          398.75,
          411,
          484.5,
          497.95,
          381.05,
          526.3,
          400.44999999999993,
          480.2,
          490.75,
          597.85,
          421.84999999999997,
          497.09999999999997,
          556.8,
          420.05,
          530.35,
          398.79999999999995,
          444.4,
          520.3,
          416.9,
          392.2,
          420.2,
          536.95,
          576.0999999999999,
          514.95,
          531.05,
          518.7,
          542.9,
          591.1999999999999,
          377.25,
          557.0999999999999,
          579.4,
          525.8499999999999,
          579.1999999999999,
          486.4,
          477.84999999999997,
          575.9499999999999,
          412,
          520.1999999999999,
          455.65,
          396.55,
          537.8,
          445.34999999999997,
          373.1,
          579.5,
          566.35,
          355.25,
          462.84999999999997,
          534.7,
          485.79999999999995,
          570.4,
          426.3,
          525.3499999999999,
          395.9,
          468.8,
          375.5,
          381.65,
          544.5,
          536.25,
          562.0999999999999,
          478.7,
          429.35,
          510.25,
          388.79999999999995,
          558.8,
          598,
          590.05,
          401.75,
          608.8,
          533,
          588.35,
          582.2,
          386.45,
          497.4,
          374.7,
          511.9,
          395.45,
          586.4,
          487.29999999999995,
          383.35,
          571.35,
          490.49999999999994,
          497.34999999999997,
          549.9499999999999,
          468.5,
          389.34999999999997,
          436.9,
          361.95,
          496.8,
          417.25,
          529.15,
          378.59999999999997,
          397.9,
          593.4,
          412.34999999999997,
          386.94999999999993,
          370,
          453.9,
          390.45,
          531.9,
          565.9499999999999,
          433.09999999999997,
          571.5999999999999,
          574.65,
          451.9,
          572.3499999999999,
          510.6499999999999,
          446.7,
          519.95,
          591,
          574.15,
          513.15,
          472.15,
          576.25,
          496.4,
          598.8,
          504.65,
          539.75,
          364.75,
          575.55,
          489.8,
          545.75,
          595.55,
          459.3,
          374.2,
          453.2,
          406.85,
          542.5,
          490.45,
          405.7,
          367.75,
          484.25,
          517,
          397.9,
          389.09999999999997,
          568.5,
          506.59999999999997,
          499.9,
          598.6999999999999,
          480.1,
          410.79999999999995,
          523.8,
          479.34999999999997,
          584,
          570.15,
          453.9,
          595.05,
          603.8,
          592.75,
          486.75,
          432.59999999999997,
          427.9,
          472.45,
          493.1499999999999,
          442.29999999999995,
          489.34999999999997,
          458.35,
          541.55,
          537.4,
          500.45,
          423,
          396.55,
          411.4,
          464.3,
          422.15,
          521.1,
          453.45,
          410.2,
          443.15,
          582.8,
          553.35,
          594.5,
          418.29999999999995,
          469.59999999999997,
          479.2,
          482.95,
          470.7,
          464.6,
          527.55,
          398.3,
          531.6999999999999,
          490.2,
          433.29999999999995,
          388.95,
          425.45,
          589,
          422.95,
          507,
          431.49999999999994,
          502.8499999999999,
          582.4,
          564.5,
          428.4,
          587.5999999999999,
          487.19999999999993,
          405.54999999999995,
          391.05,
          389.5,
          598.3499999999999,
          463.99999999999994,
          461.65,
          538.0999999999999,
          358.2,
          583.4,
          446.75,
          590.65,
          563.15,
          489.8,
          501.7,
          567.4,
          430.5,
          357.09999999999997,
          534.55,
          468.9,
          411.9,
          353.5,
          467.69999999999993,
          426,
          490.65,
          506.44999999999993,
          567.8,
          366.2,
          545.25,
          473.3,
          505.29999999999995,
          442.09999999999997,
          450.09999999999997,
          363.25,
          571.75,
          494.95,
          598.3,
          550.8999999999999,
          447.6,
          378.25,
          519.9,
          372.94999999999993,
          565.35,
          411.2,
          388.34999999999997,
          529.6999999999999,
          562.1,
          404.9,
          583.75,
          487.65,
          599.0999999999999,
          474.65,
          357.7,
          370.75,
          354.95,
          515.3499999999999,
          488.55,
          414.99999999999994,
          393.4,
          558.8,
          574.4,
          420.09999999999997,
          393.1,
          448.09999999999997,
          425.1,
          599.4499999999999,
          524.4,
          506.1499999999999,
          526.4,
          491.99999999999994
         ],
         "yaxis": "y"
        },
        {
         "hovertemplate": "Segment=Very Low<br>index=%{x}<br>Credit Score=%{y}<extra></extra>",
         "legendgroup": "Very Low",
         "marker": {
          "color": "yellow",
          "symbol": "circle"
         },
         "mode": "markers",
         "name": "Very Low",
         "orientation": "v",
         "showlegend": true,
         "type": "scatter",
         "x": [
          4,
          10,
          11,
          16,
          18,
          24,
          27,
          28,
          30,
          31,
          33,
          46,
          47,
          50,
          53,
          56,
          57,
          61,
          65,
          76,
          77,
          78,
          85,
          93,
          96,
          98,
          99,
          105,
          109,
          110,
          112,
          113,
          114,
          122,
          126,
          128,
          136,
          142,
          151,
          152,
          158,
          166,
          168,
          172,
          174,
          179,
          184,
          187,
          188,
          194,
          196,
          202,
          204,
          205,
          208,
          210,
          216,
          219,
          222,
          227,
          232,
          237,
          238,
          239,
          245,
          248,
          252,
          254,
          257,
          258,
          261,
          266,
          267,
          272,
          273,
          275,
          282,
          283,
          290,
          297,
          299,
          318,
          319,
          320,
          324,
          327,
          337,
          339,
          344,
          347,
          348,
          361,
          367,
          369,
          370,
          375,
          377,
          379,
          382,
          384,
          389,
          390,
          410,
          413,
          414,
          422,
          424,
          425,
          427,
          435,
          436,
          437,
          438,
          448,
          449,
          452,
          453,
          454,
          455,
          457,
          459,
          462,
          463,
          465,
          472,
          476,
          486,
          493,
          502,
          505,
          511,
          512,
          521,
          522,
          523,
          524,
          525,
          531,
          532,
          534,
          540,
          541,
          542,
          550,
          558,
          575,
          578,
          582,
          585,
          586,
          592,
          595,
          597,
          613,
          621,
          624,
          625,
          627,
          628,
          631,
          634,
          635,
          636,
          645,
          650,
          653,
          658,
          662,
          666,
          670,
          673,
          674,
          680,
          682,
          687,
          691,
          704,
          706,
          707,
          709,
          710,
          714,
          716,
          719,
          720,
          729,
          732,
          733,
          739,
          741,
          743,
          747,
          757,
          758,
          764,
          767,
          771,
          773,
          776,
          777,
          778,
          783,
          784,
          795,
          797,
          800,
          805,
          811,
          814,
          817,
          820,
          824,
          830,
          835,
          837,
          839,
          844,
          848,
          849,
          857,
          864,
          866,
          867,
          871,
          876,
          877,
          878,
          879,
          887,
          897,
          900,
          904,
          908,
          914,
          915,
          924,
          927,
          929,
          930,
          931,
          935,
          936,
          937,
          956,
          959,
          964,
          965,
          969,
          973,
          974,
          975,
          982,
          986,
          990,
          993
         ],
         "xaxis": "x",
         "y": [
          335.19999999999993,
          316.75,
          332,
          351.04999999999995,
          235.75,
          350.15,
          238.1,
          134.95,
          147.79999999999998,
          76.05,
          187.6,
          76.8,
          127.15,
          186,
          228.29999999999998,
          281.45,
          123.25,
          233.54999999999998,
          142.3,
          233.89999999999998,
          285.5,
          100.7,
          236.99999999999997,
          190.5,
          340.75,
          292.9,
          102.35000000000001,
          202.35,
          87.55,
          128.85,
          128.39999999999998,
          120.79999999999998,
          156.85,
          95.19999999999999,
          336.54999999999995,
          261.2,
          191.85,
          345.25,
          174.14999999999998,
          155.8,
          261.4,
          237.29999999999998,
          291.29999999999995,
          139.35000000000002,
          210.39999999999998,
          222.6,
          282.4,
          303.05,
          190.39999999999998,
          281.9,
          162.39999999999998,
          251.9,
          97.4,
          261.29999999999995,
          315.99999999999994,
          248.35,
          255.55,
          292.4,
          309.2,
          195.4,
          318.04999999999995,
          342.25,
          195.49999999999997,
          129.6,
          342.05,
          228.7,
          294.5,
          333.29999999999995,
          345.45,
          289.85,
          49.4,
          161.4,
          267.75,
          242.25,
          142.85,
          298,
          314.5,
          270.75,
          260.4,
          271,
          295.5,
          281.6,
          164.7,
          325.3,
          241.7,
          325.2,
          74.45,
          208.2,
          244.75,
          212,
          110.9,
          176.14999999999998,
          269.6,
          226.35,
          165,
          303.2,
          317.74999999999994,
          238.15,
          164.75,
          155.9,
          266.65,
          244.5,
          201.25,
          231.55,
          283.29999999999995,
          235.55,
          151.25,
          117.3,
          224.2,
          155.3,
          168.54999999999998,
          163.89999999999998,
          326.15,
          236.05,
          301.05,
          252.1,
          105.45,
          250.2,
          122.04999999999998,
          69.75,
          297.5,
          264.59999999999997,
          150.55,
          314.04999999999995,
          138.2,
          168.9,
          333.4,
          278.59999999999997,
          184.5,
          88.85,
          133.79999999999998,
          94.19999999999999,
          298.84999999999997,
          349.5,
          138.5,
          178.54999999999998,
          197.79999999999998,
          202.85,
          320.45,
          309.29999999999995,
          115,
          237.2,
          297.79999999999995,
          94.5,
          118.3,
          168.2,
          290,
          219.7,
          96.44999999999999,
          193.4,
          348.5,
          266,
          151.5,
          177.5,
          290.34999999999997,
          292.59999999999997,
          197.79999999999998,
          294.7,
          319.85,
          235.25,
          288.04999999999995,
          245.39999999999998,
          34,
          156.5,
          339.15,
          252.14999999999998,
          339.55,
          235.45,
          268.8,
          149.35,
          204.25,
          272.54999999999995,
          287.9,
          304.34999999999997,
          256.59999999999997,
          38.7,
          194,
          192.7,
          210,
          148.3,
          308.15,
          137.2,
          336.15,
          266.34999999999997,
          282.1,
          322.9,
          206.65,
          342.54999999999995,
          316.9,
          317.15,
          330.75,
          136.5,
          342,
          289.4,
          127.85,
          231.1,
          344.04999999999995,
          72.4,
          230.15,
          338.84999999999997,
          191.65,
          233.6,
          95.30000000000001,
          220.1,
          177.99999999999997,
          159.7,
          222.39999999999998,
          55.599999999999994,
          280.7,
          187.15,
          128.8,
          294.09999999999997,
          192.2,
          323.65,
          115.55,
          247.49999999999997,
          140.89999999999998,
          203.8,
          203.35,
          250.25,
          135.9,
          197.7,
          146.8,
          202,
          312.59999999999997,
          336.59999999999997,
          325.15,
          202.95,
          190.89999999999998,
          341.04999999999995,
          154.15,
          149.3,
          336,
          97.5,
          220.6,
          166.05,
          232.39999999999998,
          300.3,
          138.39999999999998,
          304.8,
          279.45,
          72.9,
          239.99999999999997,
          121.9,
          176.45,
          114.6,
          174.65,
          283.25,
          229.59999999999997,
          186.55,
          328.04999999999995,
          148,
          82.35,
          165.54999999999998,
          172.9
         ],
         "yaxis": "y"
        },
        {
         "hovertemplate": "Segment=Good<br>index=%{x}<br>Credit Score=%{y}<extra></extra>",
         "legendgroup": "Good",
         "marker": {
          "color": "red",
          "symbol": "circle"
         },
         "mode": "markers",
         "name": "Good",
         "orientation": "v",
         "showlegend": true,
         "type": "scatter",
         "x": [
          9,
          13,
          15,
          17,
          19,
          20,
          22,
          23,
          25,
          29,
          32,
          35,
          38,
          39,
          40,
          42,
          43,
          45,
          54,
          62,
          66,
          69,
          70,
          80,
          81,
          83,
          87,
          94,
          100,
          102,
          111,
          118,
          119,
          120,
          121,
          124,
          127,
          130,
          131,
          133,
          138,
          139,
          150,
          155,
          159,
          162,
          164,
          167,
          177,
          181,
          183,
          185,
          186,
          189,
          193,
          195,
          197,
          198,
          199,
          201,
          206,
          207,
          209,
          211,
          218,
          223,
          225,
          228,
          231,
          234,
          235,
          236,
          243,
          244,
          262,
          265,
          277,
          280,
          285,
          293,
          294,
          295,
          304,
          306,
          307,
          310,
          312,
          321,
          325,
          326,
          335,
          342,
          346,
          360,
          363,
          374,
          380,
          381,
          386,
          387,
          392,
          395,
          396,
          397,
          401,
          402,
          412,
          419,
          420,
          421,
          423,
          431,
          441,
          442,
          445,
          461,
          473,
          474,
          479,
          483,
          489,
          490,
          498,
          501,
          503,
          510,
          517,
          556,
          557,
          559,
          572,
          576,
          577,
          579,
          580,
          581,
          591,
          596,
          606,
          611,
          616,
          617,
          619,
          623,
          633,
          641,
          643,
          644,
          646,
          648,
          649,
          651,
          652,
          660,
          663,
          664,
          665,
          668,
          671,
          672,
          675,
          676,
          677,
          683,
          684,
          685,
          688,
          692,
          698,
          703,
          708,
          711,
          712,
          713,
          717,
          721,
          734,
          735,
          738,
          750,
          760,
          761,
          768,
          779,
          780,
          785,
          786,
          787,
          790,
          792,
          794,
          796,
          798,
          799,
          803,
          804,
          815,
          829,
          831,
          833,
          834,
          836,
          840,
          841,
          843,
          851,
          853,
          868,
          872,
          881,
          882,
          883,
          886,
          888,
          893,
          894,
          902,
          903,
          909,
          912,
          916,
          920,
          922,
          923,
          928,
          933,
          941,
          942,
          944,
          950,
          953,
          955,
          958,
          960,
          962,
          966,
          968,
          976,
          980,
          984,
          988,
          994,
          996
         ],
         "xaxis": "x",
         "y": [
          619.4499999999999,
          768.6,
          804.1999999999999,
          666.8499999999999,
          782.4,
          642.05,
          725.1,
          848.15,
          706.1999999999999,
          779.4,
          648.1,
          677.2499999999999,
          653.7499999999999,
          767.7499999999999,
          700.8,
          679.85,
          686.3,
          628,
          610.5,
          694.9999999999999,
          849.8499999999999,
          748,
          765.85,
          720.5999999999999,
          675.7499999999999,
          616.8499999999999,
          632.4499999999999,
          771.9999999999999,
          645.6999999999999,
          825.6,
          635,
          837.25,
          703.3,
          621.1,
          771.85,
          816.5,
          785.4499999999999,
          844.2,
          738.65,
          699.3,
          827.2499999999999,
          613.2499999999999,
          669.95,
          842.85,
          700.6,
          673.6999999999999,
          657.5,
          741.6999999999999,
          749.7499999999999,
          659.45,
          825.6499999999999,
          761.4499999999999,
          804.4,
          613.9,
          832.3,
          769.9,
          761.5,
          628.6999999999999,
          774.55,
          835.7499999999999,
          623.55,
          719.1999999999999,
          798.8,
          820.05,
          637.4,
          751.6999999999999,
          698.95,
          678.35,
          683.4499999999999,
          662.3499999999999,
          659.1,
          790.2499999999999,
          677.8499999999999,
          842.15,
          649.5999999999999,
          816.55,
          713.9,
          771.9499999999999,
          824.65,
          622.4,
          680,
          749.05,
          754.6999999999999,
          663.5,
          849.25,
          841.5,
          747.3,
          625.9499999999999,
          785.75,
          839,
          669,
          740.4,
          824.5,
          618.1999999999999,
          858.65,
          683.65,
          858.6,
          821.4,
          718.95,
          613.1999999999999,
          698.25,
          779.55,
          703.3,
          664.3,
          634.3,
          775.1999999999999,
          750.25,
          814.9,
          826.4,
          712.55,
          637.6,
          789.55,
          797.2499999999999,
          731.25,
          806.05,
          731.5,
          649.0999999999999,
          765.9499999999999,
          771.1999999999999,
          799,
          751.6999999999999,
          751.65,
          840.7,
          665.1,
          663,
          774.7499999999999,
          691.4,
          794.3,
          719.8499999999999,
          702.5,
          802.9999999999999,
          809.85,
          631.6,
          796.35,
          770.3,
          645.4,
          694.1,
          805.8499999999999,
          816.6,
          656.4499999999999,
          679.4,
          783.7,
          842.95,
          660.4,
          686.2499999999999,
          652.8499999999999,
          665.65,
          757.4999999999999,
          753.5999999999999,
          793.3,
          825.7,
          743.0999999999999,
          623.9,
          696.9499999999999,
          610.5,
          613.6,
          730.25,
          797.2499999999999,
          747.4,
          807,
          660.2,
          684.5,
          759.15,
          738.3,
          710.2499999999999,
          714.6499999999999,
          810.7,
          810.3,
          788.9,
          853.55,
          637.9999999999999,
          785.6499999999999,
          814.1999999999999,
          670.15,
          811.2,
          833.1999999999999,
          825.8,
          775.35,
          633.7499999999999,
          643.15,
          669.3,
          615.8,
          779.6999999999999,
          767.15,
          793.1499999999999,
          809.3,
          855.9499999999999,
          690.3,
          805.9,
          713.9,
          659.3,
          700.8,
          815.4,
          747.75,
          725.55,
          782.4,
          780.3499999999999,
          804.6,
          836.05,
          746.5,
          681.1,
          768.1,
          772.3,
          632.6499999999999,
          670.7499999999999,
          696.8,
          736.2,
          746.9,
          658.55,
          809.85,
          699.4499999999999,
          811.4,
          829.2,
          806.3,
          840.95,
          838.4999999999999,
          618.05,
          645.1999999999999,
          845.1999999999999,
          663.8,
          696.6499999999999,
          809.65,
          743.4499999999999,
          631.85,
          683.4,
          644.8,
          625.45,
          801.65,
          701.2499999999999,
          622.6999999999999,
          839.1,
          647.1999999999999,
          772,
          802,
          859.95,
          693.1999999999999,
          676.2499999999999,
          825.8,
          691.15,
          830.25,
          811,
          807.8,
          697.65
         ],
         "yaxis": "y"
        }
       ],
       "layout": {
        "legend": {
         "title": {
          "text": "Segment"
         },
         "tracegroupgap": 0
        },
        "margin": {
         "t": 60
        },
        "template": {
         "data": {
          "bar": [
           {
            "error_x": {
             "color": "#2a3f5f"
            },
            "error_y": {
             "color": "#2a3f5f"
            },
            "marker": {
             "line": {
              "color": "#E5ECF6",
              "width": 0.5
             },
             "pattern": {
              "fillmode": "overlay",
              "size": 10,
              "solidity": 0.2
             }
            },
            "type": "bar"
           }
          ],
          "barpolar": [
           {
            "marker": {
             "line": {
              "color": "#E5ECF6",
              "width": 0.5
             },
             "pattern": {
              "fillmode": "overlay",
              "size": 10,
              "solidity": 0.2
             }
            },
            "type": "barpolar"
           }
          ],
          "carpet": [
           {
            "aaxis": {
             "endlinecolor": "#2a3f5f",
             "gridcolor": "white",
             "linecolor": "white",
             "minorgridcolor": "white",
             "startlinecolor": "#2a3f5f"
            },
            "baxis": {
             "endlinecolor": "#2a3f5f",
             "gridcolor": "white",
             "linecolor": "white",
             "minorgridcolor": "white",
             "startlinecolor": "#2a3f5f"
            },
            "type": "carpet"
           }
          ],
          "choropleth": [
           {
            "colorbar": {
             "outlinewidth": 0,
             "ticks": ""
            },
            "type": "choropleth"
           }
          ],
          "contour": [
           {
            "colorbar": {
             "outlinewidth": 0,
             "ticks": ""
            },
            "colorscale": [
             [
              0,
              "#0d0887"
             ],
             [
              0.1111111111111111,
              "#46039f"
             ],
             [
              0.2222222222222222,
              "#7201a8"
             ],
             [
              0.3333333333333333,
              "#9c179e"
             ],
             [
              0.4444444444444444,
              "#bd3786"
             ],
             [
              0.5555555555555556,
              "#d8576b"
             ],
             [
              0.6666666666666666,
              "#ed7953"
             ],
             [
              0.7777777777777778,
              "#fb9f3a"
             ],
             [
              0.8888888888888888,
              "#fdca26"
             ],
             [
              1,
              "#f0f921"
             ]
            ],
            "type": "contour"
           }
          ],
          "contourcarpet": [
           {
            "colorbar": {
             "outlinewidth": 0,
             "ticks": ""
            },
            "type": "contourcarpet"
           }
          ],
          "heatmap": [
           {
            "colorbar": {
             "outlinewidth": 0,
             "ticks": ""
            },
            "colorscale": [
             [
              0,
              "#0d0887"
             ],
             [
              0.1111111111111111,
              "#46039f"
             ],
             [
              0.2222222222222222,
              "#7201a8"
             ],
             [
              0.3333333333333333,
              "#9c179e"
             ],
             [
              0.4444444444444444,
              "#bd3786"
             ],
             [
              0.5555555555555556,
              "#d8576b"
             ],
             [
              0.6666666666666666,
              "#ed7953"
             ],
             [
              0.7777777777777778,
              "#fb9f3a"
             ],
             [
              0.8888888888888888,
              "#fdca26"
             ],
             [
              1,
              "#f0f921"
             ]
            ],
            "type": "heatmap"
           }
          ],
          "heatmapgl": [
           {
            "colorbar": {
             "outlinewidth": 0,
             "ticks": ""
            },
            "colorscale": [
             [
              0,
              "#0d0887"
             ],
             [
              0.1111111111111111,
              "#46039f"
             ],
             [
              0.2222222222222222,
              "#7201a8"
             ],
             [
              0.3333333333333333,
              "#9c179e"
             ],
             [
              0.4444444444444444,
              "#bd3786"
             ],
             [
              0.5555555555555556,
              "#d8576b"
             ],
             [
              0.6666666666666666,
              "#ed7953"
             ],
             [
              0.7777777777777778,
              "#fb9f3a"
             ],
             [
              0.8888888888888888,
              "#fdca26"
             ],
             [
              1,
              "#f0f921"
             ]
            ],
            "type": "heatmapgl"
           }
          ],
          "histogram": [
           {
            "marker": {
             "pattern": {
              "fillmode": "overlay",
              "size": 10,
              "solidity": 0.2
             }
            },
            "type": "histogram"
           }
          ],
          "histogram2d": [
           {
            "colorbar": {
             "outlinewidth": 0,
             "ticks": ""
            },
            "colorscale": [
             [
              0,
              "#0d0887"
             ],
             [
              0.1111111111111111,
              "#46039f"
             ],
             [
              0.2222222222222222,
              "#7201a8"
             ],
             [
              0.3333333333333333,
              "#9c179e"
             ],
             [
              0.4444444444444444,
              "#bd3786"
             ],
             [
              0.5555555555555556,
              "#d8576b"
             ],
             [
              0.6666666666666666,
              "#ed7953"
             ],
             [
              0.7777777777777778,
              "#fb9f3a"
             ],
             [
              0.8888888888888888,
              "#fdca26"
             ],
             [
              1,
              "#f0f921"
             ]
            ],
            "type": "histogram2d"
           }
          ],
          "histogram2dcontour": [
           {
            "colorbar": {
             "outlinewidth": 0,
             "ticks": ""
            },
            "colorscale": [
             [
              0,
              "#0d0887"
             ],
             [
              0.1111111111111111,
              "#46039f"
             ],
             [
              0.2222222222222222,
              "#7201a8"
             ],
             [
              0.3333333333333333,
              "#9c179e"
             ],
             [
              0.4444444444444444,
              "#bd3786"
             ],
             [
              0.5555555555555556,
              "#d8576b"
             ],
             [
              0.6666666666666666,
              "#ed7953"
             ],
             [
              0.7777777777777778,
              "#fb9f3a"
             ],
             [
              0.8888888888888888,
              "#fdca26"
             ],
             [
              1,
              "#f0f921"
             ]
            ],
            "type": "histogram2dcontour"
           }
          ],
          "mesh3d": [
           {
            "colorbar": {
             "outlinewidth": 0,
             "ticks": ""
            },
            "type": "mesh3d"
           }
          ],
          "parcoords": [
           {
            "line": {
             "colorbar": {
              "outlinewidth": 0,
              "ticks": ""
             }
            },
            "type": "parcoords"
           }
          ],
          "pie": [
           {
            "automargin": true,
            "type": "pie"
           }
          ],
          "scatter": [
           {
            "fillpattern": {
             "fillmode": "overlay",
             "size": 10,
             "solidity": 0.2
            },
            "type": "scatter"
           }
          ],
          "scatter3d": [
           {
            "line": {
             "colorbar": {
              "outlinewidth": 0,
              "ticks": ""
             }
            },
            "marker": {
             "colorbar": {
              "outlinewidth": 0,
              "ticks": ""
             }
            },
            "type": "scatter3d"
           }
          ],
          "scattercarpet": [
           {
            "marker": {
             "colorbar": {
              "outlinewidth": 0,
              "ticks": ""
             }
            },
            "type": "scattercarpet"
           }
          ],
          "scattergeo": [
           {
            "marker": {
             "colorbar": {
              "outlinewidth": 0,
              "ticks": ""
             }
            },
            "type": "scattergeo"
           }
          ],
          "scattergl": [
           {
            "marker": {
             "colorbar": {
              "outlinewidth": 0,
              "ticks": ""
             }
            },
            "type": "scattergl"
           }
          ],
          "scattermapbox": [
           {
            "marker": {
             "colorbar": {
              "outlinewidth": 0,
              "ticks": ""
             }
            },
            "type": "scattermapbox"
           }
          ],
          "scatterpolar": [
           {
            "marker": {
             "colorbar": {
              "outlinewidth": 0,
              "ticks": ""
             }
            },
            "type": "scatterpolar"
           }
          ],
          "scatterpolargl": [
           {
            "marker": {
             "colorbar": {
              "outlinewidth": 0,
              "ticks": ""
             }
            },
            "type": "scatterpolargl"
           }
          ],
          "scatterternary": [
           {
            "marker": {
             "colorbar": {
              "outlinewidth": 0,
              "ticks": ""
             }
            },
            "type": "scatterternary"
           }
          ],
          "surface": [
           {
            "colorbar": {
             "outlinewidth": 0,
             "ticks": ""
            },
            "colorscale": [
             [
              0,
              "#0d0887"
             ],
             [
              0.1111111111111111,
              "#46039f"
             ],
             [
              0.2222222222222222,
              "#7201a8"
             ],
             [
              0.3333333333333333,
              "#9c179e"
             ],
             [
              0.4444444444444444,
              "#bd3786"
             ],
             [
              0.5555555555555556,
              "#d8576b"
             ],
             [
              0.6666666666666666,
              "#ed7953"
             ],
             [
              0.7777777777777778,
              "#fb9f3a"
             ],
             [
              0.8888888888888888,
              "#fdca26"
             ],
             [
              1,
              "#f0f921"
             ]
            ],
            "type": "surface"
           }
          ],
          "table": [
           {
            "cells": {
             "fill": {
              "color": "#EBF0F8"
             },
             "line": {
              "color": "white"
             }
            },
            "header": {
             "fill": {
              "color": "#C8D4E3"
             },
             "line": {
              "color": "white"
             }
            },
            "type": "table"
           }
          ]
         },
         "layout": {
          "annotationdefaults": {
           "arrowcolor": "#2a3f5f",
           "arrowhead": 0,
           "arrowwidth": 1
          },
          "autotypenumbers": "strict",
          "coloraxis": {
           "colorbar": {
            "outlinewidth": 0,
            "ticks": ""
           }
          },
          "colorscale": {
           "diverging": [
            [
             0,
             "#8e0152"
            ],
            [
             0.1,
             "#c51b7d"
            ],
            [
             0.2,
             "#de77ae"
            ],
            [
             0.3,
             "#f1b6da"
            ],
            [
             0.4,
             "#fde0ef"
            ],
            [
             0.5,
             "#f7f7f7"
            ],
            [
             0.6,
             "#e6f5d0"
            ],
            [
             0.7,
             "#b8e186"
            ],
            [
             0.8,
             "#7fbc41"
            ],
            [
             0.9,
             "#4d9221"
            ],
            [
             1,
             "#276419"
            ]
           ],
           "sequential": [
            [
             0,
             "#0d0887"
            ],
            [
             0.1111111111111111,
             "#46039f"
            ],
            [
             0.2222222222222222,
             "#7201a8"
            ],
            [
             0.3333333333333333,
             "#9c179e"
            ],
            [
             0.4444444444444444,
             "#bd3786"
            ],
            [
             0.5555555555555556,
             "#d8576b"
            ],
            [
             0.6666666666666666,
             "#ed7953"
            ],
            [
             0.7777777777777778,
             "#fb9f3a"
            ],
            [
             0.8888888888888888,
             "#fdca26"
            ],
            [
             1,
             "#f0f921"
            ]
           ],
           "sequentialminus": [
            [
             0,
             "#0d0887"
            ],
            [
             0.1111111111111111,
             "#46039f"
            ],
            [
             0.2222222222222222,
             "#7201a8"
            ],
            [
             0.3333333333333333,
             "#9c179e"
            ],
            [
             0.4444444444444444,
             "#bd3786"
            ],
            [
             0.5555555555555556,
             "#d8576b"
            ],
            [
             0.6666666666666666,
             "#ed7953"
            ],
            [
             0.7777777777777778,
             "#fb9f3a"
            ],
            [
             0.8888888888888888,
             "#fdca26"
            ],
            [
             1,
             "#f0f921"
            ]
           ]
          },
          "colorway": [
           "#636efa",
           "#EF553B",
           "#00cc96",
           "#ab63fa",
           "#FFA15A",
           "#19d3f3",
           "#FF6692",
           "#B6E880",
           "#FF97FF",
           "#FECB52"
          ],
          "font": {
           "color": "#2a3f5f"
          },
          "geo": {
           "bgcolor": "white",
           "lakecolor": "white",
           "landcolor": "#E5ECF6",
           "showlakes": true,
           "showland": true,
           "subunitcolor": "white"
          },
          "hoverlabel": {
           "align": "left"
          },
          "hovermode": "closest",
          "mapbox": {
           "style": "light"
          },
          "paper_bgcolor": "white",
          "plot_bgcolor": "#E5ECF6",
          "polar": {
           "angularaxis": {
            "gridcolor": "white",
            "linecolor": "white",
            "ticks": ""
           },
           "bgcolor": "#E5ECF6",
           "radialaxis": {
            "gridcolor": "white",
            "linecolor": "white",
            "ticks": ""
           }
          },
          "scene": {
           "xaxis": {
            "backgroundcolor": "#E5ECF6",
            "gridcolor": "white",
            "gridwidth": 2,
            "linecolor": "white",
            "showbackground": true,
            "ticks": "",
            "zerolinecolor": "white"
           },
           "yaxis": {
            "backgroundcolor": "#E5ECF6",
            "gridcolor": "white",
            "gridwidth": 2,
            "linecolor": "white",
            "showbackground": true,
            "ticks": "",
            "zerolinecolor": "white"
           },
           "zaxis": {
            "backgroundcolor": "#E5ECF6",
            "gridcolor": "white",
            "gridwidth": 2,
            "linecolor": "white",
            "showbackground": true,
            "ticks": "",
            "zerolinecolor": "white"
           }
          },
          "shapedefaults": {
           "line": {
            "color": "#2a3f5f"
           }
          },
          "ternary": {
           "aaxis": {
            "gridcolor": "white",
            "linecolor": "white",
            "ticks": ""
           },
           "baxis": {
            "gridcolor": "white",
            "linecolor": "white",
            "ticks": ""
           },
           "bgcolor": "#E5ECF6",
           "caxis": {
            "gridcolor": "white",
            "linecolor": "white",
            "ticks": ""
           }
          },
          "title": {
           "x": 0.05
          },
          "xaxis": {
           "automargin": true,
           "gridcolor": "white",
           "linecolor": "white",
           "ticks": "",
           "title": {
            "standoff": 15
           },
           "zerolinecolor": "white",
           "zerolinewidth": 2
          },
          "yaxis": {
           "automargin": true,
           "gridcolor": "white",
           "linecolor": "white",
           "ticks": "",
           "title": {
            "standoff": 15
           },
           "zerolinecolor": "white",
           "zerolinewidth": 2
          }
         }
        },
        "title": {
         "text": "Customer Segmentation based on Credit Scores"
        },
        "xaxis": {
         "anchor": "y",
         "domain": [
          0,
          1
         ],
         "title": {
          "text": "Customer Index"
         }
        },
        "yaxis": {
         "anchor": "x",
         "domain": [
          0,
          1
         ],
         "title": {
          "text": "Credit Score"
         }
        }
       }
      }
     },
     "metadata": {},
     "output_type": "display_data"
    }
   ],
   "source": [
    "df['Segment'] = df['Segment'].map({2: 'Very Low', \n",
    "                                    0: 'Low',\n",
    "                                    3: 'Good',\n",
    "                                    1: \"Excellent\"})\n",
    "\n",
    "# Convert the 'Segment' column to category df type\n",
    "df['Segment'] = df['Segment'].astype('category')\n",
    "\n",
    "# Visualize the segments using Plotly\n",
    "fig = px.scatter(df, x=df.index, y='Credit Score', color='Segment',\n",
    "                 color_discrete_sequence=['green', 'blue', 'yellow', 'red'])\n",
    "fig.update_layout(\n",
    "    xaxis_title='Customer Index',\n",
    "    yaxis_title='Credit Score',\n",
    "    title='Customer Segmentation based on Credit Scores'\n",
    ")\n",
    "fig.show()"
   ]
  },
  {
   "cell_type": "code",
   "execution_count": null,
   "metadata": {},
   "outputs": [],
   "source": []
  }
 ],
 "metadata": {
  "kernelspec": {
   "display_name": "Python 3",
   "language": "python",
   "name": "python3"
  },
  "language_info": {
   "codemirror_mode": {
    "name": "ipython",
    "version": 3
   },
   "file_extension": ".py",
   "mimetype": "text/x-python",
   "name": "python",
   "nbconvert_exporter": "python",
   "pygments_lexer": "ipython3",
   "version": "3.10.11"
  }
 },
 "nbformat": 4,
 "nbformat_minor": 2
}
